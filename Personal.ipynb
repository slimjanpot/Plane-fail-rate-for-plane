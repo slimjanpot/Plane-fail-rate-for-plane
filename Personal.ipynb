{
 "cells": [
  {
   "cell_type": "markdown",
   "metadata": {},
   "source": [
    "<span style=\"font-size:30px;\">Summary</span>"
   ]
  },
  {
   "cell_type": "markdown",
   "metadata": {},
   "source": [
    "The size of the data set has 372 rows.\n",
    "\n",
    "The TSN value is seen as an object and not float.\n",
    "\n",
    "Found that the Serial number is 187, this is the unique id of the item and there should be multiple values so this fits.\n",
    "\n",
    "Next I saw that the TSN which should be unique value is 177 which is similar to the Serial number and this is wrong. There should be a lot more unique values.\n",
    "\n",
    "I check to see what the desperity of the values are for the short text for code, which is the reason it went for repairs. What I found was that majority of 292 are for repairs.\n",
    "\n",
    "For the TSN I needed to find out why the unique values is so low and the reason was that per Serial Number the TSN value will be the same. I show this on code bracket 11 and 12.\n",
    "\n",
    "The TSN value that was recorded is the total of all the repairs and not split between them.\n",
    "\n",
    "By nowing this I created a new table with columns Serial Number, TSN and Number Repair. The Number Repair is the amount of rows thats there for each Serial Number.\n",
    "\n",
    "Next I need to convert the TSN to a float and in doing that I found that there are UNK values. I decided to remove those values due to not being able to do anything with that value.\n",
    "\n",
    "The next step was creating the model and the Evaluation for it is below."
   ]
  },
  {
   "cell_type": "code",
   "execution_count": 356,
   "metadata": {},
   "outputs": [],
   "source": [
    "import pandas as pd\n",
    "import seaborn as sns\n",
    "import matplotlib.pyplot as plt\n",
    "import matplotlib.colors as mcolors\n",
    "from sklearn.metrics import max_error\n",
    "from sklearn.metrics import mean_squared_error\n",
    "import math\n",
    "import numpy as np\n",
    "from sklearn.linear_model import LinearRegression\n",
    "from sklearn.ensemble import RandomForestRegressor\n",
    "from datetime import datetime"
   ]
  },
  {
   "cell_type": "markdown",
   "metadata": {},
   "source": [
    "<span style=\"font-size:30px;\">Data Understanding</span>\n"
   ]
  },
  {
   "cell_type": "markdown",
   "metadata": {},
   "source": [
    "I will first just load all the data and then look at the columns, the size of the data set, the type each column is."
   ]
  },
  {
   "cell_type": "code",
   "execution_count": 357,
   "metadata": {},
   "outputs": [],
   "source": [
    "df = pd.read_csv('Project.csv')"
   ]
  },
  {
   "cell_type": "code",
   "execution_count": 358,
   "metadata": {},
   "outputs": [
    {
     "data": {
      "text/plain": [
       "(372, 10)"
      ]
     },
     "execution_count": 358,
     "metadata": {},
     "output_type": "execute_result"
    }
   ],
   "source": [
    "df.shape"
   ]
  },
  {
   "cell_type": "code",
   "execution_count": 359,
   "metadata": {},
   "outputs": [
    {
     "data": {
      "text/plain": [
       "Index(['Created On', 'Short text for code', 'Item Description',\n",
       "       'Serial Number', 'A/C Serial No.', 'TAT Cust. Calculated (days)',\n",
       "       'TAT Supplier calculated (days)', 'Completion by date',\n",
       "       'TSN Component (Off)(hours)', 'Equipment'],\n",
       "      dtype='object')"
      ]
     },
     "execution_count": 359,
     "metadata": {},
     "output_type": "execute_result"
    }
   ],
   "source": [
    "df.columns"
   ]
  },
  {
   "cell_type": "code",
   "execution_count": 360,
   "metadata": {},
   "outputs": [
    {
     "data": {
      "text/plain": [
       "Created On                         object\n",
       "Short text for code                object\n",
       "Item Description                   object\n",
       "Serial Number                      object\n",
       "A/C Serial No.                    float64\n",
       "TAT Cust. Calculated (days)        object\n",
       "TAT Supplier calculated (days)     object\n",
       "Completion by date                 object\n",
       "TSN Component (Off)(hours)         object\n",
       "Equipment                           int64\n",
       "dtype: object"
      ]
     },
     "execution_count": 360,
     "metadata": {},
     "output_type": "execute_result"
    }
   ],
   "source": [
    "df.dtypes"
   ]
  },
  {
   "cell_type": "markdown",
   "metadata": {},
   "source": [
    "Next I want to see what columns have unique values."
   ]
  },
  {
   "cell_type": "code",
   "execution_count": 361,
   "metadata": {},
   "outputs": [
    {
     "data": {
      "text/plain": [
       "Created On                        297\n",
       "Short text for code                 7\n",
       "Item Description                    1\n",
       "Serial Number                     187\n",
       "TAT Cust. Calculated (days)       172\n",
       "TAT Supplier calculated (days)    173\n",
       "Completion by date                234\n",
       "TSN Component (Off)(hours)        177\n",
       "dtype: int64"
      ]
     },
     "execution_count": 361,
     "metadata": {},
     "output_type": "execute_result"
    }
   ],
   "source": [
    "df.select_dtypes(include=[\"object\"]).nunique()"
   ]
  },
  {
   "cell_type": "markdown",
   "metadata": {},
   "source": [
    "The above data makes sense due to the main component that should not have a lot of unique values which is Short text for code and the Item Description. The Short text for code is the reason it went into repair and the Item Description is the type of item it is.\n",
    "\n",
    "Take note that there are 372 lines in the dataset, however there are only 187 different Serial Numbers (it's the id), and there are only 177 different TSN Components."
   ]
  },
  {
   "cell_type": "markdown",
   "metadata": {},
   "source": [
    "Here I will check what the Unique values are for the columns with the least unique values."
   ]
  },
  {
   "cell_type": "code",
   "execution_count": 362,
   "metadata": {},
   "outputs": [
    {
     "data": {
      "text/plain": [
       "array(['ACTUATOR,SERVO'], dtype=object)"
      ]
     },
     "execution_count": 362,
     "metadata": {},
     "output_type": "execute_result"
    }
   ],
   "source": [
    "df['Item Description'].unique()"
   ]
  },
  {
   "cell_type": "code",
   "execution_count": 363,
   "metadata": {},
   "outputs": [
    {
     "data": {
      "text/plain": [
       "array(['MODIFICATION', 'REPAIR', 'NO FAULT FOUND', 'WARRANTY', nan,\n",
       "       'RE-QUALIFICATION', 'INSPECTION / TEST', 'INVESTIGATION'],\n",
       "      dtype=object)"
      ]
     },
     "execution_count": 363,
     "metadata": {},
     "output_type": "execute_result"
    }
   ],
   "source": [
    "df['Short text for code'].unique()"
   ]
  },
  {
   "cell_type": "code",
   "execution_count": 364,
   "metadata": {},
   "outputs": [
    {
     "data": {
      "text/html": [
       "<div>\n",
       "<style scoped>\n",
       "    .dataframe tbody tr th:only-of-type {\n",
       "        vertical-align: middle;\n",
       "    }\n",
       "\n",
       "    .dataframe tbody tr th {\n",
       "        vertical-align: top;\n",
       "    }\n",
       "\n",
       "    .dataframe thead th {\n",
       "        text-align: right;\n",
       "    }\n",
       "</style>\n",
       "<table border=\"1\" class=\"dataframe\">\n",
       "  <thead>\n",
       "    <tr style=\"text-align: right;\">\n",
       "      <th></th>\n",
       "      <th>Created On</th>\n",
       "      <th>Short text for code</th>\n",
       "      <th>Item Description</th>\n",
       "      <th>Serial Number</th>\n",
       "      <th>A/C Serial No.</th>\n",
       "      <th>TAT Cust. Calculated (days)</th>\n",
       "      <th>TAT Supplier calculated (days)</th>\n",
       "      <th>Completion by date</th>\n",
       "      <th>TSN Component (Off)(hours)</th>\n",
       "      <th>Equipment</th>\n",
       "    </tr>\n",
       "  </thead>\n",
       "  <tbody>\n",
       "    <tr>\n",
       "      <th>180</th>\n",
       "      <td>30/03/2021</td>\n",
       "      <td>REPAIR</td>\n",
       "      <td>ACTUATOR,SERVO</td>\n",
       "      <td>1166</td>\n",
       "      <td>275.0</td>\n",
       "      <td>0</td>\n",
       "      <td>314</td>\n",
       "      <td>17/03/2022</td>\n",
       "      <td>709.90</td>\n",
       "      <td>10788831</td>\n",
       "    </tr>\n",
       "    <tr>\n",
       "      <th>47</th>\n",
       "      <td>15/05/2017</td>\n",
       "      <td>REPAIR</td>\n",
       "      <td>ACTUATOR,SERVO</td>\n",
       "      <td>100</td>\n",
       "      <td>175.0</td>\n",
       "      <td>129</td>\n",
       "      <td>126</td>\n",
       "      <td>21/09/2017</td>\n",
       "      <td>1033.88</td>\n",
       "      <td>10523520</td>\n",
       "    </tr>\n",
       "    <tr>\n",
       "      <th>178</th>\n",
       "      <td>17/03/2021</td>\n",
       "      <td>REPAIR</td>\n",
       "      <td>ACTUATOR,SERVO</td>\n",
       "      <td>1052</td>\n",
       "      <td>219.0</td>\n",
       "      <td>244</td>\n",
       "      <td>208</td>\n",
       "      <td>16/11/2021</td>\n",
       "      <td>1220.00</td>\n",
       "      <td>10551296</td>\n",
       "    </tr>\n",
       "    <tr>\n",
       "      <th>227</th>\n",
       "      <td>07/02/2022</td>\n",
       "      <td>REPAIR</td>\n",
       "      <td>ACTUATOR,SERVO</td>\n",
       "      <td>1190</td>\n",
       "      <td>265.0</td>\n",
       "      <td>263</td>\n",
       "      <td>218</td>\n",
       "      <td>28/10/2022</td>\n",
       "      <td>447.80</td>\n",
       "      <td>10876237</td>\n",
       "    </tr>\n",
       "    <tr>\n",
       "      <th>50</th>\n",
       "      <td>06/07/2017</td>\n",
       "      <td>NO FAULT FOUND</td>\n",
       "      <td>ACTUATOR,SERVO</td>\n",
       "      <td>1052</td>\n",
       "      <td>218.0</td>\n",
       "      <td>129</td>\n",
       "      <td>104</td>\n",
       "      <td>16/11/2017</td>\n",
       "      <td>1220.00</td>\n",
       "      <td>10551296</td>\n",
       "    </tr>\n",
       "    <tr>\n",
       "      <th>168</th>\n",
       "      <td>07/01/2021</td>\n",
       "      <td>REPAIR</td>\n",
       "      <td>ACTUATOR,SERVO</td>\n",
       "      <td>1017</td>\n",
       "      <td>166.0</td>\n",
       "      <td>179</td>\n",
       "      <td>136</td>\n",
       "      <td>11/07/2021</td>\n",
       "      <td>1571.63</td>\n",
       "      <td>10498694</td>\n",
       "    </tr>\n",
       "    <tr>\n",
       "      <th>208</th>\n",
       "      <td>07/10/2021</td>\n",
       "      <td>REPAIR</td>\n",
       "      <td>ACTUATOR,SERVO</td>\n",
       "      <td>1110</td>\n",
       "      <td>229.0</td>\n",
       "      <td>150</td>\n",
       "      <td>131</td>\n",
       "      <td>06/03/2022</td>\n",
       "      <td>1189.00</td>\n",
       "      <td>10702932</td>\n",
       "    </tr>\n",
       "    <tr>\n",
       "      <th>61</th>\n",
       "      <td>25/12/2017</td>\n",
       "      <td>NO FAULT FOUND</td>\n",
       "      <td>ACTUATOR,SERVO</td>\n",
       "      <td>1059</td>\n",
       "      <td>178.0</td>\n",
       "      <td>188</td>\n",
       "      <td>106</td>\n",
       "      <td>02/07/2018</td>\n",
       "      <td>1131.70</td>\n",
       "      <td>10554958</td>\n",
       "    </tr>\n",
       "    <tr>\n",
       "      <th>275</th>\n",
       "      <td>13/02/2023</td>\n",
       "      <td>REPAIR</td>\n",
       "      <td>ACTUATOR,SERVO</td>\n",
       "      <td>1008</td>\n",
       "      <td>157.0</td>\n",
       "      <td>131</td>\n",
       "      <td>76</td>\n",
       "      <td>27/06/2023</td>\n",
       "      <td>1550.45</td>\n",
       "      <td>10494573</td>\n",
       "    </tr>\n",
       "    <tr>\n",
       "      <th>231</th>\n",
       "      <td>22/03/2022</td>\n",
       "      <td>NO FAULT FOUND</td>\n",
       "      <td>ACTUATOR,SERVO</td>\n",
       "      <td>1145</td>\n",
       "      <td>274.0</td>\n",
       "      <td>101</td>\n",
       "      <td>55</td>\n",
       "      <td>01/08/2022</td>\n",
       "      <td>149.80</td>\n",
       "      <td>10759549</td>\n",
       "    </tr>\n",
       "  </tbody>\n",
       "</table>\n",
       "</div>"
      ],
      "text/plain": [
       "     Created On Short text for code Item Description Serial Number  \\\n",
       "180  30/03/2021              REPAIR   ACTUATOR,SERVO          1166   \n",
       "47   15/05/2017              REPAIR   ACTUATOR,SERVO           100   \n",
       "178  17/03/2021              REPAIR   ACTUATOR,SERVO          1052   \n",
       "227  07/02/2022              REPAIR   ACTUATOR,SERVO          1190   \n",
       "50   06/07/2017      NO FAULT FOUND   ACTUATOR,SERVO          1052   \n",
       "168  07/01/2021              REPAIR   ACTUATOR,SERVO          1017   \n",
       "208  07/10/2021              REPAIR   ACTUATOR,SERVO          1110   \n",
       "61   25/12/2017      NO FAULT FOUND   ACTUATOR,SERVO          1059   \n",
       "275  13/02/2023              REPAIR   ACTUATOR,SERVO          1008   \n",
       "231  22/03/2022      NO FAULT FOUND   ACTUATOR,SERVO          1145   \n",
       "\n",
       "     A/C Serial No. TAT Cust. Calculated (days)  \\\n",
       "180           275.0                           0   \n",
       "47            175.0                         129   \n",
       "178           219.0                         244   \n",
       "227           265.0                         263   \n",
       "50            218.0                         129   \n",
       "168           166.0                         179   \n",
       "208           229.0                         150   \n",
       "61            178.0                         188   \n",
       "275           157.0                         131   \n",
       "231           274.0                         101   \n",
       "\n",
       "    TAT Supplier calculated (days) Completion by date  \\\n",
       "180                            314         17/03/2022   \n",
       "47                             126         21/09/2017   \n",
       "178                            208         16/11/2021   \n",
       "227                            218         28/10/2022   \n",
       "50                             104         16/11/2017   \n",
       "168                            136         11/07/2021   \n",
       "208                            131         06/03/2022   \n",
       "61                             106         02/07/2018   \n",
       "275                             76         27/06/2023   \n",
       "231                             55         01/08/2022   \n",
       "\n",
       "    TSN Component (Off)(hours)  Equipment  \n",
       "180                     709.90   10788831  \n",
       "47                     1033.88   10523520  \n",
       "178                    1220.00   10551296  \n",
       "227                     447.80   10876237  \n",
       "50                     1220.00   10551296  \n",
       "168                    1571.63   10498694  \n",
       "208                    1189.00   10702932  \n",
       "61                     1131.70   10554958  \n",
       "275                    1550.45   10494573  \n",
       "231                     149.80   10759549  "
      ]
     },
     "execution_count": 364,
     "metadata": {},
     "output_type": "execute_result"
    }
   ],
   "source": [
    "df.sample(10)"
   ]
  },
  {
   "cell_type": "markdown",
   "metadata": {},
   "source": [
    "Above you can see the first 10 samples of the dataset and this is to gain an idea of the data. The main feature of the dataset is the TSN Component. The unique value for the part is the Serial Number. Short text for code is the reason it went into repair. \n",
    "\n",
    "Next I want to see the amount of data for each short text for code. This is to see if there is a large distribution between the values."
   ]
  },
  {
   "cell_type": "code",
   "execution_count": 365,
   "metadata": {},
   "outputs": [
    {
     "data": {
      "text/plain": [
       "Short text for code\n",
       "INSPECTION / TEST     10\n",
       "INVESTIGATION          1\n",
       "MODIFICATION           8\n",
       "NO FAULT FOUND        23\n",
       "RE-QUALIFICATION       1\n",
       "REPAIR               292\n",
       "WARRANTY              18\n",
       "Name: Short text for code, dtype: int64"
      ]
     },
     "execution_count": 365,
     "metadata": {},
     "output_type": "execute_result"
    }
   ],
   "source": [
    "df.groupby(['Short text for code'])['Short text for code'].count()"
   ]
  },
  {
   "cell_type": "markdown",
   "metadata": {},
   "source": [
    "In the group above we can see that majority of the parts problem was that it needed a repair which is 292, the second most is 23 for No Fault Found. From this I will mostly just focus on the Repair and for now I will not use this to determine the accuracy in the algorithm."
   ]
  },
  {
   "cell_type": "markdown",
   "metadata": {},
   "source": [
    "From what we saw before there are only 177 different TSN unique values which is strange with the amount of rows in the data set. I went and inspected the datasheet and from what I saw looking through the excel sheet is that the TSN has the same date for a single serial number. I will show it below."
   ]
  },
  {
   "cell_type": "code",
   "execution_count": 366,
   "metadata": {},
   "outputs": [
    {
     "data": {
      "text/html": [
       "<div>\n",
       "<style scoped>\n",
       "    .dataframe tbody tr th:only-of-type {\n",
       "        vertical-align: middle;\n",
       "    }\n",
       "\n",
       "    .dataframe tbody tr th {\n",
       "        vertical-align: top;\n",
       "    }\n",
       "\n",
       "    .dataframe thead th {\n",
       "        text-align: right;\n",
       "    }\n",
       "</style>\n",
       "<table border=\"1\" class=\"dataframe\">\n",
       "  <thead>\n",
       "    <tr style=\"text-align: right;\">\n",
       "      <th></th>\n",
       "      <th>Created On</th>\n",
       "      <th>Short text for code</th>\n",
       "      <th>Item Description</th>\n",
       "      <th>Serial Number</th>\n",
       "      <th>A/C Serial No.</th>\n",
       "      <th>TAT Cust. Calculated (days)</th>\n",
       "      <th>TAT Supplier calculated (days)</th>\n",
       "      <th>Completion by date</th>\n",
       "      <th>TSN Component (Off)(hours)</th>\n",
       "      <th>Equipment</th>\n",
       "    </tr>\n",
       "  </thead>\n",
       "  <tbody>\n",
       "    <tr>\n",
       "      <th>0</th>\n",
       "      <td>09/07/2013</td>\n",
       "      <td>MODIFICATION</td>\n",
       "      <td>ACTUATOR,SERVO</td>\n",
       "      <td>19</td>\n",
       "      <td>NaN</td>\n",
       "      <td>106</td>\n",
       "      <td>197</td>\n",
       "      <td>16/10/2013</td>\n",
       "      <td>497.52</td>\n",
       "      <td>10252617</td>\n",
       "    </tr>\n",
       "    <tr>\n",
       "      <th>15</th>\n",
       "      <td>11/09/2014</td>\n",
       "      <td>REPAIR</td>\n",
       "      <td>ACTUATOR,SERVO</td>\n",
       "      <td>19</td>\n",
       "      <td>NaN</td>\n",
       "      <td>0</td>\n",
       "      <td>133</td>\n",
       "      <td>28/05/2015</td>\n",
       "      <td>497.52</td>\n",
       "      <td>10252617</td>\n",
       "    </tr>\n",
       "    <tr>\n",
       "      <th>27</th>\n",
       "      <td>12/07/2016</td>\n",
       "      <td>REPAIR</td>\n",
       "      <td>ACTUATOR,SERVO</td>\n",
       "      <td>19</td>\n",
       "      <td>107.0</td>\n",
       "      <td>1,087</td>\n",
       "      <td>1,087</td>\n",
       "      <td>20/08/2019</td>\n",
       "      <td>497.52</td>\n",
       "      <td>10252617</td>\n",
       "    </tr>\n",
       "    <tr>\n",
       "      <th>350</th>\n",
       "      <td>24/11/2023</td>\n",
       "      <td>REPAIR</td>\n",
       "      <td>ACTUATOR,SERVO</td>\n",
       "      <td>19</td>\n",
       "      <td>103.0</td>\n",
       "      <td>104</td>\n",
       "      <td>104</td>\n",
       "      <td>NaN</td>\n",
       "      <td>497.52</td>\n",
       "      <td>10252617</td>\n",
       "    </tr>\n",
       "  </tbody>\n",
       "</table>\n",
       "</div>"
      ],
      "text/plain": [
       "     Created On Short text for code Item Description Serial Number  \\\n",
       "0    09/07/2013        MODIFICATION   ACTUATOR,SERVO            19   \n",
       "15   11/09/2014              REPAIR   ACTUATOR,SERVO            19   \n",
       "27   12/07/2016              REPAIR   ACTUATOR,SERVO            19   \n",
       "350  24/11/2023              REPAIR   ACTUATOR,SERVO            19   \n",
       "\n",
       "     A/C Serial No. TAT Cust. Calculated (days)  \\\n",
       "0               NaN                         106   \n",
       "15              NaN                           0   \n",
       "27            107.0                       1,087   \n",
       "350           103.0                         104   \n",
       "\n",
       "    TAT Supplier calculated (days) Completion by date  \\\n",
       "0                              197         16/10/2013   \n",
       "15                             133         28/05/2015   \n",
       "27                           1,087         20/08/2019   \n",
       "350                            104                NaN   \n",
       "\n",
       "    TSN Component (Off)(hours)  Equipment  \n",
       "0                       497.52   10252617  \n",
       "15                      497.52   10252617  \n",
       "27                      497.52   10252617  \n",
       "350                     497.52   10252617  "
      ]
     },
     "execution_count": 366,
     "metadata": {},
     "output_type": "execute_result"
    }
   ],
   "source": [
    "\n",
    "specific_id = '19'\n",
    "\n",
    "lines_for_specific_id = df[df['Serial Number'] == specific_id]\n",
    "\n",
    "lines_for_specific_id"
   ]
  },
  {
   "cell_type": "code",
   "execution_count": 367,
   "metadata": {},
   "outputs": [
    {
     "data": {
      "text/html": [
       "<div>\n",
       "<style scoped>\n",
       "    .dataframe tbody tr th:only-of-type {\n",
       "        vertical-align: middle;\n",
       "    }\n",
       "\n",
       "    .dataframe tbody tr th {\n",
       "        vertical-align: top;\n",
       "    }\n",
       "\n",
       "    .dataframe thead th {\n",
       "        text-align: right;\n",
       "    }\n",
       "</style>\n",
       "<table border=\"1\" class=\"dataframe\">\n",
       "  <thead>\n",
       "    <tr style=\"text-align: right;\">\n",
       "      <th></th>\n",
       "      <th>Serial Number</th>\n",
       "      <th>TSN Component (Off)(hours)</th>\n",
       "    </tr>\n",
       "  </thead>\n",
       "  <tbody>\n",
       "    <tr>\n",
       "      <th>0</th>\n",
       "      <td>19</td>\n",
       "      <td>497.52</td>\n",
       "    </tr>\n",
       "    <tr>\n",
       "      <th>15</th>\n",
       "      <td>19</td>\n",
       "      <td>497.52</td>\n",
       "    </tr>\n",
       "    <tr>\n",
       "      <th>27</th>\n",
       "      <td>19</td>\n",
       "      <td>497.52</td>\n",
       "    </tr>\n",
       "    <tr>\n",
       "      <th>350</th>\n",
       "      <td>19</td>\n",
       "      <td>497.52</td>\n",
       "    </tr>\n",
       "  </tbody>\n",
       "</table>\n",
       "</div>"
      ],
      "text/plain": [
       "    Serial Number TSN Component (Off)(hours)\n",
       "0              19                     497.52\n",
       "15             19                     497.52\n",
       "27             19                     497.52\n",
       "350            19                     497.52"
      ]
     },
     "execution_count": 367,
     "metadata": {},
     "output_type": "execute_result"
    }
   ],
   "source": [
    "lines_for_specific_id = df[df['Serial Number'] == '19']\n",
    "lines_for_specific_id[['Serial Number', 'TSN Component (Off)(hours)']]"
   ]
  },
  {
   "cell_type": "markdown",
   "metadata": {},
   "source": [
    "<span style=\"font-size:30px;\">Data Preperation</span>"
   ]
  },
  {
   "cell_type": "markdown",
   "metadata": {},
   "source": [
    "As seen in the example above the TSN is the same for Serial Number 19. Now I did ask the client about this and the answer I got back is that the TSN value that is shown is the total amount of hours the part has flown.\n",
    "\n",
    "For the next step I am going to make a new data table that will contain the id, TSN, and the number of repairs/changes."
   ]
  },
  {
   "cell_type": "code",
   "execution_count": 368,
   "metadata": {},
   "outputs": [
    {
     "data": {
      "text/html": [
       "<div>\n",
       "<style scoped>\n",
       "    .dataframe tbody tr th:only-of-type {\n",
       "        vertical-align: middle;\n",
       "    }\n",
       "\n",
       "    .dataframe tbody tr th {\n",
       "        vertical-align: top;\n",
       "    }\n",
       "\n",
       "    .dataframe thead th {\n",
       "        text-align: right;\n",
       "    }\n",
       "</style>\n",
       "<table border=\"1\" class=\"dataframe\">\n",
       "  <thead>\n",
       "    <tr style=\"text-align: right;\">\n",
       "      <th></th>\n",
       "      <th>Serial Number</th>\n",
       "      <th>TSN Component (Off)(hours)</th>\n",
       "      <th>Number Repair</th>\n",
       "    </tr>\n",
       "  </thead>\n",
       "  <tbody>\n",
       "    <tr>\n",
       "      <th>0</th>\n",
       "      <td>19</td>\n",
       "      <td>497.52</td>\n",
       "      <td>4</td>\n",
       "    </tr>\n",
       "    <tr>\n",
       "      <th>1</th>\n",
       "      <td>26</td>\n",
       "      <td>3864.18</td>\n",
       "      <td>2</td>\n",
       "    </tr>\n",
       "    <tr>\n",
       "      <th>2</th>\n",
       "      <td>44</td>\n",
       "      <td>999.05</td>\n",
       "      <td>1</td>\n",
       "    </tr>\n",
       "    <tr>\n",
       "      <th>3</th>\n",
       "      <td>47</td>\n",
       "      <td>2113.90</td>\n",
       "      <td>2</td>\n",
       "    </tr>\n",
       "    <tr>\n",
       "      <th>4</th>\n",
       "      <td>41</td>\n",
       "      <td>3045.10</td>\n",
       "      <td>7</td>\n",
       "    </tr>\n",
       "    <tr>\n",
       "      <th>...</th>\n",
       "      <td>...</td>\n",
       "      <td>...</td>\n",
       "      <td>...</td>\n",
       "    </tr>\n",
       "    <tr>\n",
       "      <th>358</th>\n",
       "      <td>1014</td>\n",
       "      <td>1707.34</td>\n",
       "      <td>1</td>\n",
       "    </tr>\n",
       "    <tr>\n",
       "      <th>359</th>\n",
       "      <td>1084</td>\n",
       "      <td>2046.07</td>\n",
       "      <td>1</td>\n",
       "    </tr>\n",
       "    <tr>\n",
       "      <th>362</th>\n",
       "      <td>1106</td>\n",
       "      <td>2105.60</td>\n",
       "      <td>1</td>\n",
       "    </tr>\n",
       "    <tr>\n",
       "      <th>365</th>\n",
       "      <td>*00063</td>\n",
       "      <td>355.40</td>\n",
       "      <td>1</td>\n",
       "    </tr>\n",
       "    <tr>\n",
       "      <th>367</th>\n",
       "      <td>1018</td>\n",
       "      <td>1663.32</td>\n",
       "      <td>1</td>\n",
       "    </tr>\n",
       "  </tbody>\n",
       "</table>\n",
       "<p>187 rows × 3 columns</p>\n",
       "</div>"
      ],
      "text/plain": [
       "    Serial Number TSN Component (Off)(hours)  Number Repair\n",
       "0              19                     497.52              4\n",
       "1              26                    3864.18              2\n",
       "2              44                     999.05              1\n",
       "3              47                    2113.90              2\n",
       "4              41                    3045.10              7\n",
       "..            ...                        ...            ...\n",
       "358          1014                    1707.34              1\n",
       "359          1084                    2046.07              1\n",
       "362          1106                    2105.60              1\n",
       "365        *00063                     355.40              1\n",
       "367          1018                    1663.32              1\n",
       "\n",
       "[187 rows x 3 columns]"
      ]
     },
     "execution_count": 368,
     "metadata": {},
     "output_type": "execute_result"
    }
   ],
   "source": [
    "df_new = df[['Serial Number','TSN Component (Off)(hours)']].drop_duplicates(subset = ['Serial Number'], keep = 'first').copy()\n",
    "df_new = df_new.merge((df['Serial Number'].value_counts()).rename('Number Repair'), left_on='Serial Number', right_index=True)\n",
    "df_new"
   ]
  },
  {
   "cell_type": "markdown",
   "metadata": {},
   "source": [
    "The above table is what I will use to determine if I can get a significant accuracy from this table.\n",
    "\n",
    "Below I will check the number of values that have more than 1 data point\n",
    "Check the type the columns are\n",
    "check for unique values"
   ]
  },
  {
   "cell_type": "code",
   "execution_count": 369,
   "metadata": {},
   "outputs": [
    {
     "data": {
      "text/plain": [
       "95"
      ]
     },
     "execution_count": 369,
     "metadata": {},
     "output_type": "execute_result"
    }
   ],
   "source": [
    "(df_new['Number Repair'] > 1).sum()"
   ]
  },
  {
   "cell_type": "code",
   "execution_count": 370,
   "metadata": {},
   "outputs": [
    {
     "data": {
      "text/plain": [
       "Serial Number                 object\n",
       "TSN Component (Off)(hours)    object\n",
       "Number Repair                  int64\n",
       "dtype: object"
      ]
     },
     "execution_count": 370,
     "metadata": {},
     "output_type": "execute_result"
    }
   ],
   "source": [
    "df_new.dtypes"
   ]
  },
  {
   "cell_type": "code",
   "execution_count": 371,
   "metadata": {},
   "outputs": [
    {
     "data": {
      "text/plain": [
       "Serial Number                 187\n",
       "TSN Component (Off)(hours)    177\n",
       "Number Repair                   8\n",
       "dtype: int64"
      ]
     },
     "execution_count": 371,
     "metadata": {},
     "output_type": "execute_result"
    }
   ],
   "source": [
    "df_new.nunique()"
   ]
  },
  {
   "cell_type": "markdown",
   "metadata": {},
   "source": [
    "I want to convert the TSN to a float because they are all numbers off coarse. but to do this I need to see if there are anything in TSN that will not allow me to change it to float."
   ]
  },
  {
   "cell_type": "code",
   "execution_count": 372,
   "metadata": {},
   "outputs": [
    {
     "name": "stdout",
     "output_type": "stream",
     "text": [
      "Non-numeric values found in 'your_column':\n",
      "14     UNK\n",
      "17     UNK\n",
      "204    UNK\n",
      "239    UNK\n",
      "247    UNK\n",
      "276    UNK\n",
      "298    UNK\n",
      "299    UNK\n",
      "Name: TSN Component (Off)(hours), dtype: object\n"
     ]
    }
   ],
   "source": [
    "numeric_column = pd.to_numeric(df_new['TSN Component (Off)(hours)'], errors='coerce')\n",
    "\n",
    "non_numeric_values = df_new[pd.isna(numeric_column)]['TSN Component (Off)(hours)']\n",
    "\n",
    "if not non_numeric_values.empty:\n",
    "    print(\"Non-numeric values found in 'your_column':\")\n",
    "    print(non_numeric_values)\n",
    "else:\n",
    "    print(\"No non-numeric values found in 'your_column'\")"
   ]
  },
  {
   "cell_type": "code",
   "execution_count": 373,
   "metadata": {},
   "outputs": [
    {
     "data": {
      "text/plain": [
       "array(['497.52', '3864.18', '999.05', '2113.90', '3045.10', '5242.10',\n",
       "       '2841.40', '1216.22', '492.10', '2730.30', '517.06', '2970.90',\n",
       "       '3471.90', '2587.40', 'UNK', '4062.50', '1656.40', '4946.80',\n",
       "       '2460.40', '750.45', '964.00', '812.25', '3924.10', '1521.80',\n",
       "       '824.60', '1335.95', '1349.80', '4746.60', '3386.40', '1739.10',\n",
       "       '1087.80', '1033.88', '0.00', '1220.00', '1967.40', '684.77',\n",
       "       '1853.60', '191.95', '1133.00', '697.68', '1131.70', '997.80',\n",
       "       '1259.90', '1547.96', '533.06', '577.90', '674.92', '1640.40',\n",
       "       '694.57', '365.80', '1996.90', '375.00', '1462.30', '1480.80',\n",
       "       '1017.63', '1194.20', '817.05', '54.20', '1021.50', '1799.60',\n",
       "       '1551.38', '4283.80', '159.10', '149.80', '958.60', '1874.80',\n",
       "       '1043.90', '68.90', '1495.31', '1026.62', '1417.55', '1289.20',\n",
       "       '405.00', '2017.21', '671.60', '868.67', '221.00', '726.10',\n",
       "       '565.47', '1164.10', '928.20', '769.52', '927.60', '709.90',\n",
       "       '1897.28', '893.30', '301.40', '836.20', '1796.40', '1068.41',\n",
       "       '1243.40', '1246.40', '732.50', '1188.60', '1473.00', '1052.41',\n",
       "       '1157.20', '300.70', '426.40', '1666.10', '366.00', '447.80',\n",
       "       '854.30', '1337.40', '1571.63', '670.72', '783.80', '711.60',\n",
       "       '615.35', '799.80', '1234.71', '1167.43', '1234.50', '1133.70',\n",
       "       '1380.13', '2092.25', '2821.87', '1797.37', '1845.22', '1032.80',\n",
       "       '660.60', '1277.42', '1189.00', '1496.74', '1355.27', '1298.66',\n",
       "       '1456.60', '837.60', '1424.20', '539.00', '1848.32', '1430.60',\n",
       "       '1596.51', '1370.14', '1387.24', '192.24', '1493.10', '1384.10',\n",
       "       '1704.32', '1508.20', '1811.20', '1337.00', '158.30', '974.60',\n",
       "       '1458.28', '7.77', '1550.45', '103.15', '1452.65', '1919.38',\n",
       "       '12.22', '1241.03', '1229.70', '307.69', '1675.52', '1419.96',\n",
       "       '219.93', '189.15', '1580.58', '1361.50', '205.14', '1125.60',\n",
       "       '1942.13', '55.32', '1755.35', '1627.48', '607.33', '2102.12',\n",
       "       '1666.80', '1889.60', '1496.50', '2226.80', '1707.34', '2046.07',\n",
       "       '2105.60', '355.40', '1663.32'], dtype=object)"
      ]
     },
     "execution_count": 373,
     "metadata": {},
     "output_type": "execute_result"
    }
   ],
   "source": [
    "df_new['TSN Component (Off)(hours)'].unique()"
   ]
  },
  {
   "cell_type": "markdown",
   "metadata": {},
   "source": [
    "The above two code snipits show the unique value that is in the TSN Component that is not a number. Next I will check the serial number where the value is unkown."
   ]
  },
  {
   "cell_type": "code",
   "execution_count": 374,
   "metadata": {},
   "outputs": [
    {
     "name": "stdout",
     "output_type": "stream",
     "text": [
      "Rows with non-numeric values in 'TSN Component (Off)(hours)':\n",
      "    Serial Number TSN Component (Off)(hours)  Number Repair\n",
      "14             52                        UNK              4\n",
      "17         *00069                        UNK              1\n",
      "204          1087                        UNK              1\n",
      "239            76                        UNK              1\n",
      "247        *00060                        UNK              2\n",
      "276          1092                        UNK              1\n",
      "298            72                        UNK              1\n",
      "299            79                        UNK              1\n"
     ]
    }
   ],
   "source": [
    "tsn_numeric = pd.to_numeric(df_new['TSN Component (Off)(hours)'], errors='coerce')\n",
    "invalid_values = df_new[tsn_numeric.isna()]\n",
    "print(\"Rows with non-numeric values in 'TSN Component (Off)(hours)':\")\n",
    "print(invalid_values)"
   ]
  },
  {
   "cell_type": "code",
   "execution_count": 375,
   "metadata": {},
   "outputs": [
    {
     "data": {
      "text/html": [
       "<div>\n",
       "<style scoped>\n",
       "    .dataframe tbody tr th:only-of-type {\n",
       "        vertical-align: middle;\n",
       "    }\n",
       "\n",
       "    .dataframe tbody tr th {\n",
       "        vertical-align: top;\n",
       "    }\n",
       "\n",
       "    .dataframe thead th {\n",
       "        text-align: right;\n",
       "    }\n",
       "</style>\n",
       "<table border=\"1\" class=\"dataframe\">\n",
       "  <thead>\n",
       "    <tr style=\"text-align: right;\">\n",
       "      <th></th>\n",
       "      <th>Created On</th>\n",
       "      <th>Short text for code</th>\n",
       "      <th>Item Description</th>\n",
       "      <th>Serial Number</th>\n",
       "      <th>A/C Serial No.</th>\n",
       "      <th>TAT Cust. Calculated (days)</th>\n",
       "      <th>TAT Supplier calculated (days)</th>\n",
       "      <th>Completion by date</th>\n",
       "      <th>TSN Component (Off)(hours)</th>\n",
       "      <th>Equipment</th>\n",
       "    </tr>\n",
       "  </thead>\n",
       "  <tbody>\n",
       "    <tr>\n",
       "      <th>14</th>\n",
       "      <td>07/08/2014</td>\n",
       "      <td>REPAIR</td>\n",
       "      <td>ACTUATOR,SERVO</td>\n",
       "      <td>52</td>\n",
       "      <td>143.0</td>\n",
       "      <td>53</td>\n",
       "      <td>49</td>\n",
       "      <td>17/10/2014</td>\n",
       "      <td>UNK</td>\n",
       "      <td>10362467</td>\n",
       "    </tr>\n",
       "    <tr>\n",
       "      <th>17</th>\n",
       "      <td>26/11/2014</td>\n",
       "      <td>REPAIR</td>\n",
       "      <td>ACTUATOR,SERVO</td>\n",
       "      <td>*00069</td>\n",
       "      <td>142.0</td>\n",
       "      <td>114</td>\n",
       "      <td>94</td>\n",
       "      <td>11/06/2015</td>\n",
       "      <td>UNK</td>\n",
       "      <td>10392335</td>\n",
       "    </tr>\n",
       "    <tr>\n",
       "      <th>34</th>\n",
       "      <td>13/11/2016</td>\n",
       "      <td>REPAIR</td>\n",
       "      <td>ACTUATOR,SERVO</td>\n",
       "      <td>52</td>\n",
       "      <td>138.0</td>\n",
       "      <td>0</td>\n",
       "      <td>140</td>\n",
       "      <td>24/05/2017</td>\n",
       "      <td>UNK</td>\n",
       "      <td>10362467</td>\n",
       "    </tr>\n",
       "    <tr>\n",
       "      <th>63</th>\n",
       "      <td>08/01/2018</td>\n",
       "      <td>WARRANTY</td>\n",
       "      <td>ACTUATOR,SERVO</td>\n",
       "      <td>52</td>\n",
       "      <td>129.0</td>\n",
       "      <td>0</td>\n",
       "      <td>119</td>\n",
       "      <td>30/05/2018</td>\n",
       "      <td>UNK</td>\n",
       "      <td>10362467</td>\n",
       "    </tr>\n",
       "    <tr>\n",
       "      <th>204</th>\n",
       "      <td>04/10/2021</td>\n",
       "      <td>REPAIR</td>\n",
       "      <td>ACTUATOR,SERVO</td>\n",
       "      <td>1087</td>\n",
       "      <td>205.0</td>\n",
       "      <td>317</td>\n",
       "      <td>167</td>\n",
       "      <td>17/08/2022</td>\n",
       "      <td>UNK</td>\n",
       "      <td>10590723</td>\n",
       "    </tr>\n",
       "    <tr>\n",
       "      <th>238</th>\n",
       "      <td>20/04/2022</td>\n",
       "      <td>REPAIR</td>\n",
       "      <td>ACTUATOR,SERVO</td>\n",
       "      <td>52</td>\n",
       "      <td>129.0</td>\n",
       "      <td>224</td>\n",
       "      <td>194</td>\n",
       "      <td>30/11/2022</td>\n",
       "      <td>UNK</td>\n",
       "      <td>10362467</td>\n",
       "    </tr>\n",
       "    <tr>\n",
       "      <th>239</th>\n",
       "      <td>20/04/2022</td>\n",
       "      <td>REPAIR</td>\n",
       "      <td>ACTUATOR,SERVO</td>\n",
       "      <td>76</td>\n",
       "      <td>149.0</td>\n",
       "      <td>153</td>\n",
       "      <td>98</td>\n",
       "      <td>20/09/2022</td>\n",
       "      <td>UNK</td>\n",
       "      <td>10404443</td>\n",
       "    </tr>\n",
       "    <tr>\n",
       "      <th>247</th>\n",
       "      <td>23/06/2022</td>\n",
       "      <td>REPAIR</td>\n",
       "      <td>ACTUATOR,SERVO</td>\n",
       "      <td>*00060</td>\n",
       "      <td>133.0</td>\n",
       "      <td>147</td>\n",
       "      <td>105</td>\n",
       "      <td>17/11/2022</td>\n",
       "      <td>UNK</td>\n",
       "      <td>10369438</td>\n",
       "    </tr>\n",
       "    <tr>\n",
       "      <th>276</th>\n",
       "      <td>13/02/2023</td>\n",
       "      <td>REPAIR</td>\n",
       "      <td>ACTUATOR,SERVO</td>\n",
       "      <td>1092</td>\n",
       "      <td>202.0</td>\n",
       "      <td>122</td>\n",
       "      <td>76</td>\n",
       "      <td>18/06/2023</td>\n",
       "      <td>UNK</td>\n",
       "      <td>10604494</td>\n",
       "    </tr>\n",
       "    <tr>\n",
       "      <th>298</th>\n",
       "      <td>22/05/2023</td>\n",
       "      <td>REPAIR</td>\n",
       "      <td>ACTUATOR,SERVO</td>\n",
       "      <td>72</td>\n",
       "      <td>151.0</td>\n",
       "      <td>283</td>\n",
       "      <td>142</td>\n",
       "      <td>29/02/2024</td>\n",
       "      <td>UNK</td>\n",
       "      <td>10398152</td>\n",
       "    </tr>\n",
       "    <tr>\n",
       "      <th>299</th>\n",
       "      <td>22/05/2023</td>\n",
       "      <td>REPAIR</td>\n",
       "      <td>ACTUATOR,SERVO</td>\n",
       "      <td>79</td>\n",
       "      <td>150.0</td>\n",
       "      <td>283</td>\n",
       "      <td>142</td>\n",
       "      <td>29/02/2024</td>\n",
       "      <td>UNK</td>\n",
       "      <td>10404445</td>\n",
       "    </tr>\n",
       "    <tr>\n",
       "      <th>300</th>\n",
       "      <td>22/05/2023</td>\n",
       "      <td>WARRANTY</td>\n",
       "      <td>ACTUATOR,SERVO</td>\n",
       "      <td>*00060</td>\n",
       "      <td>150.0</td>\n",
       "      <td>295</td>\n",
       "      <td>260</td>\n",
       "      <td>NaN</td>\n",
       "      <td>UNK</td>\n",
       "      <td>10369438</td>\n",
       "    </tr>\n",
       "  </tbody>\n",
       "</table>\n",
       "</div>"
      ],
      "text/plain": [
       "     Created On Short text for code Item Description Serial Number  \\\n",
       "14   07/08/2014              REPAIR   ACTUATOR,SERVO            52   \n",
       "17   26/11/2014              REPAIR   ACTUATOR,SERVO        *00069   \n",
       "34   13/11/2016              REPAIR   ACTUATOR,SERVO            52   \n",
       "63   08/01/2018            WARRANTY   ACTUATOR,SERVO            52   \n",
       "204  04/10/2021              REPAIR   ACTUATOR,SERVO          1087   \n",
       "238  20/04/2022              REPAIR   ACTUATOR,SERVO            52   \n",
       "239  20/04/2022              REPAIR   ACTUATOR,SERVO            76   \n",
       "247  23/06/2022              REPAIR   ACTUATOR,SERVO        *00060   \n",
       "276  13/02/2023              REPAIR   ACTUATOR,SERVO          1092   \n",
       "298  22/05/2023              REPAIR   ACTUATOR,SERVO            72   \n",
       "299  22/05/2023              REPAIR   ACTUATOR,SERVO            79   \n",
       "300  22/05/2023            WARRANTY   ACTUATOR,SERVO        *00060   \n",
       "\n",
       "     A/C Serial No. TAT Cust. Calculated (days)  \\\n",
       "14            143.0                          53   \n",
       "17            142.0                         114   \n",
       "34            138.0                           0   \n",
       "63            129.0                           0   \n",
       "204           205.0                         317   \n",
       "238           129.0                         224   \n",
       "239           149.0                         153   \n",
       "247           133.0                         147   \n",
       "276           202.0                         122   \n",
       "298           151.0                         283   \n",
       "299           150.0                         283   \n",
       "300           150.0                         295   \n",
       "\n",
       "    TAT Supplier calculated (days) Completion by date  \\\n",
       "14                              49         17/10/2014   \n",
       "17                              94         11/06/2015   \n",
       "34                             140         24/05/2017   \n",
       "63                             119         30/05/2018   \n",
       "204                            167         17/08/2022   \n",
       "238                            194         30/11/2022   \n",
       "239                             98         20/09/2022   \n",
       "247                            105         17/11/2022   \n",
       "276                             76         18/06/2023   \n",
       "298                            142         29/02/2024   \n",
       "299                            142         29/02/2024   \n",
       "300                            260                NaN   \n",
       "\n",
       "    TSN Component (Off)(hours)  Equipment  \n",
       "14                         UNK   10362467  \n",
       "17                         UNK   10392335  \n",
       "34                         UNK   10362467  \n",
       "63                         UNK   10362467  \n",
       "204                        UNK   10590723  \n",
       "238                        UNK   10362467  \n",
       "239                        UNK   10404443  \n",
       "247                        UNK   10369438  \n",
       "276                        UNK   10604494  \n",
       "298                        UNK   10398152  \n",
       "299                        UNK   10404445  \n",
       "300                        UNK   10369438  "
      ]
     },
     "execution_count": 375,
     "metadata": {},
     "output_type": "execute_result"
    }
   ],
   "source": [
    "df[df['TSN Component (Off)(hours)'] == 'UNK']"
   ]
  },
  {
   "cell_type": "markdown",
   "metadata": {},
   "source": [
    "From the above I found that there are a few UNK values in the dataset and the only solution I have for these values is to remove them. The reason being that there is no possible way for me to give them a TSN value and I asked the client about this and his response was that it was not recorded."
   ]
  },
  {
   "cell_type": "code",
   "execution_count": 376,
   "metadata": {},
   "outputs": [],
   "source": [
    "df_new = df_new[df_new['TSN Component (Off)(hours)'] != 'UNK']"
   ]
  },
  {
   "cell_type": "code",
   "execution_count": 377,
   "metadata": {},
   "outputs": [
    {
     "name": "stdout",
     "output_type": "stream",
     "text": [
      "Rows with non-numeric values in 'TSN Component (Off)(hours)':\n",
      "Empty DataFrame\n",
      "Columns: [Serial Number, TSN Component (Off)(hours), Number Repair]\n",
      "Index: []\n"
     ]
    }
   ],
   "source": [
    "tsn_numeric = pd.to_numeric(df_new['TSN Component (Off)(hours)'], errors='coerce')\n",
    "invalid_values = df_new[tsn_numeric.isna()]\n",
    "print(\"Rows with non-numeric values in 'TSN Component (Off)(hours)':\")\n",
    "print(invalid_values)"
   ]
  },
  {
   "cell_type": "markdown",
   "metadata": {},
   "source": [
    "So above i have now removed all the UNK values and next I will make the TSN column a float so that it is easier to use."
   ]
  },
  {
   "cell_type": "code",
   "execution_count": 378,
   "metadata": {},
   "outputs": [
    {
     "name": "stderr",
     "output_type": "stream",
     "text": [
      "C:\\Users\\jan\\AppData\\Local\\Temp\\ipykernel_13100\\836761620.py:1: SettingWithCopyWarning: \n",
      "A value is trying to be set on a copy of a slice from a DataFrame.\n",
      "Try using .loc[row_indexer,col_indexer] = value instead\n",
      "\n",
      "See the caveats in the documentation: https://pandas.pydata.org/pandas-docs/stable/user_guide/indexing.html#returning-a-view-versus-a-copy\n",
      "  df_new['TSN Component (Off)(hours)'] = df_new['TSN Component (Off)(hours)'].astype(float)\n"
     ]
    },
    {
     "data": {
      "text/plain": [
       "Serial Number                  object\n",
       "TSN Component (Off)(hours)    float64\n",
       "Number Repair                   int64\n",
       "dtype: object"
      ]
     },
     "execution_count": 378,
     "metadata": {},
     "output_type": "execute_result"
    }
   ],
   "source": [
    "df_new['TSN Component (Off)(hours)'] = df_new['TSN Component (Off)(hours)'].astype(float)\n",
    "df_new.dtypes"
   ]
  },
  {
   "cell_type": "markdown",
   "metadata": {},
   "source": [
    "Next I am creating a box plot to understand the distribution of the data for each number of repairs"
   ]
  },
  {
   "cell_type": "code",
   "execution_count": 379,
   "metadata": {},
   "outputs": [
    {
     "data": {
      "image/png": "[encoded data removed]",
      "text/plain": [
       "<Figure size 640x480 with 1 Axes>"
      ]
     },
     "metadata": {},
     "output_type": "display_data"
    }
   ],
   "source": [
    "sns.boxplot(data=df_new, x='Number Repair', y='TSN Component (Off)(hours)', order=['1', '2', '3', '4', '5', '6', '7', '8'])\n",
    "\n",
    "plt.xlabel('Number Repair')\n",
    "plt.ylabel('TSN Component (Off)(hours)')\n",
    "plt.title('Distribution of Salaries by Employment Type')\n",
    "\n",
    "plt.show()"
   ]
  },
  {
   "cell_type": "markdown",
   "metadata": {},
   "source": [
    "From the box plot above I can see where the median of the values are and it also shows what is consdered outliers for each Number Repair. From this I also learn that the median for is close too each other up until Number Repair 5. For 6, 7, 8 the median and box plot become to small. This means that there mught be a lot of concetrated data or now a lot of different values."
   ]
  },
  {
   "cell_type": "markdown",
   "metadata": {},
   "source": [
    "Now I want to visually see what the comparison is between the TSN and the Repair Number. To do this I am going to make a scatter plot to display it."
   ]
  },
  {
   "cell_type": "code",
   "execution_count": 380,
   "metadata": {},
   "outputs": [
    {
     "data": {
      "text/plain": [
       "Text(0.5, 1.0, 'Number Repairs vs TSN')"
      ]
     },
     "execution_count": 380,
     "metadata": {},
     "output_type": "execute_result"
    },
    {
     "data": {
      "image/png": "[encoded data removed]",
      "text/plain": [
       "<Figure size 640x480 with 1 Axes>"
      ]
     },
     "metadata": {},
     "output_type": "display_data"
    }
   ],
   "source": [
    "plt.scatter(df_new['Number Repair'], df_new['TSN Component (Off)(hours)'], )\n",
    "\n",
    "\n",
    "plt.xlabel('Number Repairs')\n",
    "plt.ylabel('TSN')\n",
    "plt.title('Number Repairs vs TSN')"
   ]
  },
  {
   "cell_type": "markdown",
   "metadata": {},
   "source": [
    "Above is to have a better visualization of the data compared to the box plot. This is to give me an understanding of where the data lies and an idea of the amount of points for each Number Repairs. In it I can see that the values for 6, 7, 8 are only 1 dot and this still does not give me a lot of information on those columns."
   ]
  },
  {
   "cell_type": "markdown",
   "metadata": {},
   "source": [
    "Next I will show the spread of the values between each Number Repair. This is to get an idea of where most of the data point are and which value will influence the algorithm the most."
   ]
  },
  {
   "cell_type": "code",
   "execution_count": 381,
   "metadata": {},
   "outputs": [
    {
     "data": {
      "text/plain": [
       "Number Repair\n",
       "1    86\n",
       "2    45\n",
       "3    26\n",
       "4    12\n",
       "5     6\n",
       "7     2\n",
       "6     1\n",
       "8     1\n",
       "Name: count, dtype: int64"
      ]
     },
     "execution_count": 381,
     "metadata": {},
     "output_type": "execute_result"
    }
   ],
   "source": [
    "df_new['Number Repair'].value_counts()"
   ]
  },
  {
   "cell_type": "markdown",
   "metadata": {},
   "source": [
    "From the information above I can now see that there are a small amount of values in 6, 7, 8. This also shows me that majority of the values are in 1 repair and that it decreases with repairs."
   ]
  },
  {
   "cell_type": "markdown",
   "metadata": {},
   "source": [
    "<span style=\"font-size:30px;\">Modeling</span>"
   ]
  },
  {
   "cell_type": "code",
   "execution_count": 382,
   "metadata": {},
   "outputs": [],
   "source": [
    "features = [\"TSN Component (Off)(hours)\"]\n",
    "target = \"Number Repair\"\n",
    "X = df_new[features]\n",
    "y = df_new[target]"
   ]
  },
  {
   "cell_type": "code",
   "execution_count": 383,
   "metadata": {},
   "outputs": [
    {
     "name": "stdout",
     "output_type": "stream",
     "text": [
      "There are in total 179 observations, of which 143 are now in the train set, and 36 in the test set.\n"
     ]
    }
   ],
   "source": [
    "from sklearn.model_selection import train_test_split\n",
    "X_train, X_test, y_train, y_test = train_test_split(X, y, test_size=0.2)\n",
    "print(\"There are in total\", len(X), \"observations, of which\", len(X_train), \"are now in the train set, and\", len(X_test), \"in the test set.\")"
   ]
  },
  {
   "cell_type": "code",
   "execution_count": 384,
   "metadata": {},
   "outputs": [],
   "source": [
    "from sklearn.preprocessing import StandardScaler\n",
    "scaler = StandardScaler()\n",
    "scaler.fit(X_train)\n",
    "X_train = scaler.transform(X_train)\n",
    "X_test = scaler.transform(X_test)\n"
   ]
  },
  {
   "cell_type": "code",
   "execution_count": 385,
   "metadata": {},
   "outputs": [
    {
     "name": "stdout",
     "output_type": "stream",
     "text": [
      "Accuracy: 0.4722222222222222\n"
     ]
    }
   ],
   "source": [
    "from sklearn.neighbors import KNeighborsClassifier\n",
    "model = KNeighborsClassifier()\n",
    "model.fit(X_train, y_train)\n",
    "pred = model.predict(X_test)\n",
    "\n",
    "from sklearn.metrics import accuracy_score\n",
    "score = accuracy_score(pred, y_test)\n",
    "print(\"Accuracy:\", score)"
   ]
  },
  {
   "cell_type": "code",
   "execution_count": 386,
   "metadata": {},
   "outputs": [],
   "source": [
    "features = ['Number Repair']\n",
    "target = \"TSN Component (Off)(hours)\"\n",
    "X = df_new[features]\n",
    "y = df_new[target]"
   ]
  },
  {
   "cell_type": "code",
   "execution_count": 387,
   "metadata": {},
   "outputs": [
    {
     "name": "stdout",
     "output_type": "stream",
     "text": [
      "There are in total 179 observations, of which 143 are now in the train set, and 36 in the test set.\n"
     ]
    }
   ],
   "source": [
    "from sklearn.model_selection import train_test_split\n",
    "X_train, X_test, y_train, y_test = train_test_split(X, y, test_size=0.2)\n",
    "print(\"There are in total\", len(X), \"observations, of which\", len(X_train), \"are now in the train set, and\", len(X_test), \"in the test set.\")"
   ]
  },
  {
   "cell_type": "code",
   "execution_count": 388,
   "metadata": {},
   "outputs": [],
   "source": [
    "from sklearn.preprocessing import StandardScaler\n",
    "scaler = StandardScaler()\n",
    "scaler.fit(X_train)\n",
    "X_train = scaler.transform(X_train)\n",
    "X_test = scaler.transform(X_test)"
   ]
  },
  {
   "cell_type": "code",
   "execution_count": 389,
   "metadata": {},
   "outputs": [
    {
     "name": "stdout",
     "output_type": "stream",
     "text": [
      "Mean Absolute Error:: 865.1588333333334\n",
      "Accuracy within threshold (865.1588333333334 away): 0.61\n"
     ]
    }
   ],
   "source": [
    "from sklearn.neighbors import KNeighborsRegressor\n",
    "from sklearn.metrics import mean_absolute_error\n",
    "model = KNeighborsRegressor()\n",
    "model.fit(X_train, y_train)\n",
    "pred = model.predict(X_test)\n",
    "\n",
    "from sklearn.metrics import accuracy_score\n",
    "score = mean_absolute_error(pred, y_test)\n",
    "print(\"Mean Absolute Error::\", score)\n",
    "\n",
    "threshold = score\n",
    "\n",
    "# Check if predictions are within threshold\n",
    "accurate_predictions = sum(abs(pred - y_test) <= threshold)\n",
    "total_predictions = len(y_test)\n",
    "accuracy_within_threshold = accurate_predictions / total_predictions\n",
    "print(\"Accuracy within threshold ({} away): {:.2f}\".format(threshold, accuracy_within_threshold))"
   ]
  },
  {
   "cell_type": "markdown",
   "metadata": {},
   "source": [
    "<span style=\"font-size:30px;\">Evaluation</span>"
   ]
  },
  {
   "cell_type": "markdown",
   "metadata": {},
   "source": [
    "From the accuracy that I calculated we can see that the accuracy is really low and on average have a 50% chance of predicting the target variable. I have tested to see if it can predict the amount of repairs the  and then the target variable the TSN which is the number of hours flown. On average from the running the predictions the number of repairs would have an accuracy between 0.4 to 0.5. Now this is not my target variable and is meant to be a test to see how accurate the prediction would be with the data that I have.\n",
    "Next the accuracy for the target variable TSN average around 0.5 to 0.6. The mosel that I used for it was the Nearest Neigbors Regression model. With this model I had to also found the absolute mean error for the prediction. With the absolute mean error you want to have it as low as possible and currently it is a large number, usually around 800 hours. What that means is that the prediction can be of by around 3 years, knowing that a plane flies around 1 hour a day.\n",
    "\n",
    "Seen as the accuracies are so low I will begin a new process of creating a model and looking into the data again to see if there are other methods of improving the accuracy."
   ]
  },
  {
   "cell_type": "code",
   "execution_count": 390,
   "metadata": {},
   "outputs": [
    {
     "data": {
      "text/html": [
       "<div>\n",
       "<style scoped>\n",
       "    .dataframe tbody tr th:only-of-type {\n",
       "        vertical-align: middle;\n",
       "    }\n",
       "\n",
       "    .dataframe tbody tr th {\n",
       "        vertical-align: top;\n",
       "    }\n",
       "\n",
       "    .dataframe thead th {\n",
       "        text-align: right;\n",
       "    }\n",
       "</style>\n",
       "<table border=\"1\" class=\"dataframe\">\n",
       "  <thead>\n",
       "    <tr style=\"text-align: right;\">\n",
       "      <th></th>\n",
       "      <th>truth</th>\n",
       "      <th>prediction</th>\n",
       "      <th>error</th>\n",
       "    </tr>\n",
       "  </thead>\n",
       "  <tbody>\n",
       "    <tr>\n",
       "      <th>0</th>\n",
       "      <td>726.10</td>\n",
       "      <td>1896.860</td>\n",
       "      <td>1170</td>\n",
       "    </tr>\n",
       "    <tr>\n",
       "      <th>1</th>\n",
       "      <td>1797.37</td>\n",
       "      <td>1350.900</td>\n",
       "      <td>446</td>\n",
       "    </tr>\n",
       "    <tr>\n",
       "      <th>2</th>\n",
       "      <td>927.60</td>\n",
       "      <td>1896.860</td>\n",
       "      <td>969</td>\n",
       "    </tr>\n",
       "    <tr>\n",
       "      <th>3</th>\n",
       "      <td>301.40</td>\n",
       "      <td>1122.056</td>\n",
       "      <td>820</td>\n",
       "    </tr>\n",
       "    <tr>\n",
       "      <th>4</th>\n",
       "      <td>3864.18</td>\n",
       "      <td>1122.056</td>\n",
       "      <td>2742</td>\n",
       "    </tr>\n",
       "    <tr>\n",
       "      <th>5</th>\n",
       "      <td>732.50</td>\n",
       "      <td>1282.840</td>\n",
       "      <td>550</td>\n",
       "    </tr>\n",
       "    <tr>\n",
       "      <th>6</th>\n",
       "      <td>958.60</td>\n",
       "      <td>1122.056</td>\n",
       "      <td>163</td>\n",
       "    </tr>\n",
       "    <tr>\n",
       "      <th>7</th>\n",
       "      <td>1246.40</td>\n",
       "      <td>1350.900</td>\n",
       "      <td>104</td>\n",
       "    </tr>\n",
       "    <tr>\n",
       "      <th>8</th>\n",
       "      <td>221.00</td>\n",
       "      <td>1896.860</td>\n",
       "      <td>1675</td>\n",
       "    </tr>\n",
       "    <tr>\n",
       "      <th>9</th>\n",
       "      <td>1897.28</td>\n",
       "      <td>1896.860</td>\n",
       "      <td>0</td>\n",
       "    </tr>\n",
       "    <tr>\n",
       "      <th>10</th>\n",
       "      <td>219.93</td>\n",
       "      <td>1350.900</td>\n",
       "      <td>1130</td>\n",
       "    </tr>\n",
       "    <tr>\n",
       "      <th>11</th>\n",
       "      <td>1452.65</td>\n",
       "      <td>1350.900</td>\n",
       "      <td>101</td>\n",
       "    </tr>\n",
       "    <tr>\n",
       "      <th>12</th>\n",
       "      <td>492.10</td>\n",
       "      <td>1896.860</td>\n",
       "      <td>1404</td>\n",
       "    </tr>\n",
       "    <tr>\n",
       "      <th>13</th>\n",
       "      <td>1243.40</td>\n",
       "      <td>1122.056</td>\n",
       "      <td>121</td>\n",
       "    </tr>\n",
       "    <tr>\n",
       "      <th>14</th>\n",
       "      <td>1241.03</td>\n",
       "      <td>1350.900</td>\n",
       "      <td>109</td>\n",
       "    </tr>\n",
       "    <tr>\n",
       "      <th>15</th>\n",
       "      <td>1361.50</td>\n",
       "      <td>1122.056</td>\n",
       "      <td>239</td>\n",
       "    </tr>\n",
       "    <tr>\n",
       "      <th>16</th>\n",
       "      <td>4062.50</td>\n",
       "      <td>1896.860</td>\n",
       "      <td>2165</td>\n",
       "    </tr>\n",
       "    <tr>\n",
       "      <th>17</th>\n",
       "      <td>709.90</td>\n",
       "      <td>1106.760</td>\n",
       "      <td>396</td>\n",
       "    </tr>\n",
       "    <tr>\n",
       "      <th>18</th>\n",
       "      <td>1349.80</td>\n",
       "      <td>1282.840</td>\n",
       "      <td>66</td>\n",
       "    </tr>\n",
       "    <tr>\n",
       "      <th>19</th>\n",
       "      <td>3045.10</td>\n",
       "      <td>961.880</td>\n",
       "      <td>2083</td>\n",
       "    </tr>\n",
       "    <tr>\n",
       "      <th>20</th>\n",
       "      <td>607.33</td>\n",
       "      <td>1350.900</td>\n",
       "      <td>743</td>\n",
       "    </tr>\n",
       "    <tr>\n",
       "      <th>21</th>\n",
       "      <td>997.80</td>\n",
       "      <td>1122.056</td>\n",
       "      <td>124</td>\n",
       "    </tr>\n",
       "    <tr>\n",
       "      <th>22</th>\n",
       "      <td>405.00</td>\n",
       "      <td>1896.860</td>\n",
       "      <td>1491</td>\n",
       "    </tr>\n",
       "    <tr>\n",
       "      <th>23</th>\n",
       "      <td>4946.80</td>\n",
       "      <td>1106.760</td>\n",
       "      <td>3840</td>\n",
       "    </tr>\n",
       "    <tr>\n",
       "      <th>24</th>\n",
       "      <td>1853.60</td>\n",
       "      <td>1350.900</td>\n",
       "      <td>502</td>\n",
       "    </tr>\n",
       "    <tr>\n",
       "      <th>25</th>\n",
       "      <td>1521.80</td>\n",
       "      <td>1122.056</td>\n",
       "      <td>399</td>\n",
       "    </tr>\n",
       "    <tr>\n",
       "      <th>26</th>\n",
       "      <td>2970.90</td>\n",
       "      <td>961.880</td>\n",
       "      <td>2009</td>\n",
       "    </tr>\n",
       "    <tr>\n",
       "      <th>27</th>\n",
       "      <td>711.60</td>\n",
       "      <td>1896.860</td>\n",
       "      <td>1185</td>\n",
       "    </tr>\n",
       "    <tr>\n",
       "      <th>28</th>\n",
       "      <td>0.00</td>\n",
       "      <td>1350.900</td>\n",
       "      <td>1350</td>\n",
       "    </tr>\n",
       "    <tr>\n",
       "      <th>29</th>\n",
       "      <td>1335.95</td>\n",
       "      <td>1122.056</td>\n",
       "      <td>213</td>\n",
       "    </tr>\n",
       "    <tr>\n",
       "      <th>30</th>\n",
       "      <td>1493.10</td>\n",
       "      <td>1350.900</td>\n",
       "      <td>142</td>\n",
       "    </tr>\n",
       "    <tr>\n",
       "      <th>31</th>\n",
       "      <td>1675.52</td>\n",
       "      <td>1350.900</td>\n",
       "      <td>324</td>\n",
       "    </tr>\n",
       "    <tr>\n",
       "      <th>32</th>\n",
       "      <td>1704.32</td>\n",
       "      <td>1350.900</td>\n",
       "      <td>353</td>\n",
       "    </tr>\n",
       "    <tr>\n",
       "      <th>33</th>\n",
       "      <td>0.00</td>\n",
       "      <td>1896.860</td>\n",
       "      <td>1896</td>\n",
       "    </tr>\n",
       "    <tr>\n",
       "      <th>34</th>\n",
       "      <td>1277.42</td>\n",
       "      <td>1350.900</td>\n",
       "      <td>73</td>\n",
       "    </tr>\n",
       "    <tr>\n",
       "      <th>35</th>\n",
       "      <td>1380.13</td>\n",
       "      <td>1350.900</td>\n",
       "      <td>29</td>\n",
       "    </tr>\n",
       "  </tbody>\n",
       "</table>\n",
       "</div>"
      ],
      "text/plain": [
       "      truth  prediction  error\n",
       "0    726.10    1896.860   1170\n",
       "1   1797.37    1350.900    446\n",
       "2    927.60    1896.860    969\n",
       "3    301.40    1122.056    820\n",
       "4   3864.18    1122.056   2742\n",
       "5    732.50    1282.840    550\n",
       "6    958.60    1122.056    163\n",
       "7   1246.40    1350.900    104\n",
       "8    221.00    1896.860   1675\n",
       "9   1897.28    1896.860      0\n",
       "10   219.93    1350.900   1130\n",
       "11  1452.65    1350.900    101\n",
       "12   492.10    1896.860   1404\n",
       "13  1243.40    1122.056    121\n",
       "14  1241.03    1350.900    109\n",
       "15  1361.50    1122.056    239\n",
       "16  4062.50    1896.860   2165\n",
       "17   709.90    1106.760    396\n",
       "18  1349.80    1282.840     66\n",
       "19  3045.10     961.880   2083\n",
       "20   607.33    1350.900    743\n",
       "21   997.80    1122.056    124\n",
       "22   405.00    1896.860   1491\n",
       "23  4946.80    1106.760   3840\n",
       "24  1853.60    1350.900    502\n",
       "25  1521.80    1122.056    399\n",
       "26  2970.90     961.880   2009\n",
       "27   711.60    1896.860   1185\n",
       "28     0.00    1350.900   1350\n",
       "29  1335.95    1122.056    213\n",
       "30  1493.10    1350.900    142\n",
       "31  1675.52    1350.900    324\n",
       "32  1704.32    1350.900    353\n",
       "33     0.00    1896.860   1896\n",
       "34  1277.42    1350.900     73\n",
       "35  1380.13    1350.900     29"
      ]
     },
     "execution_count": 390,
     "metadata": {},
     "output_type": "execute_result"
    }
   ],
   "source": [
    "predictions = model.predict(X_test)\n",
    "\n",
    "prediction_overview = pd.DataFrame()\n",
    "prediction_overview[\"truth\"] = y_test\n",
    "prediction_overview[\"prediction\"] = predictions\n",
    "prediction_overview[\"error\"] = prediction_overview[\"truth\"] - prediction_overview[\"prediction\"]\n",
    "prediction_overview[\"error\"] = abs(prediction_overview[\"error\"].astype(int))\n",
    "prediction_overview = prediction_overview.reset_index(drop=True)\n",
    "prediction_overview"
   ]
  },
  {
   "cell_type": "code",
   "execution_count": 391,
   "metadata": {},
   "outputs": [
    {
     "data": {
      "text/plain": [
       "<Axes: xlabel='predicted TSN', ylabel='true TSN'>"
      ]
     },
     "execution_count": 391,
     "metadata": {},
     "output_type": "execute_result"
    },
    {
     "data": {
      "image/png": "[encoded data removed]",
      "text/plain": [
       "<Figure size 640x480 with 1 Axes>"
      ]
     },
     "metadata": {},
     "output_type": "display_data"
    }
   ],
   "source": [
    "plot = sns.regplot(y=y_test.values.flatten(), x=predictions.flatten(), line_kws={\"color\": \"r\"})\n",
    "plot.set_xlabel(\"predicted TSN\")\n",
    "plot.set_ylabel(\"true TSN\")\n",
    "plot"
   ]
  },
  {
   "cell_type": "code",
   "execution_count": 392,
   "metadata": {},
   "outputs": [
    {
     "name": "stdout",
     "output_type": "stream",
     "text": [
      "Max Error: 3841\n",
      "Root Mean Squared Error: 1242\n"
     ]
    }
   ],
   "source": [
    "me = max_error(y_test, predictions)\n",
    "me = math.ceil(me)\n",
    "print(\"Max Error:\", me)\n",
    "\n",
    "mse = mean_squared_error(y_test, predictions)\n",
    "rmse = math.sqrt(mse)\n",
    "rmse = math.ceil(rmse)\n",
    "print(\"Root Mean Squared Error:\", rmse)"
   ]
  },
  {
   "cell_type": "markdown",
   "metadata": {},
   "source": [
    "With further inspection of the model we can see that a lot of the values lie outside of the predicted graph especially at the higher predicted values. In the graph you can see that a lot of point lie outside of the predicted area and the error margin. \n",
    "\n",
    "With the error shown above I can see that on average the error is 1000 away from the actual. It also shows that is can be up to 3500 away from the actual. This is an indication that the model is lacking and needs more information.\n",
    "\n",
    "Using the KNN Regression might not fit the moddel with the limited information that it was given. For the next step I will add more data to the datasheet to increase the features that can be selected."
   ]
  },
  {
   "cell_type": "markdown",
   "metadata": {},
   "source": [
    "<span style=\"font-size:30px;\">Data Provisioning</span>"
   ]
  },
  {
   "cell_type": "markdown",
   "metadata": {},
   "source": [
    "Showing the types again as a reminder"
   ]
  },
  {
   "cell_type": "code",
   "execution_count": 393,
   "metadata": {},
   "outputs": [
    {
     "data": {
      "text/plain": [
       "Serial Number                  object\n",
       "TSN Component (Off)(hours)    float64\n",
       "Number Repair                   int64\n",
       "dtype: object"
      ]
     },
     "execution_count": 393,
     "metadata": {},
     "output_type": "execute_result"
    }
   ],
   "source": [
    "df_new.dtypes"
   ]
  },
  {
   "cell_type": "code",
   "execution_count": 394,
   "metadata": {},
   "outputs": [
    {
     "data": {
      "text/plain": [
       "Created On                         object\n",
       "Short text for code                object\n",
       "Item Description                   object\n",
       "Serial Number                      object\n",
       "A/C Serial No.                    float64\n",
       "TAT Cust. Calculated (days)        object\n",
       "TAT Supplier calculated (days)     object\n",
       "Completion by date                 object\n",
       "TSN Component (Off)(hours)         object\n",
       "Equipment                           int64\n",
       "dtype: object"
      ]
     },
     "execution_count": 394,
     "metadata": {},
     "output_type": "execute_result"
    }
   ],
   "source": [
    "df.dtypes"
   ]
  },
  {
   "cell_type": "markdown",
   "metadata": {},
   "source": [
    "Here I want to add a new column that will take the amount of days between the date the part went into repair and when it came out. I also saw that there are some that did not have a release date from the repairs yet and for those I used the current date. After finding the date I added them all up per serial number and with that I made a new column called Total Repair Days."
   ]
  },
  {
   "cell_type": "code",
   "execution_count": 395,
   "metadata": {},
   "outputs": [
    {
     "name": "stderr",
     "output_type": "stream",
     "text": [
      "C:\\Users\\jan\\AppData\\Local\\Temp\\ipykernel_13100\\1416853031.py:37: SettingWithCopyWarning: \n",
      "A value is trying to be set on a copy of a slice from a DataFrame.\n",
      "Try using .loc[row_indexer,col_indexer] = value instead\n",
      "\n",
      "See the caveats in the documentation: https://pandas.pydata.org/pandas-docs/stable/user_guide/indexing.html#returning-a-view-versus-a-copy\n",
      "  df_new[\"Total Repair Days\"] = df_new[\"Serial Number\"].map(total_repair_days)\n"
     ]
    },
    {
     "data": {
      "text/html": [
       "<div>\n",
       "<style scoped>\n",
       "    .dataframe tbody tr th:only-of-type {\n",
       "        vertical-align: middle;\n",
       "    }\n",
       "\n",
       "    .dataframe tbody tr th {\n",
       "        vertical-align: top;\n",
       "    }\n",
       "\n",
       "    .dataframe thead th {\n",
       "        text-align: right;\n",
       "    }\n",
       "</style>\n",
       "<table border=\"1\" class=\"dataframe\">\n",
       "  <thead>\n",
       "    <tr style=\"text-align: right;\">\n",
       "      <th></th>\n",
       "      <th>Serial Number</th>\n",
       "      <th>TSN Component (Off)(hours)</th>\n",
       "      <th>Number Repair</th>\n",
       "      <th>Total Repair Days</th>\n",
       "    </tr>\n",
       "  </thead>\n",
       "  <tbody>\n",
       "    <tr>\n",
       "      <th>0</th>\n",
       "      <td>19</td>\n",
       "      <td>497.52</td>\n",
       "      <td>4</td>\n",
       "      <td>1572</td>\n",
       "    </tr>\n",
       "    <tr>\n",
       "      <th>1</th>\n",
       "      <td>26</td>\n",
       "      <td>3864.18</td>\n",
       "      <td>2</td>\n",
       "      <td>403</td>\n",
       "    </tr>\n",
       "    <tr>\n",
       "      <th>2</th>\n",
       "      <td>44</td>\n",
       "      <td>999.05</td>\n",
       "      <td>1</td>\n",
       "      <td>154</td>\n",
       "    </tr>\n",
       "    <tr>\n",
       "      <th>3</th>\n",
       "      <td>47</td>\n",
       "      <td>2113.90</td>\n",
       "      <td>2</td>\n",
       "      <td>228</td>\n",
       "    </tr>\n",
       "    <tr>\n",
       "      <th>4</th>\n",
       "      <td>41</td>\n",
       "      <td>3045.10</td>\n",
       "      <td>7</td>\n",
       "      <td>1088</td>\n",
       "    </tr>\n",
       "    <tr>\n",
       "      <th>...</th>\n",
       "      <td>...</td>\n",
       "      <td>...</td>\n",
       "      <td>...</td>\n",
       "      <td>...</td>\n",
       "    </tr>\n",
       "    <tr>\n",
       "      <th>358</th>\n",
       "      <td>1014</td>\n",
       "      <td>1707.34</td>\n",
       "      <td>1</td>\n",
       "      <td>80</td>\n",
       "    </tr>\n",
       "    <tr>\n",
       "      <th>359</th>\n",
       "      <td>1084</td>\n",
       "      <td>2046.07</td>\n",
       "      <td>1</td>\n",
       "      <td>80</td>\n",
       "    </tr>\n",
       "    <tr>\n",
       "      <th>362</th>\n",
       "      <td>1106</td>\n",
       "      <td>2105.60</td>\n",
       "      <td>1</td>\n",
       "      <td>80</td>\n",
       "    </tr>\n",
       "    <tr>\n",
       "      <th>365</th>\n",
       "      <td>*00063</td>\n",
       "      <td>355.40</td>\n",
       "      <td>1</td>\n",
       "      <td>80</td>\n",
       "    </tr>\n",
       "    <tr>\n",
       "      <th>367</th>\n",
       "      <td>1018</td>\n",
       "      <td>1663.32</td>\n",
       "      <td>1</td>\n",
       "      <td>80</td>\n",
       "    </tr>\n",
       "  </tbody>\n",
       "</table>\n",
       "<p>179 rows × 4 columns</p>\n",
       "</div>"
      ],
      "text/plain": [
       "    Serial Number  TSN Component (Off)(hours)  Number Repair  \\\n",
       "0              19                      497.52              4   \n",
       "1              26                     3864.18              2   \n",
       "2              44                      999.05              1   \n",
       "3              47                     2113.90              2   \n",
       "4              41                     3045.10              7   \n",
       "..            ...                         ...            ...   \n",
       "358          1014                     1707.34              1   \n",
       "359          1084                     2046.07              1   \n",
       "362          1106                     2105.60              1   \n",
       "365        *00063                      355.40              1   \n",
       "367          1018                     1663.32              1   \n",
       "\n",
       "     Total Repair Days  \n",
       "0                 1572  \n",
       "1                  403  \n",
       "2                  154  \n",
       "3                  228  \n",
       "4                 1088  \n",
       "..                 ...  \n",
       "358                 80  \n",
       "359                 80  \n",
       "362                 80  \n",
       "365                 80  \n",
       "367                 80  \n",
       "\n",
       "[179 rows x 4 columns]"
      ]
     },
     "execution_count": 395,
     "metadata": {},
     "output_type": "execute_result"
    }
   ],
   "source": [
    "df_change = df.copy()\n",
    "\n",
    "def convert_date(column):\n",
    "    try:\n",
    "        return pd.to_datetime(column, format=\"%d/%m/%Y\", errors='raise')\n",
    "    except Exception:\n",
    "        try:\n",
    "            return pd.to_datetime(column, format=\"%Y-%m-%d\", errors='raise')\n",
    "        except Exception as e:\n",
    "            print(\"Error occurred while converting dates:\", e)\n",
    "            return None\n",
    "\n",
    "# Convert \"Created On\" and \"Completion by date\" columns to datetime\n",
    "df_change[\"Created On\"] = df_change[\"Created On\"].apply(convert_date)\n",
    "df_change[\"Completion by date\"] = df_change[\"Completion by date\"].apply(convert_date)\n",
    "\n",
    "# Define a function to fill NaN values in \"Completion by date\" with \"Created On\" + 80 days\n",
    "def fill_completion_date(row):\n",
    "    if pd.isna(row[\"Completion by date\"]):\n",
    "        return row[\"Created On\"] + pd.Timedelta(days=80)\n",
    "    else:\n",
    "        return row[\"Completion by date\"]\n",
    "\n",
    "# Apply the function to fill NaN values\n",
    "df_change[\"Completion by date\"] = df_change.apply(fill_completion_date, axis=1)\n",
    "\n",
    "# Drop rows where conversion failed\n",
    "df_change.dropna(subset=[\"Created On\", \"Completion by date\"], inplace=True)\n",
    "\n",
    "# Calculate repair days\n",
    "df_change[\"Repair Days\"] = (df_change[\"Completion by date\"] - df_change[\"Created On\"]).dt.days\n",
    "\n",
    "# Group by Serial Number and sum the repair days\n",
    "total_repair_days = df_change.groupby(\"Serial Number\")[\"Repair Days\"].sum()\n",
    "\n",
    "# Create a new column \"Total Repair Days\" in the original Dataset by mapping the total repair days based on serial number\n",
    "df_new[\"Total Repair Days\"] = df_new[\"Serial Number\"].map(total_repair_days)\n",
    "\n",
    "df_new"
   ]
  },
  {
   "cell_type": "markdown",
   "metadata": {},
   "source": [
    "Visually show where the data lies"
   ]
  },
  {
   "cell_type": "code",
   "execution_count": 396,
   "metadata": {},
   "outputs": [
    {
     "data": {
      "image/png": "[encoded data removed]",
      "text/plain": [
       "<Figure size 500x250 with 2 Axes>"
      ]
     },
     "metadata": {},
     "output_type": "display_data"
    }
   ],
   "source": [
    "features = ['Number Repair', 'Total Repair Days']\n",
    "target = 'TSN Component (Off)(hours)'\n",
    "plot = sns.pairplot(df_new, x_vars=features, y_vars=target, kind=\"reg\")"
   ]
  },
  {
   "cell_type": "markdown",
   "metadata": {},
   "source": [
    "<span style=\"font-size:30px;\">Model</span>"
   ]
  },
  {
   "cell_type": "code",
   "execution_count": 397,
   "metadata": {},
   "outputs": [
    {
     "name": "stdout",
     "output_type": "stream",
     "text": [
      "There are in total 179 observations, of which 143 are now in the train set, and 36 in the test set.\n"
     ]
    }
   ],
   "source": [
    "X = df_new[features]\n",
    "y = df_new[target]\n",
    "\n",
    "from sklearn.model_selection import train_test_split\n",
    "X_train, X_test, y_train, y_test = train_test_split(X, y, test_size=0.2)\n",
    "print(\"There are in total\", len(X), \"observations, of which\", len(X_train), \"are now in the train set, and\", len(X_test), \"in the test set.\")\n",
    "\n",
    "scaler = StandardScaler()\n",
    "scaler.fit(X_train)\n",
    "X_train = scaler.transform(X_train)\n",
    "X_test = scaler.transform(X_test)"
   ]
  },
  {
   "cell_type": "code",
   "execution_count": 398,
   "metadata": {},
   "outputs": [
    {
     "name": "stdout",
     "output_type": "stream",
     "text": [
      "Mean Absolute Error:: 925.2065\n",
      "Accuracy within threshold (925.2065 away): 0.61\n"
     ]
    }
   ],
   "source": [
    "model = KNeighborsRegressor()\n",
    "model.fit(X_train, y_train)\n",
    "pred = model.predict(X_test)\n",
    "\n",
    "score = mean_absolute_error(pred, y_test)\n",
    "print(\"Mean Absolute Error::\", score)\n",
    "\n",
    "threshold = score\n",
    "\n",
    "# Check if predictions are within threshold\n",
    "accurate_predictions = sum(abs(pred - y_test) <= threshold)\n",
    "total_predictions = len(y_test)\n",
    "accuracy_within_threshold = accurate_predictions / total_predictions\n",
    "print(\"Accuracy within threshold ({} away): {:.2f}\".format(threshold, accuracy_within_threshold))"
   ]
  },
  {
   "cell_type": "markdown",
   "metadata": {},
   "source": [
    "<span style=\"font-size:30px;\">Evaluation</span>"
   ]
  },
  {
   "cell_type": "code",
   "execution_count": 399,
   "metadata": {},
   "outputs": [
    {
     "data": {
      "text/html": [
       "<div>\n",
       "<style scoped>\n",
       "    .dataframe tbody tr th:only-of-type {\n",
       "        vertical-align: middle;\n",
       "    }\n",
       "\n",
       "    .dataframe tbody tr th {\n",
       "        vertical-align: top;\n",
       "    }\n",
       "\n",
       "    .dataframe thead th {\n",
       "        text-align: right;\n",
       "    }\n",
       "</style>\n",
       "<table border=\"1\" class=\"dataframe\">\n",
       "  <thead>\n",
       "    <tr style=\"text-align: right;\">\n",
       "      <th></th>\n",
       "      <th>truth</th>\n",
       "      <th>prediction</th>\n",
       "      <th>error</th>\n",
       "    </tr>\n",
       "  </thead>\n",
       "  <tbody>\n",
       "    <tr>\n",
       "      <th>0</th>\n",
       "      <td>192.24</td>\n",
       "      <td>1348.592</td>\n",
       "      <td>1156</td>\n",
       "    </tr>\n",
       "    <tr>\n",
       "      <th>1</th>\n",
       "      <td>497.52</td>\n",
       "      <td>877.300</td>\n",
       "      <td>379</td>\n",
       "    </tr>\n",
       "    <tr>\n",
       "      <th>2</th>\n",
       "      <td>159.10</td>\n",
       "      <td>1165.816</td>\n",
       "      <td>1006</td>\n",
       "    </tr>\n",
       "    <tr>\n",
       "      <th>3</th>\n",
       "      <td>1797.37</td>\n",
       "      <td>1718.864</td>\n",
       "      <td>78</td>\n",
       "    </tr>\n",
       "    <tr>\n",
       "      <th>4</th>\n",
       "      <td>4946.80</td>\n",
       "      <td>1268.262</td>\n",
       "      <td>3678</td>\n",
       "    </tr>\n",
       "    <tr>\n",
       "      <th>5</th>\n",
       "      <td>1874.80</td>\n",
       "      <td>1173.986</td>\n",
       "      <td>700</td>\n",
       "    </tr>\n",
       "    <tr>\n",
       "      <th>6</th>\n",
       "      <td>1164.10</td>\n",
       "      <td>964.646</td>\n",
       "      <td>199</td>\n",
       "    </tr>\n",
       "    <tr>\n",
       "      <th>7</th>\n",
       "      <td>1996.90</td>\n",
       "      <td>861.522</td>\n",
       "      <td>1135</td>\n",
       "    </tr>\n",
       "    <tr>\n",
       "      <th>8</th>\n",
       "      <td>1707.34</td>\n",
       "      <td>1173.986</td>\n",
       "      <td>533</td>\n",
       "    </tr>\n",
       "    <tr>\n",
       "      <th>9</th>\n",
       "      <td>1755.35</td>\n",
       "      <td>1173.986</td>\n",
       "      <td>581</td>\n",
       "    </tr>\n",
       "    <tr>\n",
       "      <th>10</th>\n",
       "      <td>4283.80</td>\n",
       "      <td>868.832</td>\n",
       "      <td>3414</td>\n",
       "    </tr>\n",
       "    <tr>\n",
       "      <th>11</th>\n",
       "      <td>607.33</td>\n",
       "      <td>1173.986</td>\n",
       "      <td>566</td>\n",
       "    </tr>\n",
       "    <tr>\n",
       "      <th>12</th>\n",
       "      <td>533.06</td>\n",
       "      <td>1918.930</td>\n",
       "      <td>1385</td>\n",
       "    </tr>\n",
       "    <tr>\n",
       "      <th>13</th>\n",
       "      <td>1811.20</td>\n",
       "      <td>2102.320</td>\n",
       "      <td>291</td>\n",
       "    </tr>\n",
       "    <tr>\n",
       "      <th>14</th>\n",
       "      <td>1666.10</td>\n",
       "      <td>2036.120</td>\n",
       "      <td>370</td>\n",
       "    </tr>\n",
       "    <tr>\n",
       "      <th>15</th>\n",
       "      <td>307.69</td>\n",
       "      <td>1346.546</td>\n",
       "      <td>1038</td>\n",
       "    </tr>\n",
       "    <tr>\n",
       "      <th>16</th>\n",
       "      <td>1032.80</td>\n",
       "      <td>1295.882</td>\n",
       "      <td>263</td>\n",
       "    </tr>\n",
       "    <tr>\n",
       "      <th>17</th>\n",
       "      <td>1246.40</td>\n",
       "      <td>1165.816</td>\n",
       "      <td>80</td>\n",
       "    </tr>\n",
       "    <tr>\n",
       "      <th>18</th>\n",
       "      <td>1967.40</td>\n",
       "      <td>1314.628</td>\n",
       "      <td>652</td>\n",
       "    </tr>\n",
       "    <tr>\n",
       "      <th>19</th>\n",
       "      <td>1663.32</td>\n",
       "      <td>1173.986</td>\n",
       "      <td>489</td>\n",
       "    </tr>\n",
       "    <tr>\n",
       "      <th>20</th>\n",
       "      <td>697.68</td>\n",
       "      <td>1494.242</td>\n",
       "      <td>796</td>\n",
       "    </tr>\n",
       "    <tr>\n",
       "      <th>21</th>\n",
       "      <td>1189.00</td>\n",
       "      <td>2768.424</td>\n",
       "      <td>1579</td>\n",
       "    </tr>\n",
       "    <tr>\n",
       "      <th>22</th>\n",
       "      <td>2587.40</td>\n",
       "      <td>666.100</td>\n",
       "      <td>1921</td>\n",
       "    </tr>\n",
       "    <tr>\n",
       "      <th>23</th>\n",
       "      <td>1131.70</td>\n",
       "      <td>1922.180</td>\n",
       "      <td>790</td>\n",
       "    </tr>\n",
       "    <tr>\n",
       "      <th>24</th>\n",
       "      <td>12.22</td>\n",
       "      <td>1084.122</td>\n",
       "      <td>1071</td>\n",
       "    </tr>\n",
       "    <tr>\n",
       "      <th>25</th>\n",
       "      <td>1220.00</td>\n",
       "      <td>1163.054</td>\n",
       "      <td>56</td>\n",
       "    </tr>\n",
       "    <tr>\n",
       "      <th>26</th>\n",
       "      <td>732.50</td>\n",
       "      <td>1268.262</td>\n",
       "      <td>535</td>\n",
       "    </tr>\n",
       "    <tr>\n",
       "      <th>27</th>\n",
       "      <td>1043.90</td>\n",
       "      <td>1267.616</td>\n",
       "      <td>223</td>\n",
       "    </tr>\n",
       "    <tr>\n",
       "      <th>28</th>\n",
       "      <td>3471.90</td>\n",
       "      <td>737.462</td>\n",
       "      <td>2734</td>\n",
       "    </tr>\n",
       "    <tr>\n",
       "      <th>29</th>\n",
       "      <td>997.80</td>\n",
       "      <td>1979.706</td>\n",
       "      <td>981</td>\n",
       "    </tr>\n",
       "    <tr>\n",
       "      <th>30</th>\n",
       "      <td>68.90</td>\n",
       "      <td>578.530</td>\n",
       "      <td>509</td>\n",
       "    </tr>\n",
       "    <tr>\n",
       "      <th>31</th>\n",
       "      <td>1462.30</td>\n",
       "      <td>2531.506</td>\n",
       "      <td>1069</td>\n",
       "    </tr>\n",
       "    <tr>\n",
       "      <th>32</th>\n",
       "      <td>1417.55</td>\n",
       "      <td>2036.120</td>\n",
       "      <td>618</td>\n",
       "    </tr>\n",
       "    <tr>\n",
       "      <th>33</th>\n",
       "      <td>1897.28</td>\n",
       "      <td>989.580</td>\n",
       "      <td>907</td>\n",
       "    </tr>\n",
       "    <tr>\n",
       "      <th>34</th>\n",
       "      <td>2017.21</td>\n",
       "      <td>2531.506</td>\n",
       "      <td>514</td>\n",
       "    </tr>\n",
       "    <tr>\n",
       "      <th>35</th>\n",
       "      <td>1853.60</td>\n",
       "      <td>861.522</td>\n",
       "      <td>992</td>\n",
       "    </tr>\n",
       "  </tbody>\n",
       "</table>\n",
       "</div>"
      ],
      "text/plain": [
       "      truth  prediction  error\n",
       "0    192.24    1348.592   1156\n",
       "1    497.52     877.300    379\n",
       "2    159.10    1165.816   1006\n",
       "3   1797.37    1718.864     78\n",
       "4   4946.80    1268.262   3678\n",
       "5   1874.80    1173.986    700\n",
       "6   1164.10     964.646    199\n",
       "7   1996.90     861.522   1135\n",
       "8   1707.34    1173.986    533\n",
       "9   1755.35    1173.986    581\n",
       "10  4283.80     868.832   3414\n",
       "11   607.33    1173.986    566\n",
       "12   533.06    1918.930   1385\n",
       "13  1811.20    2102.320    291\n",
       "14  1666.10    2036.120    370\n",
       "15   307.69    1346.546   1038\n",
       "16  1032.80    1295.882    263\n",
       "17  1246.40    1165.816     80\n",
       "18  1967.40    1314.628    652\n",
       "19  1663.32    1173.986    489\n",
       "20   697.68    1494.242    796\n",
       "21  1189.00    2768.424   1579\n",
       "22  2587.40     666.100   1921\n",
       "23  1131.70    1922.180    790\n",
       "24    12.22    1084.122   1071\n",
       "25  1220.00    1163.054     56\n",
       "26   732.50    1268.262    535\n",
       "27  1043.90    1267.616    223\n",
       "28  3471.90     737.462   2734\n",
       "29   997.80    1979.706    981\n",
       "30    68.90     578.530    509\n",
       "31  1462.30    2531.506   1069\n",
       "32  1417.55    2036.120    618\n",
       "33  1897.28     989.580    907\n",
       "34  2017.21    2531.506    514\n",
       "35  1853.60     861.522    992"
      ]
     },
     "execution_count": 399,
     "metadata": {},
     "output_type": "execute_result"
    }
   ],
   "source": [
    "predictions = model.predict(X_test)\n",
    "\n",
    "prediction_overview = pd.DataFrame()\n",
    "prediction_overview[\"truth\"] = y_test\n",
    "prediction_overview[\"prediction\"] = predictions\n",
    "prediction_overview[\"error\"] = prediction_overview[\"truth\"] - prediction_overview[\"prediction\"]\n",
    "prediction_overview[\"error\"] = abs(prediction_overview[\"error\"].astype(int))\n",
    "prediction_overview = prediction_overview.reset_index(drop=True)\n",
    "prediction_overview"
   ]
  },
  {
   "cell_type": "code",
   "execution_count": 400,
   "metadata": {},
   "outputs": [
    {
     "data": {
      "text/plain": [
       "<Axes: xlabel='predicted TSN', ylabel='true TSN'>"
      ]
     },
     "execution_count": 400,
     "metadata": {},
     "output_type": "execute_result"
    },
    {
     "data": {
      "image/png": "[encoded data removed]",
      "text/plain": [
       "<Figure size 640x480 with 1 Axes>"
      ]
     },
     "metadata": {},
     "output_type": "display_data"
    }
   ],
   "source": [
    "plot = sns.regplot(y=y_test.values.flatten(), x=predictions.flatten(), line_kws={\"color\": \"r\"})\n",
    "plot.set_xlabel(\"predicted TSN\")\n",
    "plot.set_ylabel(\"true TSN\")\n",
    "plot"
   ]
  },
  {
   "cell_type": "code",
   "execution_count": 401,
   "metadata": {},
   "outputs": [
    {
     "name": "stdout",
     "output_type": "stream",
     "text": [
      "Max Error: 3679\n",
      "Root Mean Squared Error: 1244\n"
     ]
    }
   ],
   "source": [
    "me = max_error(y_test, predictions)\n",
    "me = math.ceil(me)\n",
    "print(\"Max Error:\", me)\n",
    "\n",
    "mse = mean_squared_error(y_test, predictions)\n",
    "rmse = math.sqrt(mse)\n",
    "rmse = math.ceil(rmse)\n",
    "print(\"Root Mean Squared Error:\", rmse)"
   ]
  },
  {
   "cell_type": "markdown",
   "metadata": {},
   "source": [
    "From the new table that was created and the extra data that I used you can see that the accuracy either improves or is similar to the previouse accuracy. The biggest change is the absolute error that decrease by a lot compared to the previouse version which made the prediction much better. From running it multiple times on averegate there are a lot of inconsistancies with the accuracy where it can range from 0.55 to 0.7 and this is better than the previouse version. \n",
    "\n",
    "With the error I can also see that on average the mean error is still around 1000. However the Max error has decreased with the lowest being 2100. From the added data I can tell that with both the increase in accuracy and lowering of the error it was a good decision."
   ]
  },
  {
   "cell_type": "markdown",
   "metadata": {},
   "source": [
    "<span style=\"font-size:30px;\">Data Preperation</span>"
   ]
  },
  {
   "cell_type": "markdown",
   "metadata": {},
   "source": [
    "For this itteration I am going to add data for another plane part and see if that will improve the algorithm or work better than the previouse one. I have another data set that has not been used yet. I will now clean the new data and also combine it with the df_new to see if it will change the accuracy."
   ]
  },
  {
   "cell_type": "code",
   "execution_count": 402,
   "metadata": {},
   "outputs": [],
   "source": [
    "df_comp = pd.read_csv('Project2.csv')"
   ]
  },
  {
   "cell_type": "code",
   "execution_count": 403,
   "metadata": {},
   "outputs": [
    {
     "data": {
      "text/plain": [
       "(444, 8)"
      ]
     },
     "execution_count": 403,
     "metadata": {},
     "output_type": "execute_result"
    }
   ],
   "source": [
    "df_comp.shape"
   ]
  },
  {
   "cell_type": "code",
   "execution_count": 404,
   "metadata": {},
   "outputs": [
    {
     "data": {
      "text/plain": [
       "Index(['Created On', 'Short text for code', 'Item Description',\n",
       "       'Serial Number', 'A/C Serial No.', 'Completion by date',\n",
       "       'TSN Component (Off)(hours)', 'Equipment'],\n",
       "      dtype='object')"
      ]
     },
     "execution_count": 404,
     "metadata": {},
     "output_type": "execute_result"
    }
   ],
   "source": [
    "df_comp.columns"
   ]
  },
  {
   "cell_type": "code",
   "execution_count": 405,
   "metadata": {},
   "outputs": [
    {
     "data": {
      "text/plain": [
       "Created On                    object\n",
       "Short text for code           object\n",
       "Item Description              object\n",
       "Serial Number                 object\n",
       "A/C Serial No.                object\n",
       "Completion by date            object\n",
       "TSN Component (Off)(hours)    object\n",
       "Equipment                      int64\n",
       "dtype: object"
      ]
     },
     "execution_count": 405,
     "metadata": {},
     "output_type": "execute_result"
    }
   ],
   "source": [
    "df_comp.dtypes"
   ]
  },
  {
   "cell_type": "code",
   "execution_count": 406,
   "metadata": {},
   "outputs": [
    {
     "data": {
      "text/plain": [
       "Created On                    323\n",
       "Short text for code             8\n",
       "Item Description                1\n",
       "Serial Number                 258\n",
       "A/C Serial No.                157\n",
       "Completion by date            226\n",
       "TSN Component (Off)(hours)    237\n",
       "dtype: int64"
      ]
     },
     "execution_count": 406,
     "metadata": {},
     "output_type": "execute_result"
    }
   ],
   "source": [
    "df_comp.select_dtypes(include=[\"object\"]).nunique()"
   ]
  },
  {
   "cell_type": "code",
   "execution_count": 407,
   "metadata": {},
   "outputs": [
    {
     "data": {
      "text/plain": [
       "array([nan, 'REPAIR', 'WARRANTY', 'INSPECTION / TEST', 'BENCHTEST',\n",
       "       'NO FAULT FOUND', 'MODIFICATION', 'INVESTIGATION', 'RETURN AS IS'],\n",
       "      dtype=object)"
      ]
     },
     "execution_count": 407,
     "metadata": {},
     "output_type": "execute_result"
    }
   ],
   "source": [
    "df_comp['Short text for code'].unique()"
   ]
  },
  {
   "cell_type": "code",
   "execution_count": 408,
   "metadata": {},
   "outputs": [
    {
     "data": {
      "text/plain": [
       "Short text for code\n",
       "BENCHTEST              1\n",
       "INSPECTION / TEST     23\n",
       "INVESTIGATION          9\n",
       "MODIFICATION           2\n",
       "NO FAULT FOUND        98\n",
       "REPAIR               228\n",
       "RETURN AS IS           8\n",
       "WARRANTY              30\n",
       "Name: Short text for code, dtype: int64"
      ]
     },
     "execution_count": 408,
     "metadata": {},
     "output_type": "execute_result"
    }
   ],
   "source": [
    "df_comp.groupby(['Short text for code'])['Short text for code'].count()"
   ]
  },
  {
   "cell_type": "code",
   "execution_count": 409,
   "metadata": {},
   "outputs": [
    {
     "data": {
      "text/html": [
       "<div>\n",
       "<style scoped>\n",
       "    .dataframe tbody tr th:only-of-type {\n",
       "        vertical-align: middle;\n",
       "    }\n",
       "\n",
       "    .dataframe tbody tr th {\n",
       "        vertical-align: top;\n",
       "    }\n",
       "\n",
       "    .dataframe thead th {\n",
       "        text-align: right;\n",
       "    }\n",
       "</style>\n",
       "<table border=\"1\" class=\"dataframe\">\n",
       "  <thead>\n",
       "    <tr style=\"text-align: right;\">\n",
       "      <th></th>\n",
       "      <th>Created On</th>\n",
       "      <th>Short text for code</th>\n",
       "      <th>Item Description</th>\n",
       "      <th>Serial Number</th>\n",
       "      <th>A/C Serial No.</th>\n",
       "      <th>Completion by date</th>\n",
       "      <th>TSN Component (Off)(hours)</th>\n",
       "      <th>Equipment</th>\n",
       "    </tr>\n",
       "  </thead>\n",
       "  <tbody>\n",
       "    <tr>\n",
       "      <th>7</th>\n",
       "      <td>21/09/2011</td>\n",
       "      <td>NaN</td>\n",
       "      <td>REMOTE IO CONCENTRATOR</td>\n",
       "      <td>S10770752</td>\n",
       "      <td>132 PC21</td>\n",
       "      <td>17/10/2011</td>\n",
       "      <td>NaN</td>\n",
       "      <td>10405843</td>\n",
       "    </tr>\n",
       "    <tr>\n",
       "      <th>336</th>\n",
       "      <td>08/11/2021</td>\n",
       "      <td>REPAIR</td>\n",
       "      <td>REMOTE IO CONCENTRATOR</td>\n",
       "      <td>S12600704</td>\n",
       "      <td>205</td>\n",
       "      <td>17/08/2022</td>\n",
       "      <td>1182.40</td>\n",
       "      <td>10482361</td>\n",
       "    </tr>\n",
       "    <tr>\n",
       "      <th>155</th>\n",
       "      <td>23/04/2018</td>\n",
       "      <td>REPAIR</td>\n",
       "      <td>REMOTE IO CONCENTRATOR</td>\n",
       "      <td>S13074083</td>\n",
       "      <td>173</td>\n",
       "      <td>02/08/2018</td>\n",
       "      <td>576.10</td>\n",
       "      <td>10509840</td>\n",
       "    </tr>\n",
       "    <tr>\n",
       "      <th>111</th>\n",
       "      <td>25/04/2017</td>\n",
       "      <td>NO FAULT FOUND</td>\n",
       "      <td>REMOTE IO CONCENTRATOR</td>\n",
       "      <td>S13032105</td>\n",
       "      <td>NaN</td>\n",
       "      <td>04/01/2018</td>\n",
       "      <td>252.85</td>\n",
       "      <td>10500814</td>\n",
       "    </tr>\n",
       "    <tr>\n",
       "      <th>27</th>\n",
       "      <td>21/05/2013</td>\n",
       "      <td>REPAIR</td>\n",
       "      <td>REMOTE IO CONCENTRATOR</td>\n",
       "      <td>S10740390</td>\n",
       "      <td>136</td>\n",
       "      <td>07/08/2013</td>\n",
       "      <td>511.30</td>\n",
       "      <td>10386090</td>\n",
       "    </tr>\n",
       "    <tr>\n",
       "      <th>204</th>\n",
       "      <td>13/06/2019</td>\n",
       "      <td>NO FAULT FOUND</td>\n",
       "      <td>REMOTE IO CONCENTRATOR</td>\n",
       "      <td>S17153962</td>\n",
       "      <td>250</td>\n",
       "      <td>22/11/2019</td>\n",
       "      <td>156.50</td>\n",
       "      <td>10743642</td>\n",
       "    </tr>\n",
       "    <tr>\n",
       "      <th>132</th>\n",
       "      <td>19/10/2017</td>\n",
       "      <td>INSPECTION / TEST</td>\n",
       "      <td>REMOTE IO CONCENTRATOR</td>\n",
       "      <td>S11055819</td>\n",
       "      <td>150</td>\n",
       "      <td>14/03/2018</td>\n",
       "      <td>1135.40</td>\n",
       "      <td>10409995</td>\n",
       "    </tr>\n",
       "    <tr>\n",
       "      <th>407</th>\n",
       "      <td>09/10/2023</td>\n",
       "      <td>REPAIR</td>\n",
       "      <td>REMOTE IO CONCENTRATOR</td>\n",
       "      <td>S16414821</td>\n",
       "      <td>NaN</td>\n",
       "      <td>NaN</td>\n",
       "      <td>1466.50</td>\n",
       "      <td>10703183</td>\n",
       "    </tr>\n",
       "    <tr>\n",
       "      <th>33</th>\n",
       "      <td>16/01/2014</td>\n",
       "      <td>REPAIR</td>\n",
       "      <td>REMOTE IO CONCENTRATOR</td>\n",
       "      <td>S10740390</td>\n",
       "      <td>140</td>\n",
       "      <td>22/05/2014</td>\n",
       "      <td>511.30</td>\n",
       "      <td>10386090</td>\n",
       "    </tr>\n",
       "    <tr>\n",
       "      <th>300</th>\n",
       "      <td>18/10/2020</td>\n",
       "      <td>NO FAULT FOUND</td>\n",
       "      <td>REMOTE IO CONCENTRATOR</td>\n",
       "      <td>S17382003</td>\n",
       "      <td>258</td>\n",
       "      <td>07/04/2021</td>\n",
       "      <td>518.80</td>\n",
       "      <td>10792019</td>\n",
       "    </tr>\n",
       "  </tbody>\n",
       "</table>\n",
       "</div>"
      ],
      "text/plain": [
       "     Created On Short text for code        Item Description Serial Number  \\\n",
       "7    21/09/2011                 NaN  REMOTE IO CONCENTRATOR     S10770752   \n",
       "336  08/11/2021              REPAIR  REMOTE IO CONCENTRATOR     S12600704   \n",
       "155  23/04/2018              REPAIR  REMOTE IO CONCENTRATOR     S13074083   \n",
       "111  25/04/2017      NO FAULT FOUND  REMOTE IO CONCENTRATOR     S13032105   \n",
       "27   21/05/2013              REPAIR  REMOTE IO CONCENTRATOR     S10740390   \n",
       "204  13/06/2019      NO FAULT FOUND  REMOTE IO CONCENTRATOR     S17153962   \n",
       "132  19/10/2017   INSPECTION / TEST  REMOTE IO CONCENTRATOR     S11055819   \n",
       "407  09/10/2023              REPAIR  REMOTE IO CONCENTRATOR     S16414821   \n",
       "33   16/01/2014              REPAIR  REMOTE IO CONCENTRATOR     S10740390   \n",
       "300  18/10/2020      NO FAULT FOUND  REMOTE IO CONCENTRATOR     S17382003   \n",
       "\n",
       "    A/C Serial No. Completion by date TSN Component (Off)(hours)  Equipment  \n",
       "7         132 PC21         17/10/2011                        NaN   10405843  \n",
       "336            205         17/08/2022                    1182.40   10482361  \n",
       "155            173         02/08/2018                     576.10   10509840  \n",
       "111            NaN         04/01/2018                     252.85   10500814  \n",
       "27             136         07/08/2013                     511.30   10386090  \n",
       "204            250         22/11/2019                     156.50   10743642  \n",
       "132            150         14/03/2018                    1135.40   10409995  \n",
       "407            NaN                NaN                    1466.50   10703183  \n",
       "33             140         22/05/2014                     511.30   10386090  \n",
       "300            258         07/04/2021                     518.80   10792019  "
      ]
     },
     "execution_count": 409,
     "metadata": {},
     "output_type": "execute_result"
    }
   ],
   "source": [
    "df_comp.sample(10)"
   ]
  },
  {
   "cell_type": "code",
   "execution_count": 410,
   "metadata": {},
   "outputs": [
    {
     "data": {
      "text/html": [
       "<div>\n",
       "<style scoped>\n",
       "    .dataframe tbody tr th:only-of-type {\n",
       "        vertical-align: middle;\n",
       "    }\n",
       "\n",
       "    .dataframe tbody tr th {\n",
       "        vertical-align: top;\n",
       "    }\n",
       "\n",
       "    .dataframe thead th {\n",
       "        text-align: right;\n",
       "    }\n",
       "</style>\n",
       "<table border=\"1\" class=\"dataframe\">\n",
       "  <thead>\n",
       "    <tr style=\"text-align: right;\">\n",
       "      <th></th>\n",
       "      <th>Serial Number</th>\n",
       "      <th>TSN Component (Off)(hours)</th>\n",
       "      <th>Number Repair</th>\n",
       "    </tr>\n",
       "  </thead>\n",
       "  <tbody>\n",
       "    <tr>\n",
       "      <th>0</th>\n",
       "      <td>S10740375</td>\n",
       "      <td>NaN</td>\n",
       "      <td>1</td>\n",
       "    </tr>\n",
       "    <tr>\n",
       "      <th>1</th>\n",
       "      <td>S10709288</td>\n",
       "      <td>NaN</td>\n",
       "      <td>5</td>\n",
       "    </tr>\n",
       "    <tr>\n",
       "      <th>2</th>\n",
       "      <td>S10709287</td>\n",
       "      <td>NaN</td>\n",
       "      <td>10</td>\n",
       "    </tr>\n",
       "    <tr>\n",
       "      <th>3</th>\n",
       "      <td>S10709297</td>\n",
       "      <td>NaN</td>\n",
       "      <td>2</td>\n",
       "    </tr>\n",
       "    <tr>\n",
       "      <th>4</th>\n",
       "      <td>S10770751</td>\n",
       "      <td>NaN</td>\n",
       "      <td>1</td>\n",
       "    </tr>\n",
       "    <tr>\n",
       "      <th>...</th>\n",
       "      <td>...</td>\n",
       "      <td>...</td>\n",
       "      <td>...</td>\n",
       "    </tr>\n",
       "    <tr>\n",
       "      <th>437</th>\n",
       "      <td>S17341948</td>\n",
       "      <td>1771.40</td>\n",
       "      <td>1</td>\n",
       "    </tr>\n",
       "    <tr>\n",
       "      <th>438</th>\n",
       "      <td>S18139470</td>\n",
       "      <td>1565.70</td>\n",
       "      <td>1</td>\n",
       "    </tr>\n",
       "    <tr>\n",
       "      <th>439</th>\n",
       "      <td>S17317846</td>\n",
       "      <td>2495.04</td>\n",
       "      <td>1</td>\n",
       "    </tr>\n",
       "    <tr>\n",
       "      <th>440</th>\n",
       "      <td>S17341950</td>\n",
       "      <td>1716.60</td>\n",
       "      <td>1</td>\n",
       "    </tr>\n",
       "    <tr>\n",
       "      <th>441</th>\n",
       "      <td>S10740387</td>\n",
       "      <td>3000.00</td>\n",
       "      <td>1</td>\n",
       "    </tr>\n",
       "  </tbody>\n",
       "</table>\n",
       "<p>258 rows × 3 columns</p>\n",
       "</div>"
      ],
      "text/plain": [
       "    Serial Number TSN Component (Off)(hours)  Number Repair\n",
       "0       S10740375                        NaN              1\n",
       "1       S10709288                        NaN              5\n",
       "2       S10709287                        NaN             10\n",
       "3       S10709297                        NaN              2\n",
       "4       S10770751                        NaN              1\n",
       "..            ...                        ...            ...\n",
       "437     S17341948                    1771.40              1\n",
       "438     S18139470                    1565.70              1\n",
       "439     S17317846                    2495.04              1\n",
       "440     S17341950                    1716.60              1\n",
       "441     S10740387                    3000.00              1\n",
       "\n",
       "[258 rows x 3 columns]"
      ]
     },
     "execution_count": 410,
     "metadata": {},
     "output_type": "execute_result"
    }
   ],
   "source": [
    "df_comp2 = df_comp[['Serial Number','TSN Component (Off)(hours)']].drop_duplicates(subset = ['Serial Number'], keep = 'first').copy()\n",
    "df_comp2 = df_comp2.merge((df_comp['Serial Number'].value_counts()).rename('Number Repair'), left_on='Serial Number', right_index=True)\n",
    "df_comp2"
   ]
  },
  {
   "cell_type": "markdown",
   "metadata": {},
   "source": [
    "Next to check if there are any problems with the TSN component and then remove the problem"
   ]
  },
  {
   "cell_type": "code",
   "execution_count": 411,
   "metadata": {},
   "outputs": [
    {
     "name": "stdout",
     "output_type": "stream",
     "text": [
      "Non-numeric values found in 'your_column':\n",
      "0      NaN\n",
      "1      NaN\n",
      "2      NaN\n",
      "3      NaN\n",
      "4      NaN\n",
      "5      NaN\n",
      "6      NaN\n",
      "7      NaN\n",
      "8      NaN\n",
      "9      NaN\n",
      "10     NaN\n",
      "11     NaN\n",
      "12     NaN\n",
      "13     NaN\n",
      "19     UNK\n",
      "25     UNK\n",
      "37     UNK\n",
      "61     UNK\n",
      "84     UNK\n",
      "95     UNK\n",
      "104    UNK\n",
      "232    UNK\n",
      "385    UNK\n",
      "402    UNK\n",
      "403    UNK\n",
      "405    UNK\n",
      "Name: TSN Component (Off)(hours), dtype: object\n"
     ]
    }
   ],
   "source": [
    "numeric_column = pd.to_numeric(df_comp2['TSN Component (Off)(hours)'], errors='coerce')\n",
    "\n",
    "non_numeric_values = df_comp2[pd.isna(numeric_column)]['TSN Component (Off)(hours)']\n",
    "\n",
    "if not non_numeric_values.empty:\n",
    "    print(\"Non-numeric values found in 'your_column':\")\n",
    "    print(non_numeric_values)\n",
    "else:\n",
    "    print(\"No non-numeric values found in 'your_column'\")"
   ]
  },
  {
   "cell_type": "markdown",
   "metadata": {},
   "source": [
    "seems to be similar problem as before thus I will remove these values"
   ]
  },
  {
   "cell_type": "code",
   "execution_count": 412,
   "metadata": {},
   "outputs": [],
   "source": [
    "df_comp2 = df_comp2[df_comp2['TSN Component (Off)(hours)'] != 'UNK']"
   ]
  },
  {
   "cell_type": "code",
   "execution_count": 413,
   "metadata": {},
   "outputs": [],
   "source": [
    "df_comp2 = df_comp2.dropna(subset=['TSN Component (Off)(hours)'])"
   ]
  },
  {
   "cell_type": "code",
   "execution_count": 414,
   "metadata": {},
   "outputs": [
    {
     "name": "stdout",
     "output_type": "stream",
     "text": [
      "Rows with non-numeric values in 'TSN Component (Off)(hours)':\n",
      "Empty DataFrame\n",
      "Columns: [Serial Number, TSN Component (Off)(hours), Number Repair]\n",
      "Index: []\n"
     ]
    }
   ],
   "source": [
    "tsn_numeric = pd.to_numeric(df_comp2['TSN Component (Off)(hours)'], errors='coerce')\n",
    "invalid_values = df_comp2[tsn_numeric.isna()]\n",
    "print(\"Rows with non-numeric values in 'TSN Component (Off)(hours)':\")\n",
    "print(invalid_values)"
   ]
  },
  {
   "cell_type": "markdown",
   "metadata": {},
   "source": [
    "Here I change the TSN to a float"
   ]
  },
  {
   "cell_type": "code",
   "execution_count": 415,
   "metadata": {},
   "outputs": [
    {
     "data": {
      "text/plain": [
       "Serial Number                  object\n",
       "TSN Component (Off)(hours)    float64\n",
       "Number Repair                   int64\n",
       "dtype: object"
      ]
     },
     "execution_count": 415,
     "metadata": {},
     "output_type": "execute_result"
    }
   ],
   "source": [
    "df_comp2['TSN Component (Off)(hours)'] = df_comp2['TSN Component (Off)(hours)'].astype(float)\n",
    "df_comp2.dtypes"
   ]
  },
  {
   "cell_type": "code",
   "execution_count": 416,
   "metadata": {},
   "outputs": [
    {
     "data": {
      "text/html": [
       "<div>\n",
       "<style scoped>\n",
       "    .dataframe tbody tr th:only-of-type {\n",
       "        vertical-align: middle;\n",
       "    }\n",
       "\n",
       "    .dataframe tbody tr th {\n",
       "        vertical-align: top;\n",
       "    }\n",
       "\n",
       "    .dataframe thead th {\n",
       "        text-align: right;\n",
       "    }\n",
       "</style>\n",
       "<table border=\"1\" class=\"dataframe\">\n",
       "  <thead>\n",
       "    <tr style=\"text-align: right;\">\n",
       "      <th></th>\n",
       "      <th>Serial Number</th>\n",
       "      <th>TSN Component (Off)(hours)</th>\n",
       "      <th>Number Repair</th>\n",
       "    </tr>\n",
       "  </thead>\n",
       "  <tbody>\n",
       "    <tr>\n",
       "      <th>15</th>\n",
       "      <td>S10740390</td>\n",
       "      <td>511.30</td>\n",
       "      <td>7</td>\n",
       "    </tr>\n",
       "    <tr>\n",
       "      <th>17</th>\n",
       "      <td>S10740403</td>\n",
       "      <td>176.30</td>\n",
       "      <td>1</td>\n",
       "    </tr>\n",
       "    <tr>\n",
       "      <th>18</th>\n",
       "      <td>S10770721</td>\n",
       "      <td>114.20</td>\n",
       "      <td>1</td>\n",
       "    </tr>\n",
       "    <tr>\n",
       "      <th>20</th>\n",
       "      <td>S10709278</td>\n",
       "      <td>1505.00</td>\n",
       "      <td>2</td>\n",
       "    </tr>\n",
       "    <tr>\n",
       "      <th>21</th>\n",
       "      <td>S10709279</td>\n",
       "      <td>237.10</td>\n",
       "      <td>1</td>\n",
       "    </tr>\n",
       "    <tr>\n",
       "      <th>...</th>\n",
       "      <td>...</td>\n",
       "      <td>...</td>\n",
       "      <td>...</td>\n",
       "    </tr>\n",
       "    <tr>\n",
       "      <th>437</th>\n",
       "      <td>S17341948</td>\n",
       "      <td>1771.40</td>\n",
       "      <td>1</td>\n",
       "    </tr>\n",
       "    <tr>\n",
       "      <th>438</th>\n",
       "      <td>S18139470</td>\n",
       "      <td>1565.70</td>\n",
       "      <td>1</td>\n",
       "    </tr>\n",
       "    <tr>\n",
       "      <th>439</th>\n",
       "      <td>S17317846</td>\n",
       "      <td>2495.04</td>\n",
       "      <td>1</td>\n",
       "    </tr>\n",
       "    <tr>\n",
       "      <th>440</th>\n",
       "      <td>S17341950</td>\n",
       "      <td>1716.60</td>\n",
       "      <td>1</td>\n",
       "    </tr>\n",
       "    <tr>\n",
       "      <th>441</th>\n",
       "      <td>S10740387</td>\n",
       "      <td>3000.00</td>\n",
       "      <td>1</td>\n",
       "    </tr>\n",
       "  </tbody>\n",
       "</table>\n",
       "<p>232 rows × 3 columns</p>\n",
       "</div>"
      ],
      "text/plain": [
       "    Serial Number  TSN Component (Off)(hours)  Number Repair\n",
       "15      S10740390                      511.30              7\n",
       "17      S10740403                      176.30              1\n",
       "18      S10770721                      114.20              1\n",
       "20      S10709278                     1505.00              2\n",
       "21      S10709279                      237.10              1\n",
       "..            ...                         ...            ...\n",
       "437     S17341948                     1771.40              1\n",
       "438     S18139470                     1565.70              1\n",
       "439     S17317846                     2495.04              1\n",
       "440     S17341950                     1716.60              1\n",
       "441     S10740387                     3000.00              1\n",
       "\n",
       "[232 rows x 3 columns]"
      ]
     },
     "execution_count": 416,
     "metadata": {},
     "output_type": "execute_result"
    }
   ],
   "source": [
    "df_comp2"
   ]
  },
  {
   "cell_type": "code",
   "execution_count": 417,
   "metadata": {},
   "outputs": [
    {
     "data": {
      "image/png": "[encoded data removed]",
      "text/plain": [
       "<Figure size 640x480 with 1 Axes>"
      ]
     },
     "metadata": {},
     "output_type": "display_data"
    }
   ],
   "source": [
    "sns.boxplot(data=df_comp2, x='Number Repair', y='TSN Component (Off)(hours)', order=['1', '2', '3', '4', '5', '6', '7', '8'])\n",
    "\n",
    "plt.xlabel('Number Repair')\n",
    "plt.ylabel('TSN Component (Off)(hours)')\n",
    "plt.title('Distribution of Salaries by Employment Type')\n",
    "\n",
    "plt.show()"
   ]
  },
  {
   "cell_type": "code",
   "execution_count": 418,
   "metadata": {},
   "outputs": [
    {
     "data": {
      "text/plain": [
       "Text(0.5, 1.0, 'Number Repairs vs TSN')"
      ]
     },
     "execution_count": 418,
     "metadata": {},
     "output_type": "execute_result"
    },
    {
     "data": {
      "image/png": "[encoded data removed]",
      "text/plain": [
       "<Figure size 640x480 with 1 Axes>"
      ]
     },
     "metadata": {},
     "output_type": "display_data"
    }
   ],
   "source": [
    "plt.scatter(df_comp2['Number Repair'], df_comp2['TSN Component (Off)(hours)'], )\n",
    "\n",
    "\n",
    "plt.xlabel('Number Repairs')\n",
    "plt.ylabel('TSN')\n",
    "plt.title('Number Repairs vs TSN')"
   ]
  },
  {
   "cell_type": "code",
   "execution_count": 419,
   "metadata": {},
   "outputs": [
    {
     "data": {
      "text/plain": [
       "Number Repair\n",
       "1    148\n",
       "2     54\n",
       "3     16\n",
       "4      8\n",
       "6      4\n",
       "7      1\n",
       "5      1\n",
       "Name: count, dtype: int64"
      ]
     },
     "execution_count": 419,
     "metadata": {},
     "output_type": "execute_result"
    }
   ],
   "source": [
    "df_comp2['Number Repair'].value_counts()"
   ]
  },
  {
   "cell_type": "markdown",
   "metadata": {},
   "source": [
    "Creating a total repair days again"
   ]
  },
  {
   "cell_type": "code",
   "execution_count": 420,
   "metadata": {},
   "outputs": [
    {
     "name": "stderr",
     "output_type": "stream",
     "text": [
      "C:\\Users\\jan\\AppData\\Local\\Temp\\ipykernel_13100\\4172102738.py:4: FutureWarning: A value is trying to be set on a copy of a DataFrame or Series through chained assignment using an inplace method.\n",
      "The behavior will change in pandas 3.0. This inplace method will never work because the intermediate object on which we are setting values always behaves as a copy.\n",
      "\n",
      "For example, when doing 'df[col].method(value, inplace=True)', try using 'df.method({col: value}, inplace=True)' or df[col] = df[col].method(value) instead, to perform the operation inplace on the original object.\n",
      "\n",
      "\n",
      "  df_change[\"Completion by date\"].fillna(current_date, inplace=True)\n"
     ]
    },
    {
     "data": {
      "text/html": [
       "<div>\n",
       "<style scoped>\n",
       "    .dataframe tbody tr th:only-of-type {\n",
       "        vertical-align: middle;\n",
       "    }\n",
       "\n",
       "    .dataframe tbody tr th {\n",
       "        vertical-align: top;\n",
       "    }\n",
       "\n",
       "    .dataframe thead th {\n",
       "        text-align: right;\n",
       "    }\n",
       "</style>\n",
       "<table border=\"1\" class=\"dataframe\">\n",
       "  <thead>\n",
       "    <tr style=\"text-align: right;\">\n",
       "      <th></th>\n",
       "      <th>Serial Number</th>\n",
       "      <th>TSN Component (Off)(hours)</th>\n",
       "      <th>Number Repair</th>\n",
       "      <th>Total Repair Days</th>\n",
       "    </tr>\n",
       "  </thead>\n",
       "  <tbody>\n",
       "    <tr>\n",
       "      <th>15</th>\n",
       "      <td>S10740390</td>\n",
       "      <td>511.30</td>\n",
       "      <td>7</td>\n",
       "      <td>1131</td>\n",
       "    </tr>\n",
       "    <tr>\n",
       "      <th>17</th>\n",
       "      <td>S10740403</td>\n",
       "      <td>176.30</td>\n",
       "      <td>1</td>\n",
       "      <td>109</td>\n",
       "    </tr>\n",
       "    <tr>\n",
       "      <th>18</th>\n",
       "      <td>S10770721</td>\n",
       "      <td>114.20</td>\n",
       "      <td>1</td>\n",
       "      <td>109</td>\n",
       "    </tr>\n",
       "    <tr>\n",
       "      <th>20</th>\n",
       "      <td>S10709278</td>\n",
       "      <td>1505.00</td>\n",
       "      <td>2</td>\n",
       "      <td>475</td>\n",
       "    </tr>\n",
       "    <tr>\n",
       "      <th>21</th>\n",
       "      <td>S10709279</td>\n",
       "      <td>237.10</td>\n",
       "      <td>1</td>\n",
       "      <td>153</td>\n",
       "    </tr>\n",
       "    <tr>\n",
       "      <th>...</th>\n",
       "      <td>...</td>\n",
       "      <td>...</td>\n",
       "      <td>...</td>\n",
       "      <td>...</td>\n",
       "    </tr>\n",
       "    <tr>\n",
       "      <th>437</th>\n",
       "      <td>S17341948</td>\n",
       "      <td>1771.40</td>\n",
       "      <td>1</td>\n",
       "      <td>102</td>\n",
       "    </tr>\n",
       "    <tr>\n",
       "      <th>438</th>\n",
       "      <td>S18139470</td>\n",
       "      <td>1565.70</td>\n",
       "      <td>1</td>\n",
       "      <td>102</td>\n",
       "    </tr>\n",
       "    <tr>\n",
       "      <th>439</th>\n",
       "      <td>S17317846</td>\n",
       "      <td>2495.04</td>\n",
       "      <td>1</td>\n",
       "      <td>86</td>\n",
       "    </tr>\n",
       "    <tr>\n",
       "      <th>440</th>\n",
       "      <td>S17341950</td>\n",
       "      <td>1716.60</td>\n",
       "      <td>1</td>\n",
       "      <td>83</td>\n",
       "    </tr>\n",
       "    <tr>\n",
       "      <th>441</th>\n",
       "      <td>S10740387</td>\n",
       "      <td>3000.00</td>\n",
       "      <td>1</td>\n",
       "      <td>82</td>\n",
       "    </tr>\n",
       "  </tbody>\n",
       "</table>\n",
       "<p>232 rows × 4 columns</p>\n",
       "</div>"
      ],
      "text/plain": [
       "    Serial Number  TSN Component (Off)(hours)  Number Repair  \\\n",
       "15      S10740390                      511.30              7   \n",
       "17      S10740403                      176.30              1   \n",
       "18      S10770721                      114.20              1   \n",
       "20      S10709278                     1505.00              2   \n",
       "21      S10709279                      237.10              1   \n",
       "..            ...                         ...            ...   \n",
       "437     S17341948                     1771.40              1   \n",
       "438     S18139470                     1565.70              1   \n",
       "439     S17317846                     2495.04              1   \n",
       "440     S17341950                     1716.60              1   \n",
       "441     S10740387                     3000.00              1   \n",
       "\n",
       "     Total Repair Days  \n",
       "15                1131  \n",
       "17                 109  \n",
       "18                 109  \n",
       "20                 475  \n",
       "21                 153  \n",
       "..                 ...  \n",
       "437                102  \n",
       "438                102  \n",
       "439                 86  \n",
       "440                 83  \n",
       "441                 82  \n",
       "\n",
       "[232 rows x 4 columns]"
      ]
     },
     "execution_count": 420,
     "metadata": {},
     "output_type": "execute_result"
    }
   ],
   "source": [
    "df_change = df_comp.copy()\n",
    "\n",
    "current_date = datetime.now().date()\n",
    "df_change[\"Completion by date\"].fillna(current_date, inplace=True)\n",
    "\n",
    "def convert_date(column):\n",
    "    try:\n",
    "        return pd.to_datetime(column, format=\"%d/%m/%Y\", errors='raise')\n",
    "    except Exception:\n",
    "        try:\n",
    "            return pd.to_datetime(column, format=\"%Y-%m-%d\", errors='raise')\n",
    "        except Exception as e:\n",
    "            print(\"Error occurred while converting dates:\", e)\n",
    "            return None\n",
    "\n",
    "# Convert \"Created On\" and \"Completion by date\" columns to datetime\n",
    "df_change[\"Created On\"] = convert_date(df_change[\"Created On\"])\n",
    "df_change[\"Completion by date\"] = convert_date(df_change[\"Completion by date\"])\n",
    "\n",
    "# Drop rows where conversion failed\n",
    "df_change.dropna(subset=[\"Created On\", \"Completion by date\"], inplace=True)\n",
    "\n",
    "# Calculate repair days\n",
    "df_change[\"Repair Days\"] = (df_change[\"Completion by date\"] - df_change[\"Created On\"]).dt.days\n",
    "\n",
    "# Group by Serial Number and sum the repair days\n",
    "total_repair_days = df_change.groupby(\"Serial Number\")[\"Repair Days\"].sum()\n",
    "\n",
    "# Create a new column \"Total Repair Days\" in the original Dataset by mapping the total repair days based on serial number\n",
    "df_comp2[\"Total Repair Days\"] = df_comp2[\"Serial Number\"].map(total_repair_days)\n",
    "\n",
    "df_comp2"
   ]
  },
  {
   "cell_type": "markdown",
   "metadata": {},
   "source": [
    "The next steps are to combine the two table and to do that I need to add in the name of the part."
   ]
  },
  {
   "cell_type": "code",
   "execution_count": 421,
   "metadata": {},
   "outputs": [],
   "source": [
    "df_new = pd.merge(df_new, df[['Serial Number', 'Item Description']], on='Serial Number', how='left')\n",
    "\n",
    "df_new.rename(columns={'Item Description': 'Type'}, inplace=True)"
   ]
  },
  {
   "cell_type": "code",
   "execution_count": 422,
   "metadata": {},
   "outputs": [
    {
     "data": {
      "text/html": [
       "<div>\n",
       "<style scoped>\n",
       "    .dataframe tbody tr th:only-of-type {\n",
       "        vertical-align: middle;\n",
       "    }\n",
       "\n",
       "    .dataframe tbody tr th {\n",
       "        vertical-align: top;\n",
       "    }\n",
       "\n",
       "    .dataframe thead th {\n",
       "        text-align: right;\n",
       "    }\n",
       "</style>\n",
       "<table border=\"1\" class=\"dataframe\">\n",
       "  <thead>\n",
       "    <tr style=\"text-align: right;\">\n",
       "      <th></th>\n",
       "      <th>Serial Number</th>\n",
       "      <th>TSN Component (Off)(hours)</th>\n",
       "      <th>Number Repair</th>\n",
       "      <th>Total Repair Days</th>\n",
       "      <th>Type</th>\n",
       "    </tr>\n",
       "  </thead>\n",
       "  <tbody>\n",
       "    <tr>\n",
       "      <th>161</th>\n",
       "      <td>1175</td>\n",
       "      <td>68.90</td>\n",
       "      <td>1</td>\n",
       "      <td>192</td>\n",
       "      <td>ACTUATOR,SERVO</td>\n",
       "    </tr>\n",
       "    <tr>\n",
       "      <th>44</th>\n",
       "      <td>33</td>\n",
       "      <td>3471.90</td>\n",
       "      <td>4</td>\n",
       "      <td>776</td>\n",
       "      <td>ACTUATOR,SERVO</td>\n",
       "    </tr>\n",
       "    <tr>\n",
       "      <th>340</th>\n",
       "      <td>1072</td>\n",
       "      <td>1580.58</td>\n",
       "      <td>2</td>\n",
       "      <td>243</td>\n",
       "      <td>ACTUATOR,SERVO</td>\n",
       "    </tr>\n",
       "    <tr>\n",
       "      <th>297</th>\n",
       "      <td>1152</td>\n",
       "      <td>539.00</td>\n",
       "      <td>1</td>\n",
       "      <td>174</td>\n",
       "      <td>ACTUATOR,SERVO</td>\n",
       "    </tr>\n",
       "    <tr>\n",
       "      <th>159</th>\n",
       "      <td>1068</td>\n",
       "      <td>1874.80</td>\n",
       "      <td>1</td>\n",
       "      <td>42</td>\n",
       "      <td>ACTUATOR,SERVO</td>\n",
       "    </tr>\n",
       "    <tr>\n",
       "      <th>249</th>\n",
       "      <td>1017</td>\n",
       "      <td>1571.63</td>\n",
       "      <td>3</td>\n",
       "      <td>436</td>\n",
       "      <td>ACTUATOR,SERVO</td>\n",
       "    </tr>\n",
       "    <tr>\n",
       "      <th>193</th>\n",
       "      <td>1007</td>\n",
       "      <td>769.52</td>\n",
       "      <td>1</td>\n",
       "      <td>131</td>\n",
       "      <td>ACTUATOR,SERVO</td>\n",
       "    </tr>\n",
       "    <tr>\n",
       "      <th>174</th>\n",
       "      <td>1163</td>\n",
       "      <td>2017.21</td>\n",
       "      <td>3</td>\n",
       "      <td>360</td>\n",
       "      <td>ACTUATOR,SERVO</td>\n",
       "    </tr>\n",
       "    <tr>\n",
       "      <th>213</th>\n",
       "      <td>1127</td>\n",
       "      <td>836.20</td>\n",
       "      <td>2</td>\n",
       "      <td>345</td>\n",
       "      <td>ACTUATOR,SERVO</td>\n",
       "    </tr>\n",
       "    <tr>\n",
       "      <th>41</th>\n",
       "      <td>38</td>\n",
       "      <td>2970.90</td>\n",
       "      <td>7</td>\n",
       "      <td>1287</td>\n",
       "      <td>ACTUATOR,SERVO</td>\n",
       "    </tr>\n",
       "  </tbody>\n",
       "</table>\n",
       "</div>"
      ],
      "text/plain": [
       "    Serial Number  TSN Component (Off)(hours)  Number Repair  \\\n",
       "161          1175                       68.90              1   \n",
       "44             33                     3471.90              4   \n",
       "340          1072                     1580.58              2   \n",
       "297          1152                      539.00              1   \n",
       "159          1068                     1874.80              1   \n",
       "249          1017                     1571.63              3   \n",
       "193          1007                      769.52              1   \n",
       "174          1163                     2017.21              3   \n",
       "213          1127                      836.20              2   \n",
       "41             38                     2970.90              7   \n",
       "\n",
       "     Total Repair Days            Type  \n",
       "161                192  ACTUATOR,SERVO  \n",
       "44                 776  ACTUATOR,SERVO  \n",
       "340                243  ACTUATOR,SERVO  \n",
       "297                174  ACTUATOR,SERVO  \n",
       "159                 42  ACTUATOR,SERVO  \n",
       "249                436  ACTUATOR,SERVO  \n",
       "193                131  ACTUATOR,SERVO  \n",
       "174                360  ACTUATOR,SERVO  \n",
       "213                345  ACTUATOR,SERVO  \n",
       "41                1287  ACTUATOR,SERVO  "
      ]
     },
     "execution_count": 422,
     "metadata": {},
     "output_type": "execute_result"
    }
   ],
   "source": [
    "df_new.sample(10)"
   ]
  },
  {
   "cell_type": "code",
   "execution_count": 423,
   "metadata": {},
   "outputs": [],
   "source": [
    "df_comp2 = pd.merge(df_comp2, df_comp[['Serial Number', 'Item Description']], on='Serial Number', how='left')\n",
    "\n",
    "df_comp2.rename(columns={'Item Description': 'Type'}, inplace=True)"
   ]
  },
  {
   "cell_type": "code",
   "execution_count": 424,
   "metadata": {},
   "outputs": [
    {
     "data": {
      "text/html": [
       "<div>\n",
       "<style scoped>\n",
       "    .dataframe tbody tr th:only-of-type {\n",
       "        vertical-align: middle;\n",
       "    }\n",
       "\n",
       "    .dataframe tbody tr th {\n",
       "        vertical-align: top;\n",
       "    }\n",
       "\n",
       "    .dataframe thead th {\n",
       "        text-align: right;\n",
       "    }\n",
       "</style>\n",
       "<table border=\"1\" class=\"dataframe\">\n",
       "  <thead>\n",
       "    <tr style=\"text-align: right;\">\n",
       "      <th></th>\n",
       "      <th>Serial Number</th>\n",
       "      <th>TSN Component (Off)(hours)</th>\n",
       "      <th>Number Repair</th>\n",
       "      <th>Total Repair Days</th>\n",
       "      <th>Type</th>\n",
       "    </tr>\n",
       "  </thead>\n",
       "  <tbody>\n",
       "    <tr>\n",
       "      <th>147</th>\n",
       "      <td>S07290645</td>\n",
       "      <td>3080.44</td>\n",
       "      <td>2</td>\n",
       "      <td>220</td>\n",
       "      <td>REMOTE IO CONCENTRATOR</td>\n",
       "    </tr>\n",
       "    <tr>\n",
       "      <th>72</th>\n",
       "      <td>S10709290</td>\n",
       "      <td>999.30</td>\n",
       "      <td>3</td>\n",
       "      <td>401</td>\n",
       "      <td>REMOTE IO CONCENTRATOR</td>\n",
       "    </tr>\n",
       "    <tr>\n",
       "      <th>105</th>\n",
       "      <td>S14196482</td>\n",
       "      <td>1320.90</td>\n",
       "      <td>3</td>\n",
       "      <td>551</td>\n",
       "      <td>REMOTE IO CONCENTRATOR</td>\n",
       "    </tr>\n",
       "    <tr>\n",
       "      <th>362</th>\n",
       "      <td>S20166535</td>\n",
       "      <td>314.18</td>\n",
       "      <td>1</td>\n",
       "      <td>128</td>\n",
       "      <td>REMOTE IO CONCENTRATOR</td>\n",
       "    </tr>\n",
       "    <tr>\n",
       "      <th>86</th>\n",
       "      <td>S13032106</td>\n",
       "      <td>197.90</td>\n",
       "      <td>4</td>\n",
       "      <td>875</td>\n",
       "      <td>REMOTE IO CONCENTRATOR</td>\n",
       "    </tr>\n",
       "    <tr>\n",
       "      <th>340</th>\n",
       "      <td>S16414817</td>\n",
       "      <td>1504.90</td>\n",
       "      <td>1</td>\n",
       "      <td>219</td>\n",
       "      <td>REMOTE IO CONCENTRATOR</td>\n",
       "    </tr>\n",
       "    <tr>\n",
       "      <th>146</th>\n",
       "      <td>S07338258</td>\n",
       "      <td>2207.66</td>\n",
       "      <td>2</td>\n",
       "      <td>52</td>\n",
       "      <td>REMOTE IO CONCENTRATOR</td>\n",
       "    </tr>\n",
       "    <tr>\n",
       "      <th>177</th>\n",
       "      <td>S17028303</td>\n",
       "      <td>221.70</td>\n",
       "      <td>3</td>\n",
       "      <td>746</td>\n",
       "      <td>REMOTE IO CONCENTRATOR</td>\n",
       "    </tr>\n",
       "    <tr>\n",
       "      <th>33</th>\n",
       "      <td>S13214140</td>\n",
       "      <td>46.10</td>\n",
       "      <td>6</td>\n",
       "      <td>1052</td>\n",
       "      <td>REMOTE IO CONCENTRATOR</td>\n",
       "    </tr>\n",
       "    <tr>\n",
       "      <th>185</th>\n",
       "      <td>S13074070</td>\n",
       "      <td>700.50</td>\n",
       "      <td>1</td>\n",
       "      <td>112</td>\n",
       "      <td>REMOTE IO CONCENTRATOR</td>\n",
       "    </tr>\n",
       "  </tbody>\n",
       "</table>\n",
       "</div>"
      ],
      "text/plain": [
       "    Serial Number  TSN Component (Off)(hours)  Number Repair  \\\n",
       "147     S07290645                     3080.44              2   \n",
       "72      S10709290                      999.30              3   \n",
       "105     S14196482                     1320.90              3   \n",
       "362     S20166535                      314.18              1   \n",
       "86      S13032106                      197.90              4   \n",
       "340     S16414817                     1504.90              1   \n",
       "146     S07338258                     2207.66              2   \n",
       "177     S17028303                      221.70              3   \n",
       "33      S13214140                       46.10              6   \n",
       "185     S13074070                      700.50              1   \n",
       "\n",
       "     Total Repair Days                    Type  \n",
       "147                220  REMOTE IO CONCENTRATOR  \n",
       "72                 401  REMOTE IO CONCENTRATOR  \n",
       "105                551  REMOTE IO CONCENTRATOR  \n",
       "362                128  REMOTE IO CONCENTRATOR  \n",
       "86                 875  REMOTE IO CONCENTRATOR  \n",
       "340                219  REMOTE IO CONCENTRATOR  \n",
       "146                 52  REMOTE IO CONCENTRATOR  \n",
       "177                746  REMOTE IO CONCENTRATOR  \n",
       "33                1052  REMOTE IO CONCENTRATOR  \n",
       "185                112  REMOTE IO CONCENTRATOR  "
      ]
     },
     "execution_count": 424,
     "metadata": {},
     "output_type": "execute_result"
    }
   ],
   "source": [
    "df_comp2.sample(10)"
   ]
  },
  {
   "cell_type": "code",
   "execution_count": 425,
   "metadata": {},
   "outputs": [
    {
     "data": {
      "text/plain": [
       "0"
      ]
     },
     "execution_count": 425,
     "metadata": {},
     "output_type": "execute_result"
    }
   ],
   "source": [
    "(df_comp2['Total Repair Days'] == 0.0).sum()"
   ]
  },
  {
   "cell_type": "code",
   "execution_count": 426,
   "metadata": {},
   "outputs": [],
   "source": [
    "merged_tables = pd.concat([df_new, df_comp2], ignore_index=True)"
   ]
  },
  {
   "cell_type": "markdown",
   "metadata": {},
   "source": [
    "Now I am adding a new column that will either be a 1 or 2 and depending on the Type name"
   ]
  },
  {
   "cell_type": "code",
   "execution_count": 427,
   "metadata": {},
   "outputs": [],
   "source": [
    "def map_type_to_numeric(type_str):\n",
    "    if 'ACTUATOR,SERVO' in type_str:\n",
    "        return 1\n",
    "    elif 'REMOTE IO CONCENTRATOR' in type_str:\n",
    "        return 2\n",
    "    else:\n",
    "        return None\n",
    "\n",
    "merged_tables['Type_numeric'] = merged_tables['Type'].apply(map_type_to_numeric)"
   ]
  },
  {
   "cell_type": "code",
   "execution_count": 428,
   "metadata": {},
   "outputs": [
    {
     "data": {
      "text/html": [
       "<div>\n",
       "<style scoped>\n",
       "    .dataframe tbody tr th:only-of-type {\n",
       "        vertical-align: middle;\n",
       "    }\n",
       "\n",
       "    .dataframe tbody tr th {\n",
       "        vertical-align: top;\n",
       "    }\n",
       "\n",
       "    .dataframe thead th {\n",
       "        text-align: right;\n",
       "    }\n",
       "</style>\n",
       "<table border=\"1\" class=\"dataframe\">\n",
       "  <thead>\n",
       "    <tr style=\"text-align: right;\">\n",
       "      <th></th>\n",
       "      <th>Serial Number</th>\n",
       "      <th>TSN Component (Off)(hours)</th>\n",
       "      <th>Number Repair</th>\n",
       "      <th>Total Repair Days</th>\n",
       "      <th>Type</th>\n",
       "      <th>Type_numeric</th>\n",
       "    </tr>\n",
       "  </thead>\n",
       "  <tbody>\n",
       "    <tr>\n",
       "      <th>506</th>\n",
       "      <td>S07338258</td>\n",
       "      <td>2207.66</td>\n",
       "      <td>2</td>\n",
       "      <td>52</td>\n",
       "      <td>REMOTE IO CONCENTRATOR</td>\n",
       "      <td>2</td>\n",
       "    </tr>\n",
       "    <tr>\n",
       "      <th>449</th>\n",
       "      <td>S13032106</td>\n",
       "      <td>197.90</td>\n",
       "      <td>4</td>\n",
       "      <td>875</td>\n",
       "      <td>REMOTE IO CONCENTRATOR</td>\n",
       "      <td>2</td>\n",
       "    </tr>\n",
       "    <tr>\n",
       "      <th>204</th>\n",
       "      <td>1118</td>\n",
       "      <td>1897.28</td>\n",
       "      <td>3</td>\n",
       "      <td>608</td>\n",
       "      <td>ACTUATOR,SERVO</td>\n",
       "      <td>1</td>\n",
       "    </tr>\n",
       "    <tr>\n",
       "      <th>132</th>\n",
       "      <td>1063</td>\n",
       "      <td>1462.30</td>\n",
       "      <td>3</td>\n",
       "      <td>287</td>\n",
       "      <td>ACTUATOR,SERVO</td>\n",
       "      <td>1</td>\n",
       "    </tr>\n",
       "    <tr>\n",
       "      <th>648</th>\n",
       "      <td>S17317851</td>\n",
       "      <td>807.35</td>\n",
       "      <td>1</td>\n",
       "      <td>160</td>\n",
       "      <td>REMOTE IO CONCENTRATOR</td>\n",
       "      <td>2</td>\n",
       "    </tr>\n",
       "    <tr>\n",
       "      <th>729</th>\n",
       "      <td>S17317846</td>\n",
       "      <td>2495.04</td>\n",
       "      <td>1</td>\n",
       "      <td>86</td>\n",
       "      <td>REMOTE IO CONCENTRATOR</td>\n",
       "      <td>2</td>\n",
       "    </tr>\n",
       "    <tr>\n",
       "      <th>673</th>\n",
       "      <td>S17001756</td>\n",
       "      <td>796.16</td>\n",
       "      <td>1</td>\n",
       "      <td>169</td>\n",
       "      <td>REMOTE IO CONCENTRATOR</td>\n",
       "      <td>2</td>\n",
       "    </tr>\n",
       "    <tr>\n",
       "      <th>485</th>\n",
       "      <td>S14026804</td>\n",
       "      <td>1162.40</td>\n",
       "      <td>4</td>\n",
       "      <td>771</td>\n",
       "      <td>REMOTE IO CONCENTRATOR</td>\n",
       "      <td>2</td>\n",
       "    </tr>\n",
       "    <tr>\n",
       "      <th>19</th>\n",
       "      <td>29</td>\n",
       "      <td>2841.40</td>\n",
       "      <td>2</td>\n",
       "      <td>210</td>\n",
       "      <td>ACTUATOR,SERVO</td>\n",
       "      <td>1</td>\n",
       "    </tr>\n",
       "    <tr>\n",
       "      <th>489</th>\n",
       "      <td>S13031966</td>\n",
       "      <td>182.50</td>\n",
       "      <td>1</td>\n",
       "      <td>223</td>\n",
       "      <td>REMOTE IO CONCENTRATOR</td>\n",
       "      <td>2</td>\n",
       "    </tr>\n",
       "  </tbody>\n",
       "</table>\n",
       "</div>"
      ],
      "text/plain": [
       "    Serial Number  TSN Component (Off)(hours)  Number Repair  \\\n",
       "506     S07338258                     2207.66              2   \n",
       "449     S13032106                      197.90              4   \n",
       "204          1118                     1897.28              3   \n",
       "132          1063                     1462.30              3   \n",
       "648     S17317851                      807.35              1   \n",
       "729     S17317846                     2495.04              1   \n",
       "673     S17001756                      796.16              1   \n",
       "485     S14026804                     1162.40              4   \n",
       "19             29                     2841.40              2   \n",
       "489     S13031966                      182.50              1   \n",
       "\n",
       "     Total Repair Days                    Type  Type_numeric  \n",
       "506                 52  REMOTE IO CONCENTRATOR             2  \n",
       "449                875  REMOTE IO CONCENTRATOR             2  \n",
       "204                608          ACTUATOR,SERVO             1  \n",
       "132                287          ACTUATOR,SERVO             1  \n",
       "648                160  REMOTE IO CONCENTRATOR             2  \n",
       "729                 86  REMOTE IO CONCENTRATOR             2  \n",
       "673                169  REMOTE IO CONCENTRATOR             2  \n",
       "485                771  REMOTE IO CONCENTRATOR             2  \n",
       "19                 210          ACTUATOR,SERVO             1  \n",
       "489                223  REMOTE IO CONCENTRATOR             2  "
      ]
     },
     "execution_count": 428,
     "metadata": {},
     "output_type": "execute_result"
    }
   ],
   "source": [
    "merged_tables.sample(10)"
   ]
  },
  {
   "cell_type": "code",
   "execution_count": 429,
   "metadata": {},
   "outputs": [
    {
     "data": {
      "text/plain": [
       "Serial Number                  object\n",
       "TSN Component (Off)(hours)    float64\n",
       "Number Repair                   int64\n",
       "Total Repair Days               int64\n",
       "Type                           object\n",
       "Type_numeric                    int64\n",
       "dtype: object"
      ]
     },
     "execution_count": 429,
     "metadata": {},
     "output_type": "execute_result"
    }
   ],
   "source": [
    "merged_tables.dtypes"
   ]
  },
  {
   "cell_type": "code",
   "execution_count": 430,
   "metadata": {},
   "outputs": [
    {
     "data": {
      "text/plain": [
       "(732, 6)"
      ]
     },
     "execution_count": 430,
     "metadata": {},
     "output_type": "execute_result"
    }
   ],
   "source": [
    "merged_tables.shape"
   ]
  },
  {
   "cell_type": "code",
   "execution_count": 431,
   "metadata": {},
   "outputs": [
    {
     "data": {
      "text/plain": [
       "Serial Number                 411\n",
       "TSN Component (Off)(hours)    403\n",
       "Number Repair                   8\n",
       "Total Repair Days             283\n",
       "Type                            2\n",
       "Type_numeric                    2\n",
       "dtype: int64"
      ]
     },
     "execution_count": 431,
     "metadata": {},
     "output_type": "execute_result"
    }
   ],
   "source": [
    "merged_tables.nunique()"
   ]
  },
  {
   "cell_type": "markdown",
   "metadata": {},
   "source": [
    "<span style=\"font-size:30px;\">Model</span>"
   ]
  },
  {
   "cell_type": "code",
   "execution_count": 432,
   "metadata": {},
   "outputs": [
    {
     "name": "stderr",
     "output_type": "stream",
     "text": [
      "c:\\Python311\\Lib\\site-packages\\sklearn\\base.py:486: UserWarning: X has feature names, but KNeighborsRegressor was fitted without feature names\n",
      "  warnings.warn(\n"
     ]
    },
    {
     "data": {
      "text/html": [
       "<div>\n",
       "<style scoped>\n",
       "    .dataframe tbody tr th:only-of-type {\n",
       "        vertical-align: middle;\n",
       "    }\n",
       "\n",
       "    .dataframe tbody tr th {\n",
       "        vertical-align: top;\n",
       "    }\n",
       "\n",
       "    .dataframe thead th {\n",
       "        text-align: right;\n",
       "    }\n",
       "</style>\n",
       "<table border=\"1\" class=\"dataframe\">\n",
       "  <thead>\n",
       "    <tr style=\"text-align: right;\">\n",
       "      <th></th>\n",
       "      <th>truth</th>\n",
       "      <th>prediction</th>\n",
       "      <th>error</th>\n",
       "    </tr>\n",
       "  </thead>\n",
       "  <tbody>\n",
       "    <tr>\n",
       "      <th>0</th>\n",
       "      <td>511.30</td>\n",
       "      <td>1426.18</td>\n",
       "      <td>914</td>\n",
       "    </tr>\n",
       "    <tr>\n",
       "      <th>1</th>\n",
       "      <td>511.30</td>\n",
       "      <td>1426.18</td>\n",
       "      <td>914</td>\n",
       "    </tr>\n",
       "    <tr>\n",
       "      <th>2</th>\n",
       "      <td>511.30</td>\n",
       "      <td>1426.18</td>\n",
       "      <td>914</td>\n",
       "    </tr>\n",
       "    <tr>\n",
       "      <th>3</th>\n",
       "      <td>511.30</td>\n",
       "      <td>1426.18</td>\n",
       "      <td>914</td>\n",
       "    </tr>\n",
       "    <tr>\n",
       "      <th>4</th>\n",
       "      <td>511.30</td>\n",
       "      <td>1426.18</td>\n",
       "      <td>914</td>\n",
       "    </tr>\n",
       "    <tr>\n",
       "      <th>...</th>\n",
       "      <td>...</td>\n",
       "      <td>...</td>\n",
       "      <td>...</td>\n",
       "    </tr>\n",
       "    <tr>\n",
       "      <th>367</th>\n",
       "      <td>1771.40</td>\n",
       "      <td>1426.18</td>\n",
       "      <td>345</td>\n",
       "    </tr>\n",
       "    <tr>\n",
       "      <th>368</th>\n",
       "      <td>1565.70</td>\n",
       "      <td>1426.18</td>\n",
       "      <td>139</td>\n",
       "    </tr>\n",
       "    <tr>\n",
       "      <th>369</th>\n",
       "      <td>2495.04</td>\n",
       "      <td>1426.18</td>\n",
       "      <td>1068</td>\n",
       "    </tr>\n",
       "    <tr>\n",
       "      <th>370</th>\n",
       "      <td>1716.60</td>\n",
       "      <td>1426.18</td>\n",
       "      <td>290</td>\n",
       "    </tr>\n",
       "    <tr>\n",
       "      <th>371</th>\n",
       "      <td>3000.00</td>\n",
       "      <td>1426.18</td>\n",
       "      <td>1573</td>\n",
       "    </tr>\n",
       "  </tbody>\n",
       "</table>\n",
       "<p>372 rows × 3 columns</p>\n",
       "</div>"
      ],
      "text/plain": [
       "       truth  prediction  error\n",
       "0     511.30     1426.18    914\n",
       "1     511.30     1426.18    914\n",
       "2     511.30     1426.18    914\n",
       "3     511.30     1426.18    914\n",
       "4     511.30     1426.18    914\n",
       "..       ...         ...    ...\n",
       "367  1771.40     1426.18    345\n",
       "368  1565.70     1426.18    139\n",
       "369  2495.04     1426.18   1068\n",
       "370  1716.60     1426.18    290\n",
       "371  3000.00     1426.18   1573\n",
       "\n",
       "[372 rows x 3 columns]"
      ]
     },
     "execution_count": 432,
     "metadata": {},
     "output_type": "execute_result"
    }
   ],
   "source": [
    "predictions = model.predict(df_comp2[['Number Repair', 'Total Repair Days']])\n",
    "\n",
    "prediction_overview = pd.DataFrame()\n",
    "prediction_overview[\"truth\"] = df_comp2['TSN Component (Off)(hours)']\n",
    "prediction_overview[\"prediction\"] = predictions\n",
    "prediction_overview[\"error\"] = prediction_overview[\"truth\"] - prediction_overview[\"prediction\"]\n",
    "prediction_overview[\"error\"] = abs(prediction_overview[\"error\"].astype(int))\n",
    "prediction_overview = prediction_overview.reset_index(drop=True)\n",
    "prediction_overview"
   ]
  },
  {
   "cell_type": "code",
   "execution_count": 433,
   "metadata": {},
   "outputs": [
    {
     "data": {
      "text/plain": [
       "truth          762.840376\n",
       "prediction    1426.180000\n",
       "error          803.782258\n",
       "dtype: float64"
      ]
     },
     "execution_count": 433,
     "metadata": {},
     "output_type": "execute_result"
    }
   ],
   "source": [
    "prediction_overview.mean(axis=0)"
   ]
  },
  {
   "cell_type": "code",
   "execution_count": 434,
   "metadata": {},
   "outputs": [
    {
     "name": "stdout",
     "output_type": "stream",
     "text": [
      "Accuracy within threshold (804.2994623655914 away): 0.45\n"
     ]
    }
   ],
   "source": [
    "threshold = mean_absolute_error(predictions, df_comp2['TSN Component (Off)(hours)'])\n",
    "accurate_predictions = sum(abs(predictions - df_comp2['TSN Component (Off)(hours)']) <= threshold)\n",
    "total_predictions = len(df_comp2['TSN Component (Off)(hours)'])\n",
    "accuracy_within_threshold = accurate_predictions / total_predictions\n",
    "print(\"Accuracy within threshold ({} away): {:.2f}\".format(threshold, accuracy_within_threshold))"
   ]
  },
  {
   "cell_type": "markdown",
   "metadata": {},
   "source": [
    "The top bit was to test how well the previouse prediction would work with the new data and as you can see it has a low percentage of working."
   ]
  },
  {
   "cell_type": "code",
   "execution_count": 435,
   "metadata": {},
   "outputs": [
    {
     "name": "stdout",
     "output_type": "stream",
     "text": [
      "There are in total 372 observations, of which 297 are now in the train set, and 75 in the test set.\n"
     ]
    }
   ],
   "source": [
    "X = df_comp2[features]\n",
    "y = df_comp2[target]\n",
    "\n",
    "from sklearn.model_selection import train_test_split\n",
    "X_train, X_test, y_train, y_test = train_test_split(X, y, test_size=0.2)\n",
    "print(\"There are in total\", len(X), \"observations, of which\", len(X_train), \"are now in the train set, and\", len(X_test), \"in the test set.\")\n",
    "\n",
    "scaler = StandardScaler()\n",
    "scaler.fit(X_train)\n",
    "X_train = scaler.transform(X_train)\n",
    "X_test = scaler.transform(X_test)"
   ]
  },
  {
   "cell_type": "code",
   "execution_count": 436,
   "metadata": {},
   "outputs": [
    {
     "name": "stdout",
     "output_type": "stream",
     "text": [
      "Mean Absolute Error:: 431.8718666666666\n",
      "Accuracy within threshold (431.8718666666666 away): 0.67\n"
     ]
    }
   ],
   "source": [
    "model = KNeighborsRegressor()\n",
    "model.fit(X_train, y_train)\n",
    "pred = model.predict(X_test)\n",
    "\n",
    "score = mean_absolute_error(pred, y_test)\n",
    "print(\"Mean Absolute Error::\", score)\n",
    "\n",
    "threshold = score\n",
    "\n",
    "# Check if predictions are within threshold\n",
    "accurate_predictions = sum(abs(pred - y_test) <= threshold)\n",
    "total_predictions = len(y_test)\n",
    "accuracy_within_threshold = accurate_predictions / total_predictions\n",
    "print(\"Accuracy within threshold ({} away): {:.2f}\".format(threshold, accuracy_within_threshold))"
   ]
  },
  {
   "cell_type": "markdown",
   "metadata": {},
   "source": [
    "Above is the accuracy for the Computer and here you can see the the absolute mean error is lower than that of the acuator servo."
   ]
  },
  {
   "cell_type": "markdown",
   "metadata": {},
   "source": [
    "<span style=\"font-size:30px;\">Evaluation</span>"
   ]
  },
  {
   "cell_type": "code",
   "execution_count": 437,
   "metadata": {},
   "outputs": [
    {
     "data": {
      "text/html": [
       "<div>\n",
       "<style scoped>\n",
       "    .dataframe tbody tr th:only-of-type {\n",
       "        vertical-align: middle;\n",
       "    }\n",
       "\n",
       "    .dataframe tbody tr th {\n",
       "        vertical-align: top;\n",
       "    }\n",
       "\n",
       "    .dataframe thead th {\n",
       "        text-align: right;\n",
       "    }\n",
       "</style>\n",
       "<table border=\"1\" class=\"dataframe\">\n",
       "  <thead>\n",
       "    <tr style=\"text-align: right;\">\n",
       "      <th></th>\n",
       "      <th>truth</th>\n",
       "      <th>prediction</th>\n",
       "      <th>error</th>\n",
       "    </tr>\n",
       "  </thead>\n",
       "  <tbody>\n",
       "    <tr>\n",
       "      <th>0</th>\n",
       "      <td>857.50</td>\n",
       "      <td>821.680</td>\n",
       "      <td>35</td>\n",
       "    </tr>\n",
       "    <tr>\n",
       "      <th>1</th>\n",
       "      <td>1031.10</td>\n",
       "      <td>1389.100</td>\n",
       "      <td>358</td>\n",
       "    </tr>\n",
       "    <tr>\n",
       "      <th>2</th>\n",
       "      <td>94.99</td>\n",
       "      <td>407.000</td>\n",
       "      <td>312</td>\n",
       "    </tr>\n",
       "    <tr>\n",
       "      <th>3</th>\n",
       "      <td>873.90</td>\n",
       "      <td>468.300</td>\n",
       "      <td>405</td>\n",
       "    </tr>\n",
       "    <tr>\n",
       "      <th>4</th>\n",
       "      <td>459.90</td>\n",
       "      <td>374.220</td>\n",
       "      <td>85</td>\n",
       "    </tr>\n",
       "    <tr>\n",
       "      <th>...</th>\n",
       "      <td>...</td>\n",
       "      <td>...</td>\n",
       "      <td>...</td>\n",
       "    </tr>\n",
       "    <tr>\n",
       "      <th>70</th>\n",
       "      <td>1774.20</td>\n",
       "      <td>558.232</td>\n",
       "      <td>1215</td>\n",
       "    </tr>\n",
       "    <tr>\n",
       "      <th>71</th>\n",
       "      <td>1169.30</td>\n",
       "      <td>1695.860</td>\n",
       "      <td>526</td>\n",
       "    </tr>\n",
       "    <tr>\n",
       "      <th>72</th>\n",
       "      <td>957.30</td>\n",
       "      <td>629.700</td>\n",
       "      <td>327</td>\n",
       "    </tr>\n",
       "    <tr>\n",
       "      <th>73</th>\n",
       "      <td>555.32</td>\n",
       "      <td>912.292</td>\n",
       "      <td>356</td>\n",
       "    </tr>\n",
       "    <tr>\n",
       "      <th>74</th>\n",
       "      <td>405.20</td>\n",
       "      <td>197.940</td>\n",
       "      <td>207</td>\n",
       "    </tr>\n",
       "  </tbody>\n",
       "</table>\n",
       "<p>75 rows × 3 columns</p>\n",
       "</div>"
      ],
      "text/plain": [
       "      truth  prediction  error\n",
       "0    857.50     821.680     35\n",
       "1   1031.10    1389.100    358\n",
       "2     94.99     407.000    312\n",
       "3    873.90     468.300    405\n",
       "4    459.90     374.220     85\n",
       "..      ...         ...    ...\n",
       "70  1774.20     558.232   1215\n",
       "71  1169.30    1695.860    526\n",
       "72   957.30     629.700    327\n",
       "73   555.32     912.292    356\n",
       "74   405.20     197.940    207\n",
       "\n",
       "[75 rows x 3 columns]"
      ]
     },
     "execution_count": 437,
     "metadata": {},
     "output_type": "execute_result"
    }
   ],
   "source": [
    "predictions = model.predict(X_test)\n",
    "\n",
    "prediction_overview = pd.DataFrame()\n",
    "prediction_overview[\"truth\"] = y_test\n",
    "prediction_overview[\"prediction\"] = predictions\n",
    "prediction_overview[\"error\"] = prediction_overview[\"truth\"] - prediction_overview[\"prediction\"]\n",
    "prediction_overview[\"error\"] = abs(prediction_overview[\"error\"].astype(int))\n",
    "prediction_overview = prediction_overview.reset_index(drop=True)\n",
    "prediction_overview"
   ]
  },
  {
   "cell_type": "code",
   "execution_count": 438,
   "metadata": {},
   "outputs": [
    {
     "data": {
      "text/plain": [
       "<Axes: xlabel='predicted TSN', ylabel='true TSN'>"
      ]
     },
     "execution_count": 438,
     "metadata": {},
     "output_type": "execute_result"
    },
    {
     "data": {
      "image/png": "[encoded data removed]",
      "text/plain": [
       "<Figure size 640x480 with 1 Axes>"
      ]
     },
     "metadata": {},
     "output_type": "display_data"
    }
   ],
   "source": [
    "plot = sns.regplot(y=y_test.values.flatten(), x=predictions.flatten(), line_kws={\"color\": \"r\"})\n",
    "plot.set_xlabel(\"predicted TSN\")\n",
    "plot.set_ylabel(\"true TSN\")\n",
    "plot"
   ]
  },
  {
   "cell_type": "code",
   "execution_count": 439,
   "metadata": {},
   "outputs": [
    {
     "name": "stdout",
     "output_type": "stream",
     "text": [
      "Max Error: 2052\n",
      "Root Mean Squared Error: 585\n"
     ]
    }
   ],
   "source": [
    "me = max_error(y_test, predictions)\n",
    "me = math.ceil(me)\n",
    "print(\"Max Error:\", me)\n",
    "\n",
    "mse = mean_squared_error(y_test, predictions)\n",
    "rmse = math.sqrt(mse)\n",
    "rmse = math.ceil(rmse)\n",
    "print(\"Root Mean Squared Error:\", rmse)"
   ]
  },
  {
   "cell_type": "markdown",
   "metadata": {},
   "source": [
    "With the Computer dataset I can tell that it is alot more linear than the Actuators data. The main indication of it is that the accuracy is higher on averegate compared to the Actuator and the absolute error is alos lower on average. The accuracy also ranges from .59 to .69 depending on the training data.\n",
    "\n",
    "Next the Max error is lower than the Actuator max error by around 400 and the average mean error is also lower by around 500."
   ]
  },
  {
   "cell_type": "markdown",
   "metadata": {},
   "source": [
    "<span style=\"font-size:30px;\">Model</span>"
   ]
  },
  {
   "cell_type": "markdown",
   "metadata": {},
   "source": [
    "Next I will be testing for the merged tables"
   ]
  },
  {
   "cell_type": "code",
   "execution_count": 440,
   "metadata": {},
   "outputs": [
    {
     "name": "stdout",
     "output_type": "stream",
     "text": [
      "There are in total 732 observations, of which 585 are now in the train set, and 147 in the test set.\n"
     ]
    }
   ],
   "source": [
    "features = [\"Number Repair\", \"Total Repair Days\", \"Type_numeric\"]\n",
    "target = \"TSN Component (Off)(hours)\"\n",
    "X = merged_tables[features]\n",
    "y = merged_tables[target]\n",
    "\n",
    "from sklearn.model_selection import train_test_split\n",
    "X_train, X_test, y_train, y_test = train_test_split(X, y, test_size=0.2)\n",
    "print(\"There are in total\", len(X), \"observations, of which\", len(X_train), \"are now in the train set, and\", len(X_test), \"in the test set.\")\n",
    "\n",
    "scaler = StandardScaler()\n",
    "scaler.fit(X_train)\n",
    "X_train = scaler.transform(X_train)\n",
    "X_test = scaler.transform(X_test)"
   ]
  },
  {
   "cell_type": "code",
   "execution_count": 441,
   "metadata": {},
   "outputs": [
    {
     "name": "stdout",
     "output_type": "stream",
     "text": [
      "Mean Absolute Error:: 474.4351700680272\n",
      "Accuracy within threshold (474.4351700680272 away): 0.66\n"
     ]
    }
   ],
   "source": [
    "model = KNeighborsRegressor()\n",
    "model.fit(X_train, y_train)\n",
    "pred = model.predict(X_test)\n",
    "\n",
    "score = mean_absolute_error(pred, y_test)\n",
    "print(\"Mean Absolute Error::\", score)\n",
    "\n",
    "threshold = score\n",
    "\n",
    "# Check if predictions are within threshold\n",
    "accurate_predictions = sum(abs(pred - y_test) <= threshold)\n",
    "total_predictions = len(y_test)\n",
    "accuracy_within_threshold = accurate_predictions / total_predictions\n",
    "print(\"Accuracy within threshold ({} away): {:.2f}\".format(threshold, accuracy_within_threshold))"
   ]
  },
  {
   "cell_type": "markdown",
   "metadata": {},
   "source": [
    "<span style=\"font-size:30px;\">Evaluation</span>"
   ]
  },
  {
   "cell_type": "code",
   "execution_count": 442,
   "metadata": {},
   "outputs": [
    {
     "data": {
      "text/html": [
       "<div>\n",
       "<style scoped>\n",
       "    .dataframe tbody tr th:only-of-type {\n",
       "        vertical-align: middle;\n",
       "    }\n",
       "\n",
       "    .dataframe tbody tr th {\n",
       "        vertical-align: top;\n",
       "    }\n",
       "\n",
       "    .dataframe thead th {\n",
       "        text-align: right;\n",
       "    }\n",
       "</style>\n",
       "<table border=\"1\" class=\"dataframe\">\n",
       "  <thead>\n",
       "    <tr style=\"text-align: right;\">\n",
       "      <th></th>\n",
       "      <th>truth</th>\n",
       "      <th>prediction</th>\n",
       "      <th>error</th>\n",
       "    </tr>\n",
       "  </thead>\n",
       "  <tbody>\n",
       "    <tr>\n",
       "      <th>0</th>\n",
       "      <td>1017.63</td>\n",
       "      <td>1127.746</td>\n",
       "      <td>110</td>\n",
       "    </tr>\n",
       "    <tr>\n",
       "      <th>1</th>\n",
       "      <td>55.00</td>\n",
       "      <td>725.880</td>\n",
       "      <td>670</td>\n",
       "    </tr>\n",
       "    <tr>\n",
       "      <th>2</th>\n",
       "      <td>1458.28</td>\n",
       "      <td>1260.138</td>\n",
       "      <td>198</td>\n",
       "    </tr>\n",
       "    <tr>\n",
       "      <th>3</th>\n",
       "      <td>221.70</td>\n",
       "      <td>465.940</td>\n",
       "      <td>244</td>\n",
       "    </tr>\n",
       "    <tr>\n",
       "      <th>4</th>\n",
       "      <td>1565.70</td>\n",
       "      <td>651.374</td>\n",
       "      <td>914</td>\n",
       "    </tr>\n",
       "    <tr>\n",
       "      <th>...</th>\n",
       "      <td>...</td>\n",
       "      <td>...</td>\n",
       "      <td>...</td>\n",
       "    </tr>\n",
       "    <tr>\n",
       "      <th>142</th>\n",
       "      <td>750.45</td>\n",
       "      <td>1326.306</td>\n",
       "      <td>575</td>\n",
       "    </tr>\n",
       "    <tr>\n",
       "      <th>143</th>\n",
       "      <td>958.60</td>\n",
       "      <td>508.680</td>\n",
       "      <td>449</td>\n",
       "    </tr>\n",
       "    <tr>\n",
       "      <th>144</th>\n",
       "      <td>1246.40</td>\n",
       "      <td>1021.454</td>\n",
       "      <td>224</td>\n",
       "    </tr>\n",
       "    <tr>\n",
       "      <th>145</th>\n",
       "      <td>511.30</td>\n",
       "      <td>418.260</td>\n",
       "      <td>93</td>\n",
       "    </tr>\n",
       "    <tr>\n",
       "      <th>146</th>\n",
       "      <td>799.80</td>\n",
       "      <td>724.308</td>\n",
       "      <td>75</td>\n",
       "    </tr>\n",
       "  </tbody>\n",
       "</table>\n",
       "<p>147 rows × 3 columns</p>\n",
       "</div>"
      ],
      "text/plain": [
       "       truth  prediction  error\n",
       "0    1017.63    1127.746    110\n",
       "1      55.00     725.880    670\n",
       "2    1458.28    1260.138    198\n",
       "3     221.70     465.940    244\n",
       "4    1565.70     651.374    914\n",
       "..       ...         ...    ...\n",
       "142   750.45    1326.306    575\n",
       "143   958.60     508.680    449\n",
       "144  1246.40    1021.454    224\n",
       "145   511.30     418.260     93\n",
       "146   799.80     724.308     75\n",
       "\n",
       "[147 rows x 3 columns]"
      ]
     },
     "execution_count": 442,
     "metadata": {},
     "output_type": "execute_result"
    }
   ],
   "source": [
    "predictions = model.predict(X_test)\n",
    "\n",
    "prediction_overview = pd.DataFrame()\n",
    "prediction_overview[\"truth\"] = y_test\n",
    "prediction_overview[\"prediction\"] = predictions\n",
    "prediction_overview[\"error\"] = prediction_overview[\"truth\"] - prediction_overview[\"prediction\"]\n",
    "prediction_overview[\"error\"] = abs(prediction_overview[\"error\"].astype(int))\n",
    "prediction_overview = prediction_overview.reset_index(drop=True)\n",
    "prediction_overview"
   ]
  },
  {
   "cell_type": "code",
   "execution_count": 443,
   "metadata": {},
   "outputs": [
    {
     "data": {
      "text/plain": [
       "<Axes: xlabel='predicted TSN', ylabel='true TSN'>"
      ]
     },
     "execution_count": 443,
     "metadata": {},
     "output_type": "execute_result"
    },
    {
     "data": {
      "image/png": "[encoded data removed]",
      "text/plain": [
       "<Figure size 640x480 with 1 Axes>"
      ]
     },
     "metadata": {},
     "output_type": "display_data"
    }
   ],
   "source": [
    "plot = sns.regplot(y=y_test.values.flatten(), x=predictions.flatten(), line_kws={\"color\": \"r\"})\n",
    "plot.set_xlabel(\"predicted TSN\")\n",
    "plot.set_ylabel(\"true TSN\")\n",
    "plot"
   ]
  },
  {
   "cell_type": "code",
   "execution_count": 444,
   "metadata": {},
   "outputs": [
    {
     "name": "stdout",
     "output_type": "stream",
     "text": [
      "Max Error: 2688\n",
      "Root Mean Squared Error: 699\n"
     ]
    }
   ],
   "source": [
    "me = max_error(y_test, predictions)\n",
    "me = math.ceil(me)\n",
    "print(\"Max Error:\", me)\n",
    "\n",
    "mse = mean_squared_error(y_test, predictions)\n",
    "rmse = math.sqrt(mse)\n",
    "rmse = math.ceil(rmse)\n",
    "print(\"Root Mean Squared Error:\", rmse)"
   ]
  },
  {
   "cell_type": "markdown",
   "metadata": {},
   "source": [
    "Combining the two tables gives by far the best predictions compared to the individual results.\n",
    "The accuracy for the merged table averages around .6 to .7 with an error margin of around 500. This is a lot better than the previouse results.\n",
    "\n",
    "The mean error is also low with an average of 600 and the max error is unfortunately high upt to 2800"
   ]
  },
  {
   "cell_type": "markdown",
   "metadata": {},
   "source": [
    "<span style=\"font-size:30px;\">Model</span>"
   ]
  },
  {
   "cell_type": "markdown",
   "metadata": {},
   "source": [
    "For this step I will use LR to predict. In the research document that I read this model was the best one to get to the answer that they want."
   ]
  },
  {
   "cell_type": "code",
   "execution_count": 445,
   "metadata": {},
   "outputs": [
    {
     "name": "stdout",
     "output_type": "stream",
     "text": [
      "There are in total 732 observations, of which 585 are now in the train set, and 147 in the test set.\n"
     ]
    }
   ],
   "source": [
    "features = [\"Number Repair\", \"Total Repair Days\", \"Type_numeric\"]\n",
    "target = \"TSN Component (Off)(hours)\"\n",
    "X = merged_tables[features]\n",
    "y = merged_tables[target]\n",
    "\n",
    "from sklearn.model_selection import train_test_split\n",
    "X_train, X_test, y_train, y_test = train_test_split(X, y, test_size=0.2)\n",
    "print(\"There are in total\", len(X), \"observations, of which\", len(X_train), \"are now in the train set, and\", len(X_test), \"in the test set.\")"
   ]
  },
  {
   "cell_type": "code",
   "execution_count": 446,
   "metadata": {},
   "outputs": [
    {
     "name": "stdout",
     "output_type": "stream",
     "text": [
      "Linear Regression Mean Absolute Error: 593.5983733085664\n",
      "Linear Regression Accuracy within threshold (474.4351700680272 away): 0.56\n"
     ]
    }
   ],
   "source": [
    "\n",
    "lr_model = LinearRegression()\n",
    "lr_model.fit(X_train, y_train)\n",
    "\n",
    "# Predict\n",
    "lr_pred = lr_model.predict(X_test)\n",
    "\n",
    "# Calculate Mean Absolute Error (MAE)\n",
    "lr_score = mean_absolute_error(lr_pred, y_test)\n",
    "print(\"Linear Regression Mean Absolute Error:\", lr_score)\n",
    "\n",
    "# Check if predictions are within threshold\n",
    "lr_accurate_predictions = sum(abs(lr_pred - y_test) <= threshold)\n",
    "lr_accuracy_within_threshold = lr_accurate_predictions / total_predictions\n",
    "print(\"Linear Regression Accuracy within threshold ({} away): {:.2f}\".format(threshold, lr_accuracy_within_threshold))\n"
   ]
  },
  {
   "cell_type": "markdown",
   "metadata": {},
   "source": [
    "It is similar to Kneighbors regression"
   ]
  },
  {
   "cell_type": "markdown",
   "metadata": {},
   "source": [
    "<span style=\"font-size:30px;\">Evaluation</span>"
   ]
  },
  {
   "cell_type": "code",
   "execution_count": 447,
   "metadata": {},
   "outputs": [
    {
     "data": {
      "text/html": [
       "<div>\n",
       "<style scoped>\n",
       "    .dataframe tbody tr th:only-of-type {\n",
       "        vertical-align: middle;\n",
       "    }\n",
       "\n",
       "    .dataframe tbody tr th {\n",
       "        vertical-align: top;\n",
       "    }\n",
       "\n",
       "    .dataframe thead th {\n",
       "        text-align: right;\n",
       "    }\n",
       "</style>\n",
       "<table border=\"1\" class=\"dataframe\">\n",
       "  <thead>\n",
       "    <tr style=\"text-align: right;\">\n",
       "      <th></th>\n",
       "      <th>truth</th>\n",
       "      <th>prediction</th>\n",
       "      <th>error</th>\n",
       "    </tr>\n",
       "  </thead>\n",
       "  <tbody>\n",
       "    <tr>\n",
       "      <th>0</th>\n",
       "      <td>1967.40</td>\n",
       "      <td>1431.131647</td>\n",
       "      <td>536</td>\n",
       "    </tr>\n",
       "    <tr>\n",
       "      <th>1</th>\n",
       "      <td>1198.70</td>\n",
       "      <td>778.002003</td>\n",
       "      <td>420</td>\n",
       "    </tr>\n",
       "    <tr>\n",
       "      <th>2</th>\n",
       "      <td>2189.40</td>\n",
       "      <td>719.716953</td>\n",
       "      <td>1469</td>\n",
       "    </tr>\n",
       "    <tr>\n",
       "      <th>3</th>\n",
       "      <td>1736.90</td>\n",
       "      <td>843.047572</td>\n",
       "      <td>893</td>\n",
       "    </tr>\n",
       "    <tr>\n",
       "      <th>4</th>\n",
       "      <td>565.47</td>\n",
       "      <td>1395.687794</td>\n",
       "      <td>830</td>\n",
       "    </tr>\n",
       "    <tr>\n",
       "      <th>...</th>\n",
       "      <td>...</td>\n",
       "      <td>...</td>\n",
       "      <td>...</td>\n",
       "    </tr>\n",
       "    <tr>\n",
       "      <th>142</th>\n",
       "      <td>0.00</td>\n",
       "      <td>1359.663287</td>\n",
       "      <td>1359</td>\n",
       "    </tr>\n",
       "    <tr>\n",
       "      <th>143</th>\n",
       "      <td>341.70</td>\n",
       "      <td>255.655510</td>\n",
       "      <td>86</td>\n",
       "    </tr>\n",
       "    <tr>\n",
       "      <th>144</th>\n",
       "      <td>1417.55</td>\n",
       "      <td>1454.938632</td>\n",
       "      <td>37</td>\n",
       "    </tr>\n",
       "    <tr>\n",
       "      <th>145</th>\n",
       "      <td>1508.20</td>\n",
       "      <td>1397.811938</td>\n",
       "      <td>110</td>\n",
       "    </tr>\n",
       "    <tr>\n",
       "      <th>146</th>\n",
       "      <td>46.10</td>\n",
       "      <td>716.772184</td>\n",
       "      <td>670</td>\n",
       "    </tr>\n",
       "  </tbody>\n",
       "</table>\n",
       "<p>147 rows × 3 columns</p>\n",
       "</div>"
      ],
      "text/plain": [
       "       truth   prediction  error\n",
       "0    1967.40  1431.131647    536\n",
       "1    1198.70   778.002003    420\n",
       "2    2189.40   719.716953   1469\n",
       "3    1736.90   843.047572    893\n",
       "4     565.47  1395.687794    830\n",
       "..       ...          ...    ...\n",
       "142     0.00  1359.663287   1359\n",
       "143   341.70   255.655510     86\n",
       "144  1417.55  1454.938632     37\n",
       "145  1508.20  1397.811938    110\n",
       "146    46.10   716.772184    670\n",
       "\n",
       "[147 rows x 3 columns]"
      ]
     },
     "execution_count": 447,
     "metadata": {},
     "output_type": "execute_result"
    }
   ],
   "source": [
    "predictions = lr_pred\n",
    "\n",
    "prediction_overview = pd.DataFrame()\n",
    "prediction_overview[\"truth\"] = y_test\n",
    "prediction_overview[\"prediction\"] = predictions\n",
    "prediction_overview[\"error\"] = prediction_overview[\"truth\"] - prediction_overview[\"prediction\"]\n",
    "prediction_overview[\"error\"] = abs(prediction_overview[\"error\"].astype(int))\n",
    "prediction_overview = prediction_overview.reset_index(drop=True)\n",
    "prediction_overview"
   ]
  },
  {
   "cell_type": "code",
   "execution_count": 448,
   "metadata": {},
   "outputs": [
    {
     "data": {
      "text/plain": [
       "<Axes: xlabel='predicted TSN', ylabel='true TSN'>"
      ]
     },
     "execution_count": 448,
     "metadata": {},
     "output_type": "execute_result"
    },
    {
     "data": {
      "image/png": "[encoded data removed]",
      "text/plain": [
       "<Figure size 640x480 with 1 Axes>"
      ]
     },
     "metadata": {},
     "output_type": "display_data"
    }
   ],
   "source": [
    "plot = sns.regplot(y=y_test.values.flatten(), x=predictions.flatten(), line_kws={\"color\": \"r\"})\n",
    "plot.set_xlabel(\"predicted TSN\")\n",
    "plot.set_ylabel(\"true TSN\")\n",
    "plot"
   ]
  },
  {
   "cell_type": "code",
   "execution_count": 449,
   "metadata": {},
   "outputs": [
    {
     "name": "stdout",
     "output_type": "stream",
     "text": [
      "Max Error: 3801\n",
      "Root Mean Squared Error: 864\n",
      "Mean Absolute Error:: 593.5983733085664\n",
      "Accuracy within threshold (593.5983733085664 away): 0.67\n"
     ]
    }
   ],
   "source": [
    "me = max_error(y_test, predictions)\n",
    "me = math.ceil(me)\n",
    "print(\"Max Error:\", me)\n",
    "\n",
    "mse = mean_squared_error(y_test, predictions)\n",
    "rmse = math.sqrt(mse)\n",
    "rmse = math.ceil(rmse)\n",
    "print(\"Root Mean Squared Error:\", rmse)\n",
    "\n",
    "score = mean_absolute_error(predictions, y_test)\n",
    "print(\"Mean Absolute Error::\", score)\n",
    "\n",
    "threshold = score\n",
    "\n",
    "accurate_predictions = sum(abs(predictions - y_test) <= threshold)\n",
    "total_predictions = len(y_test)\n",
    "accuracy_within_threshold = accurate_predictions / total_predictions\n",
    "print(\"Accuracy within threshold ({} away): {:.2f}\".format(threshold, accuracy_within_threshold))"
   ]
  },
  {
   "cell_type": "markdown",
   "metadata": {},
   "source": [
    "As expected the average error is around 900 and then the max error is around 3200. This is hisher than the previouse result that I have gotten for the models that I used."
   ]
  },
  {
   "cell_type": "markdown",
   "metadata": {},
   "source": [
    "<span style=\"font-size:30px;\">Model</span>"
   ]
  },
  {
   "cell_type": "markdown",
   "metadata": {},
   "source": [
    "From the research that I have done and similar papers, one of the models that were used was the Support Vector Regression(SVR) and I am going to use this next."
   ]
  },
  {
   "cell_type": "code",
   "execution_count": 450,
   "metadata": {},
   "outputs": [
    {
     "name": "stdout",
     "output_type": "stream",
     "text": [
      "Train RMSE: 874.7314279492647\n",
      "Test RMSE: 1072.6026558118344\n"
     ]
    },
    {
     "name": "stderr",
     "output_type": "stream",
     "text": [
      "c:\\Python311\\Lib\\site-packages\\sklearn\\metrics\\_regression.py:483: FutureWarning: 'squared' is deprecated in version 1.4 and will be removed in 1.6. To calculate the root mean squared error, use the function'root_mean_squared_error'.\n",
      "  warnings.warn(\n",
      "c:\\Python311\\Lib\\site-packages\\sklearn\\metrics\\_regression.py:483: FutureWarning: 'squared' is deprecated in version 1.4 and will be removed in 1.6. To calculate the root mean squared error, use the function'root_mean_squared_error'.\n",
      "  warnings.warn(\n"
     ]
    }
   ],
   "source": [
    "from sklearn.svm import SVR\n",
    "\n",
    "# Load the data\n",
    "data = merged_tables.copy()\n",
    "\n",
    "# Separate features and target variable\n",
    "X = data.drop(['Serial Number', 'TSN Component (Off)(hours)', \"Type\"], axis=1)\n",
    "y = data['TSN Component (Off)(hours)']\n",
    "\n",
    "# Split data into train and test sets\n",
    "X_train, X_test, y_train, y_test = train_test_split(X, y, test_size=0.2)\n",
    "\n",
    "# Standardize features\n",
    "scaler = StandardScaler()\n",
    "X_train_scaled = scaler.fit_transform(X_train)\n",
    "X_test_scaled = scaler.transform(X_test)\n",
    "\n",
    "# Initialize and train SVR model\n",
    "svr = SVR(kernel='linear')\n",
    "svr.fit(X_train_scaled, y_train)\n",
    "\n",
    "# Predictions\n",
    "y_pred_train = svr.predict(X_train_scaled)\n",
    "y_pred_test = svr.predict(X_test_scaled)\n",
    "\n",
    "# Evaluate the model\n",
    "train_rmse = mean_squared_error(y_train, y_pred_train, squared=False)\n",
    "test_rmse = mean_squared_error(y_test, y_pred_test, squared=False)\n",
    "\n",
    "print(\"Train RMSE:\", train_rmse)\n",
    "print(\"Test RMSE:\", test_rmse)\n"
   ]
  },
  {
   "cell_type": "markdown",
   "metadata": {},
   "source": [
    "<span style=\"font-size:30px;\">Evaluation</span>"
   ]
  },
  {
   "cell_type": "code",
   "execution_count": 451,
   "metadata": {},
   "outputs": [
    {
     "data": {
      "text/html": [
       "<div>\n",
       "<style scoped>\n",
       "    .dataframe tbody tr th:only-of-type {\n",
       "        vertical-align: middle;\n",
       "    }\n",
       "\n",
       "    .dataframe tbody tr th {\n",
       "        vertical-align: top;\n",
       "    }\n",
       "\n",
       "    .dataframe thead th {\n",
       "        text-align: right;\n",
       "    }\n",
       "</style>\n",
       "<table border=\"1\" class=\"dataframe\">\n",
       "  <thead>\n",
       "    <tr style=\"text-align: right;\">\n",
       "      <th></th>\n",
       "      <th>truth</th>\n",
       "      <th>prediction</th>\n",
       "      <th>error</th>\n",
       "    </tr>\n",
       "  </thead>\n",
       "  <tbody>\n",
       "    <tr>\n",
       "      <th>470</th>\n",
       "      <td>515.00</td>\n",
       "      <td>681.584381</td>\n",
       "      <td>166</td>\n",
       "    </tr>\n",
       "    <tr>\n",
       "      <th>689</th>\n",
       "      <td>670.60</td>\n",
       "      <td>825.787868</td>\n",
       "      <td>155</td>\n",
       "    </tr>\n",
       "    <tr>\n",
       "      <th>592</th>\n",
       "      <td>341.70</td>\n",
       "      <td>468.298911</td>\n",
       "      <td>126</td>\n",
       "    </tr>\n",
       "    <tr>\n",
       "      <th>627</th>\n",
       "      <td>1758.50</td>\n",
       "      <td>771.987848</td>\n",
       "      <td>986</td>\n",
       "    </tr>\n",
       "    <tr>\n",
       "      <th>507</th>\n",
       "      <td>3080.44</td>\n",
       "      <td>807.418108</td>\n",
       "      <td>2273</td>\n",
       "    </tr>\n",
       "    <tr>\n",
       "      <th>...</th>\n",
       "      <td>...</td>\n",
       "      <td>...</td>\n",
       "      <td>...</td>\n",
       "    </tr>\n",
       "    <tr>\n",
       "      <th>487</th>\n",
       "      <td>1169.30</td>\n",
       "      <td>801.552171</td>\n",
       "      <td>367</td>\n",
       "    </tr>\n",
       "    <tr>\n",
       "      <th>156</th>\n",
       "      <td>149.80</td>\n",
       "      <td>808.612515</td>\n",
       "      <td>658</td>\n",
       "    </tr>\n",
       "    <tr>\n",
       "      <th>432</th>\n",
       "      <td>999.30</td>\n",
       "      <td>748.456063</td>\n",
       "      <td>250</td>\n",
       "    </tr>\n",
       "    <tr>\n",
       "      <th>129</th>\n",
       "      <td>1996.90</td>\n",
       "      <td>1050.795907</td>\n",
       "      <td>946</td>\n",
       "    </tr>\n",
       "    <tr>\n",
       "      <th>303</th>\n",
       "      <td>1596.51</td>\n",
       "      <td>944.838328</td>\n",
       "      <td>651</td>\n",
       "    </tr>\n",
       "  </tbody>\n",
       "</table>\n",
       "<p>147 rows × 3 columns</p>\n",
       "</div>"
      ],
      "text/plain": [
       "       truth   prediction  error\n",
       "470   515.00   681.584381    166\n",
       "689   670.60   825.787868    155\n",
       "592   341.70   468.298911    126\n",
       "627  1758.50   771.987848    986\n",
       "507  3080.44   807.418108   2273\n",
       "..       ...          ...    ...\n",
       "487  1169.30   801.552171    367\n",
       "156   149.80   808.612515    658\n",
       "432   999.30   748.456063    250\n",
       "129  1996.90  1050.795907    946\n",
       "303  1596.51   944.838328    651\n",
       "\n",
       "[147 rows x 3 columns]"
      ]
     },
     "execution_count": 451,
     "metadata": {},
     "output_type": "execute_result"
    }
   ],
   "source": [
    "prediction_overview = pd.DataFrame()\n",
    "prediction_overview[\"truth\"] = y_test\n",
    "prediction_overview[\"prediction\"] = y_pred_test\n",
    "prediction_overview[\"error\"] = abs(prediction_overview[\"truth\"] - prediction_overview[\"prediction\"]).astype(int)\n",
    "prediction_overview"
   ]
  },
  {
   "cell_type": "code",
   "execution_count": 452,
   "metadata": {},
   "outputs": [
    {
     "data": {
      "text/plain": [
       "<Axes: xlabel='predicted TSN', ylabel='true TSN'>"
      ]
     },
     "execution_count": 452,
     "metadata": {},
     "output_type": "execute_result"
    },
    {
     "data": {
      "image/png": "[encoded data removed]",
      "text/plain": [
       "<Figure size 640x480 with 1 Axes>"
      ]
     },
     "metadata": {},
     "output_type": "display_data"
    }
   ],
   "source": [
    "plot = sns.regplot(y=y_test.values.flatten(), x=y_pred_test.flatten(), line_kws={\"color\": \"r\"})\n",
    "plot.set_xlabel(\"predicted TSN\")\n",
    "plot.set_ylabel(\"true TSN\")\n",
    "plot"
   ]
  },
  {
   "cell_type": "code",
   "execution_count": 453,
   "metadata": {},
   "outputs": [
    {
     "name": "stdout",
     "output_type": "stream",
     "text": [
      "Max Error: 4278\n",
      "Root Mean Squared Error: 1073\n",
      "Mean Absolute Error:: 697.6557855129743\n",
      "Accuracy within threshold (697.6557855129743 away): 0.69\n"
     ]
    }
   ],
   "source": [
    "me = max_error(y_test, y_pred_test)\n",
    "me = math.ceil(me)\n",
    "print(\"Max Error:\", me)\n",
    "\n",
    "mse = mean_squared_error(y_test, y_pred_test)\n",
    "rmse = math.sqrt(mse)\n",
    "rmse = math.ceil(rmse)\n",
    "print(\"Root Mean Squared Error:\", rmse)\n",
    "\n",
    "score = mean_absolute_error(y_pred_test, y_test)\n",
    "print(\"Mean Absolute Error::\", score)\n",
    "\n",
    "threshold = score\n",
    "\n",
    "accurate_predictions = sum(abs(y_pred_test - y_test) <= threshold)\n",
    "total_predictions = len(y_test)\n",
    "accuracy_within_threshold = accurate_predictions / total_predictions\n",
    "print(\"Accuracy within threshold ({} away): {:.2f}\".format(threshold, accuracy_within_threshold))"
   ]
  },
  {
   "cell_type": "markdown",
   "metadata": {},
   "source": [
    "This model has a high accuracy however the Max error and RMSE is also high which makes this model not sootable with the high errors it has. This means I will need to test another model."
   ]
  },
  {
   "cell_type": "markdown",
   "metadata": {},
   "source": [
    "<span style=\"font-size:30px;\">Model</span>"
   ]
  },
  {
   "cell_type": "markdown",
   "metadata": {},
   "source": [
    "Here I want to use a decision tree model to improve the accuracy and see if it will fit with my data. I went with the Random Forest Regressor model."
   ]
  },
  {
   "cell_type": "code",
   "execution_count": 454,
   "metadata": {},
   "outputs": [
    {
     "name": "stdout",
     "output_type": "stream",
     "text": [
      "Train RMSE: 263.7623137241863\n",
      "Test RMSE: 440.41192776357065\n"
     ]
    },
    {
     "name": "stderr",
     "output_type": "stream",
     "text": [
      "c:\\Python311\\Lib\\site-packages\\sklearn\\metrics\\_regression.py:483: FutureWarning: 'squared' is deprecated in version 1.4 and will be removed in 1.6. To calculate the root mean squared error, use the function'root_mean_squared_error'.\n",
      "  warnings.warn(\n",
      "c:\\Python311\\Lib\\site-packages\\sklearn\\metrics\\_regression.py:483: FutureWarning: 'squared' is deprecated in version 1.4 and will be removed in 1.6. To calculate the root mean squared error, use the function'root_mean_squared_error'.\n",
      "  warnings.warn(\n"
     ]
    }
   ],
   "source": [
    "# Load the data\n",
    "data = merged_tables.copy()\n",
    "\n",
    "# Separate features and target variable\n",
    "X = data.drop(['Serial Number', 'TSN Component (Off)(hours)', 'Type'], axis=1)\n",
    "y = data['TSN Component (Off)(hours)']\n",
    "\n",
    "# Split data into train and test sets\n",
    "X_train, X_test, y_train, y_test = train_test_split(X, y, test_size=0.2)\n",
    "\n",
    "# Initialize and train Random Forest Regressor model\n",
    "rf_regressor = RandomForestRegressor(random_state=42)\n",
    "rf_regressor.fit(X_train, y_train)\n",
    "\n",
    "# Predictions\n",
    "y_pred_train = rf_regressor.predict(X_train)\n",
    "y_pred_test = rf_regressor.predict(X_test)\n",
    "\n",
    "# Evaluate the model\n",
    "train_rmse = mean_squared_error(y_train, y_pred_train, squared=False)\n",
    "test_rmse = mean_squared_error(y_test, y_pred_test, squared=False)\n",
    "\n",
    "print(\"Train RMSE:\", train_rmse)\n",
    "print(\"Test RMSE:\", test_rmse)\n"
   ]
  },
  {
   "cell_type": "markdown",
   "metadata": {},
   "source": [
    "<span style=\"font-size:30px;\">Evaluation</span>"
   ]
  },
  {
   "cell_type": "code",
   "execution_count": 455,
   "metadata": {},
   "outputs": [
    {
     "data": {
      "text/html": [
       "<div>\n",
       "<style scoped>\n",
       "    .dataframe tbody tr th:only-of-type {\n",
       "        vertical-align: middle;\n",
       "    }\n",
       "\n",
       "    .dataframe tbody tr th {\n",
       "        vertical-align: top;\n",
       "    }\n",
       "\n",
       "    .dataframe thead th {\n",
       "        text-align: right;\n",
       "    }\n",
       "</style>\n",
       "<table border=\"1\" class=\"dataframe\">\n",
       "  <thead>\n",
       "    <tr style=\"text-align: right;\">\n",
       "      <th></th>\n",
       "      <th>truth</th>\n",
       "      <th>prediction</th>\n",
       "      <th>error</th>\n",
       "    </tr>\n",
       "  </thead>\n",
       "  <tbody>\n",
       "    <tr>\n",
       "      <th>638</th>\n",
       "      <td>351.70</td>\n",
       "      <td>676.764400</td>\n",
       "      <td>325</td>\n",
       "    </tr>\n",
       "    <tr>\n",
       "      <th>402</th>\n",
       "      <td>406.58</td>\n",
       "      <td>493.632900</td>\n",
       "      <td>87</td>\n",
       "    </tr>\n",
       "    <tr>\n",
       "      <th>623</th>\n",
       "      <td>589.30</td>\n",
       "      <td>707.226500</td>\n",
       "      <td>117</td>\n",
       "    </tr>\n",
       "    <tr>\n",
       "      <th>631</th>\n",
       "      <td>1827.80</td>\n",
       "      <td>1701.782733</td>\n",
       "      <td>126</td>\n",
       "    </tr>\n",
       "    <tr>\n",
       "      <th>153</th>\n",
       "      <td>149.80</td>\n",
       "      <td>164.890000</td>\n",
       "      <td>15</td>\n",
       "    </tr>\n",
       "    <tr>\n",
       "      <th>...</th>\n",
       "      <td>...</td>\n",
       "      <td>...</td>\n",
       "      <td>...</td>\n",
       "    </tr>\n",
       "    <tr>\n",
       "      <th>177</th>\n",
       "      <td>671.60</td>\n",
       "      <td>768.780000</td>\n",
       "      <td>97</td>\n",
       "    </tr>\n",
       "    <tr>\n",
       "      <th>80</th>\n",
       "      <td>1349.80</td>\n",
       "      <td>1325.952000</td>\n",
       "      <td>23</td>\n",
       "    </tr>\n",
       "    <tr>\n",
       "      <th>315</th>\n",
       "      <td>1384.10</td>\n",
       "      <td>397.505802</td>\n",
       "      <td>986</td>\n",
       "    </tr>\n",
       "    <tr>\n",
       "      <th>494</th>\n",
       "      <td>294.22</td>\n",
       "      <td>378.990463</td>\n",
       "      <td>84</td>\n",
       "    </tr>\n",
       "    <tr>\n",
       "      <th>593</th>\n",
       "      <td>0.00</td>\n",
       "      <td>359.364600</td>\n",
       "      <td>359</td>\n",
       "    </tr>\n",
       "  </tbody>\n",
       "</table>\n",
       "<p>147 rows × 3 columns</p>\n",
       "</div>"
      ],
      "text/plain": [
       "       truth   prediction  error\n",
       "638   351.70   676.764400    325\n",
       "402   406.58   493.632900     87\n",
       "623   589.30   707.226500    117\n",
       "631  1827.80  1701.782733    126\n",
       "153   149.80   164.890000     15\n",
       "..       ...          ...    ...\n",
       "177   671.60   768.780000     97\n",
       "80   1349.80  1325.952000     23\n",
       "315  1384.10   397.505802    986\n",
       "494   294.22   378.990463     84\n",
       "593     0.00   359.364600    359\n",
       "\n",
       "[147 rows x 3 columns]"
      ]
     },
     "execution_count": 455,
     "metadata": {},
     "output_type": "execute_result"
    }
   ],
   "source": [
    "prediction_overview = pd.DataFrame()\n",
    "prediction_overview[\"truth\"] = y_test\n",
    "prediction_overview[\"prediction\"] = y_pred_test\n",
    "prediction_overview[\"error\"] = abs(prediction_overview[\"truth\"] - prediction_overview[\"prediction\"]).astype(int)\n",
    "prediction_overview"
   ]
  },
  {
   "cell_type": "code",
   "execution_count": 456,
   "metadata": {},
   "outputs": [
    {
     "data": {
      "text/plain": [
       "<Axes: xlabel='predicted TSN', ylabel='true TSN'>"
      ]
     },
     "execution_count": 456,
     "metadata": {},
     "output_type": "execute_result"
    },
    {
     "data": {
      "image/png": "[encoded data removed]",
      "text/plain": [
       "<Figure size 640x480 with 1 Axes>"
      ]
     },
     "metadata": {},
     "output_type": "display_data"
    }
   ],
   "source": [
    "plot = sns.regplot(y=y_test.values.flatten(), x=y_pred_test.flatten(), line_kws={\"color\": \"r\"})\n",
    "plot.set_xlabel(\"predicted TSN\")\n",
    "plot.set_ylabel(\"true TSN\")\n",
    "plot"
   ]
  },
  {
   "cell_type": "code",
   "execution_count": 457,
   "metadata": {},
   "outputs": [
    {
     "name": "stdout",
     "output_type": "stream",
     "text": [
      "Max Error: 2122\n",
      "Root Mean Squared Error: 441\n",
      "Mean Absolute Error:: 273.7380954456695\n",
      "Accuracy within threshold (273.7380954456695 away): 0.67\n"
     ]
    }
   ],
   "source": [
    "me = max_error(y_test, y_pred_test)\n",
    "me = math.ceil(me)\n",
    "print(\"Max Error:\", me)\n",
    "\n",
    "mse = mean_squared_error(y_test, y_pred_test)\n",
    "rmse = math.sqrt(mse)\n",
    "rmse = math.ceil(rmse)\n",
    "print(\"Root Mean Squared Error:\", rmse)\n",
    "\n",
    "score = mean_absolute_error(y_pred_test, y_test)\n",
    "print(\"Mean Absolute Error::\", score)\n",
    "\n",
    "threshold = score\n",
    "\n",
    "accurate_predictions = sum(abs(y_pred_test - y_test) <= threshold)\n",
    "total_predictions = len(y_test)\n",
    "accuracy_within_threshold = accurate_predictions / total_predictions\n",
    "print(\"Accuracy within threshold ({} away): {:.2f}\".format(threshold, accuracy_within_threshold))"
   ]
  },
  {
   "cell_type": "markdown",
   "metadata": {},
   "source": [
    "This is thus far the best model that I have run. The Max Error is one of the lowest that I have gotten thus far. Next the RSME is also really low at around 500. Next the Absolute error that I got is around 300 and the accuracy is at around 0.68. This model Works really well and will most likely be the final model. However I am going to test two more models that I found or looked at."
   ]
  },
  {
   "cell_type": "markdown",
   "metadata": {},
   "source": [
    "<span style=\"font-size:30px;\">Model</span>"
   ]
  },
  {
   "cell_type": "markdown",
   "metadata": {},
   "source": [
    "Here I am using Gradient Boosting to see if it can improve the accuracy better than the Random Forest Regressor."
   ]
  },
  {
   "cell_type": "code",
   "execution_count": 458,
   "metadata": {},
   "outputs": [
    {
     "name": "stdout",
     "output_type": "stream",
     "text": [
      "Train RMSE: 483.5365266171344\n",
      "Test RMSE: 608.1934426845048\n"
     ]
    },
    {
     "name": "stderr",
     "output_type": "stream",
     "text": [
      "c:\\Python311\\Lib\\site-packages\\sklearn\\metrics\\_regression.py:483: FutureWarning: 'squared' is deprecated in version 1.4 and will be removed in 1.6. To calculate the root mean squared error, use the function'root_mean_squared_error'.\n",
      "  warnings.warn(\n",
      "c:\\Python311\\Lib\\site-packages\\sklearn\\metrics\\_regression.py:483: FutureWarning: 'squared' is deprecated in version 1.4 and will be removed in 1.6. To calculate the root mean squared error, use the function'root_mean_squared_error'.\n",
      "  warnings.warn(\n"
     ]
    }
   ],
   "source": [
    "from sklearn.ensemble import GradientBoostingRegressor\n",
    "\n",
    "# Load the data\n",
    "data = merged_tables.copy()\n",
    "\n",
    "# Separate features and target variable\n",
    "X = data.drop(['Serial Number', 'TSN Component (Off)(hours)', 'Type'], axis=1)\n",
    "y = data['TSN Component (Off)(hours)']\n",
    "\n",
    "# Split data into train and test sets\n",
    "X_train, X_test, y_train, y_test = train_test_split(X, y, test_size=0.2)\n",
    "\n",
    "# Initialize and train Gradient Boosting Regressor model\n",
    "gb_regressor = GradientBoostingRegressor(random_state=42)\n",
    "gb_regressor.fit(X_train, y_train)\n",
    "\n",
    "# Predictions\n",
    "y_pred_train = gb_regressor.predict(X_train)\n",
    "y_pred_test = gb_regressor.predict(X_test)\n",
    "\n",
    "# Evaluate the model\n",
    "train_rmse = mean_squared_error(y_train, y_pred_train, squared=False)\n",
    "test_rmse = mean_squared_error(y_test, y_pred_test, squared=False)\n",
    "\n",
    "print(\"Train RMSE:\", train_rmse)\n",
    "print(\"Test RMSE:\", test_rmse)\n"
   ]
  },
  {
   "cell_type": "markdown",
   "metadata": {},
   "source": [
    "<span style=\"font-size:30px;\">Evaluation</span>"
   ]
  },
  {
   "cell_type": "code",
   "execution_count": 459,
   "metadata": {},
   "outputs": [
    {
     "data": {
      "text/html": [
       "<div>\n",
       "<style scoped>\n",
       "    .dataframe tbody tr th:only-of-type {\n",
       "        vertical-align: middle;\n",
       "    }\n",
       "\n",
       "    .dataframe tbody tr th {\n",
       "        vertical-align: top;\n",
       "    }\n",
       "\n",
       "    .dataframe thead th {\n",
       "        text-align: right;\n",
       "    }\n",
       "</style>\n",
       "<table border=\"1\" class=\"dataframe\">\n",
       "  <thead>\n",
       "    <tr style=\"text-align: right;\">\n",
       "      <th></th>\n",
       "      <th>truth</th>\n",
       "      <th>prediction</th>\n",
       "      <th>error</th>\n",
       "    </tr>\n",
       "  </thead>\n",
       "  <tbody>\n",
       "    <tr>\n",
       "      <th>102</th>\n",
       "      <td>0.00</td>\n",
       "      <td>1188.898535</td>\n",
       "      <td>1188</td>\n",
       "    </tr>\n",
       "    <tr>\n",
       "      <th>220</th>\n",
       "      <td>1068.41</td>\n",
       "      <td>1074.821996</td>\n",
       "      <td>6</td>\n",
       "    </tr>\n",
       "    <tr>\n",
       "      <th>718</th>\n",
       "      <td>2338.20</td>\n",
       "      <td>826.735340</td>\n",
       "      <td>1511</td>\n",
       "    </tr>\n",
       "    <tr>\n",
       "      <th>730</th>\n",
       "      <td>1716.60</td>\n",
       "      <td>1966.989746</td>\n",
       "      <td>250</td>\n",
       "    </tr>\n",
       "    <tr>\n",
       "      <th>342</th>\n",
       "      <td>1361.50</td>\n",
       "      <td>1488.847723</td>\n",
       "      <td>127</td>\n",
       "    </tr>\n",
       "    <tr>\n",
       "      <th>...</th>\n",
       "      <td>...</td>\n",
       "      <td>...</td>\n",
       "      <td>...</td>\n",
       "    </tr>\n",
       "    <tr>\n",
       "      <th>556</th>\n",
       "      <td>517.70</td>\n",
       "      <td>691.662685</td>\n",
       "      <td>173</td>\n",
       "    </tr>\n",
       "    <tr>\n",
       "      <th>424</th>\n",
       "      <td>138.30</td>\n",
       "      <td>406.977676</td>\n",
       "      <td>268</td>\n",
       "    </tr>\n",
       "    <tr>\n",
       "      <th>117</th>\n",
       "      <td>1547.96</td>\n",
       "      <td>971.636530</td>\n",
       "      <td>576</td>\n",
       "    </tr>\n",
       "    <tr>\n",
       "      <th>264</th>\n",
       "      <td>1234.71</td>\n",
       "      <td>1232.594405</td>\n",
       "      <td>2</td>\n",
       "    </tr>\n",
       "    <tr>\n",
       "      <th>684</th>\n",
       "      <td>1031.10</td>\n",
       "      <td>758.761832</td>\n",
       "      <td>272</td>\n",
       "    </tr>\n",
       "  </tbody>\n",
       "</table>\n",
       "<p>147 rows × 3 columns</p>\n",
       "</div>"
      ],
      "text/plain": [
       "       truth   prediction  error\n",
       "102     0.00  1188.898535   1188\n",
       "220  1068.41  1074.821996      6\n",
       "718  2338.20   826.735340   1511\n",
       "730  1716.60  1966.989746    250\n",
       "342  1361.50  1488.847723    127\n",
       "..       ...          ...    ...\n",
       "556   517.70   691.662685    173\n",
       "424   138.30   406.977676    268\n",
       "117  1547.96   971.636530    576\n",
       "264  1234.71  1232.594405      2\n",
       "684  1031.10   758.761832    272\n",
       "\n",
       "[147 rows x 3 columns]"
      ]
     },
     "execution_count": 459,
     "metadata": {},
     "output_type": "execute_result"
    }
   ],
   "source": [
    "prediction_overview = pd.DataFrame()\n",
    "prediction_overview[\"truth\"] = y_test\n",
    "prediction_overview[\"prediction\"] = y_pred_test\n",
    "prediction_overview[\"error\"] = abs(prediction_overview[\"truth\"] - prediction_overview[\"prediction\"]).astype(int)\n",
    "prediction_overview"
   ]
  },
  {
   "cell_type": "code",
   "execution_count": 460,
   "metadata": {},
   "outputs": [
    {
     "data": {
      "text/plain": [
       "<Axes: xlabel='predicted TSN', ylabel='true TSN'>"
      ]
     },
     "execution_count": 460,
     "metadata": {},
     "output_type": "execute_result"
    },
    {
     "data": {
      "image/png": "[encoded data removed]",
      "text/plain": [
       "<Figure size 640x480 with 1 Axes>"
      ]
     },
     "metadata": {},
     "output_type": "display_data"
    }
   ],
   "source": [
    "plot = sns.regplot(y=y_test.values.flatten(), x=y_pred_test.flatten(), line_kws={\"color\": \"r\"})\n",
    "plot.set_xlabel(\"predicted TSN\")\n",
    "plot.set_ylabel(\"true TSN\")\n",
    "plot"
   ]
  },
  {
   "cell_type": "code",
   "execution_count": 461,
   "metadata": {},
   "outputs": [
    {
     "name": "stdout",
     "output_type": "stream",
     "text": [
      "Max Error: 2406\n",
      "Root Mean Squared Error: 609\n",
      "Mean Absolute Error:: 429.0339502505573\n",
      "Accuracy within threshold (429.0339502505573 away): 0.64\n"
     ]
    }
   ],
   "source": [
    "me = max_error(y_test, y_pred_test)\n",
    "me = math.ceil(me)\n",
    "print(\"Max Error:\", me)\n",
    "\n",
    "mse = mean_squared_error(y_test, y_pred_test)\n",
    "rmse = math.sqrt(mse)\n",
    "rmse = math.ceil(rmse)\n",
    "print(\"Root Mean Squared Error:\", rmse)\n",
    "\n",
    "score = mean_absolute_error(y_pred_test, y_test)\n",
    "print(\"Mean Absolute Error::\", score)\n",
    "\n",
    "threshold = score\n",
    "\n",
    "accurate_predictions = sum(abs(y_pred_test - y_test) <= threshold)\n",
    "total_predictions = len(y_test)\n",
    "accuracy_within_threshold = accurate_predictions / total_predictions\n",
    "print(\"Accuracy within threshold ({} away): {:.2f}\".format(threshold, accuracy_within_threshold))"
   ]
  },
  {
   "cell_type": "markdown",
   "metadata": {},
   "source": [
    "This model does not do better than the Random Forest Regression model. It has a higher Max error and the RSME is also higher. The accuracy is a lot similar to the RFR model. I will next test my final model to see the performance on it."
   ]
  },
  {
   "cell_type": "markdown",
   "metadata": {},
   "source": [
    "<span style=\"font-size:30px;\">Model</span>"
   ]
  },
  {
   "cell_type": "markdown",
   "metadata": {},
   "source": [
    "Now I will use the MLP model that was also used in another research document to see how it fairs with my data. In the original document the model did not do as well as the linear regression model and I am looking if it might be better for my data."
   ]
  },
  {
   "cell_type": "code",
   "execution_count": 462,
   "metadata": {},
   "outputs": [
    {
     "name": "stdout",
     "output_type": "stream",
     "text": [
      "Train RMSE: 1134.672364847259\n",
      "Test RMSE: 1154.6252836544056\n"
     ]
    },
    {
     "name": "stderr",
     "output_type": "stream",
     "text": [
      "c:\\Python311\\Lib\\site-packages\\sklearn\\neural_network\\_multilayer_perceptron.py:691: ConvergenceWarning: Stochastic Optimizer: Maximum iterations (200) reached and the optimization hasn't converged yet.\n",
      "  warnings.warn(\n",
      "c:\\Python311\\Lib\\site-packages\\sklearn\\metrics\\_regression.py:483: FutureWarning: 'squared' is deprecated in version 1.4 and will be removed in 1.6. To calculate the root mean squared error, use the function'root_mean_squared_error'.\n",
      "  warnings.warn(\n",
      "c:\\Python311\\Lib\\site-packages\\sklearn\\metrics\\_regression.py:483: FutureWarning: 'squared' is deprecated in version 1.4 and will be removed in 1.6. To calculate the root mean squared error, use the function'root_mean_squared_error'.\n",
      "  warnings.warn(\n"
     ]
    }
   ],
   "source": [
    "from sklearn.neural_network import MLPRegressor\n",
    "\n",
    "# Load the data\n",
    "data = merged_tables.copy()\n",
    "\n",
    "# Separate features and target variable\n",
    "X = data.drop(['Serial Number', 'TSN Component (Off)(hours)', 'Type'], axis=1)\n",
    "y = data['TSN Component (Off)(hours)']\n",
    "\n",
    "# Split data into train and test sets\n",
    "X_train, X_test, y_train, y_test = train_test_split(X, y, test_size=0.2, random_state=42)\n",
    "\n",
    "# Initialize and train MLP Regressor model\n",
    "mlp_regressor = MLPRegressor(random_state=42)\n",
    "mlp_regressor.fit(X_train, y_train)\n",
    "\n",
    "# Predictions\n",
    "y_pred_train = mlp_regressor.predict(X_train)\n",
    "y_pred_test = mlp_regressor.predict(X_test)\n",
    "\n",
    "# Evaluate the model\n",
    "train_rmse = mean_squared_error(y_train, y_pred_train, squared=False)\n",
    "test_rmse = mean_squared_error(y_test, y_pred_test, squared=False)\n",
    "\n",
    "print(\"Train RMSE:\", train_rmse)\n",
    "print(\"Test RMSE:\", test_rmse)\n"
   ]
  },
  {
   "cell_type": "markdown",
   "metadata": {},
   "source": [
    "<span style=\"font-size:30px;\">Evaluation</span>"
   ]
  },
  {
   "cell_type": "code",
   "execution_count": 463,
   "metadata": {},
   "outputs": [
    {
     "data": {
      "text/html": [
       "<div>\n",
       "<style scoped>\n",
       "    .dataframe tbody tr th:only-of-type {\n",
       "        vertical-align: middle;\n",
       "    }\n",
       "\n",
       "    .dataframe tbody tr th {\n",
       "        vertical-align: top;\n",
       "    }\n",
       "\n",
       "    .dataframe thead th {\n",
       "        text-align: right;\n",
       "    }\n",
       "</style>\n",
       "<table border=\"1\" class=\"dataframe\">\n",
       "  <thead>\n",
       "    <tr style=\"text-align: right;\">\n",
       "      <th></th>\n",
       "      <th>truth</th>\n",
       "      <th>prediction</th>\n",
       "      <th>error</th>\n",
       "    </tr>\n",
       "  </thead>\n",
       "  <tbody>\n",
       "    <tr>\n",
       "      <th>604</th>\n",
       "      <td>1627.55</td>\n",
       "      <td>448.831695</td>\n",
       "      <td>1178</td>\n",
       "    </tr>\n",
       "    <tr>\n",
       "      <th>33</th>\n",
       "      <td>517.06</td>\n",
       "      <td>953.502503</td>\n",
       "      <td>436</td>\n",
       "    </tr>\n",
       "    <tr>\n",
       "      <th>300</th>\n",
       "      <td>1430.60</td>\n",
       "      <td>330.905768</td>\n",
       "      <td>1099</td>\n",
       "    </tr>\n",
       "    <tr>\n",
       "      <th>457</th>\n",
       "      <td>365.21</td>\n",
       "      <td>731.542948</td>\n",
       "      <td>366</td>\n",
       "    </tr>\n",
       "    <tr>\n",
       "      <th>634</th>\n",
       "      <td>1723.40</td>\n",
       "      <td>257.470364</td>\n",
       "      <td>1465</td>\n",
       "    </tr>\n",
       "    <tr>\n",
       "      <th>...</th>\n",
       "      <td>...</td>\n",
       "      <td>...</td>\n",
       "      <td>...</td>\n",
       "    </tr>\n",
       "    <tr>\n",
       "      <th>70</th>\n",
       "      <td>3924.10</td>\n",
       "      <td>402.778336</td>\n",
       "      <td>3521</td>\n",
       "    </tr>\n",
       "    <tr>\n",
       "      <th>192</th>\n",
       "      <td>928.20</td>\n",
       "      <td>195.948288</td>\n",
       "      <td>732</td>\n",
       "    </tr>\n",
       "    <tr>\n",
       "      <th>328</th>\n",
       "      <td>103.15</td>\n",
       "      <td>273.448623</td>\n",
       "      <td>170</td>\n",
       "    </tr>\n",
       "    <tr>\n",
       "      <th>165</th>\n",
       "      <td>1417.55</td>\n",
       "      <td>281.182982</td>\n",
       "      <td>1136</td>\n",
       "    </tr>\n",
       "    <tr>\n",
       "      <th>135</th>\n",
       "      <td>1480.80</td>\n",
       "      <td>519.028839</td>\n",
       "      <td>961</td>\n",
       "    </tr>\n",
       "  </tbody>\n",
       "</table>\n",
       "<p>147 rows × 3 columns</p>\n",
       "</div>"
      ],
      "text/plain": [
       "       truth  prediction  error\n",
       "604  1627.55  448.831695   1178\n",
       "33    517.06  953.502503    436\n",
       "300  1430.60  330.905768   1099\n",
       "457   365.21  731.542948    366\n",
       "634  1723.40  257.470364   1465\n",
       "..       ...         ...    ...\n",
       "70   3924.10  402.778336   3521\n",
       "192   928.20  195.948288    732\n",
       "328   103.15  273.448623    170\n",
       "165  1417.55  281.182982   1136\n",
       "135  1480.80  519.028839    961\n",
       "\n",
       "[147 rows x 3 columns]"
      ]
     },
     "execution_count": 463,
     "metadata": {},
     "output_type": "execute_result"
    }
   ],
   "source": [
    "prediction_overview = pd.DataFrame()\n",
    "prediction_overview[\"truth\"] = y_test\n",
    "prediction_overview[\"prediction\"] = y_pred_test\n",
    "prediction_overview[\"error\"] = abs(prediction_overview[\"truth\"] - prediction_overview[\"prediction\"]).astype(int)\n",
    "prediction_overview"
   ]
  },
  {
   "cell_type": "code",
   "execution_count": 464,
   "metadata": {},
   "outputs": [
    {
     "data": {
      "text/plain": [
       "<Axes: xlabel='predicted TSN', ylabel='true TSN'>"
      ]
     },
     "execution_count": 464,
     "metadata": {},
     "output_type": "execute_result"
    },
    {
     "data": {
      "image/png": "[encoded data removed]",
      "text/plain": [
       "<Figure size 640x480 with 1 Axes>"
      ]
     },
     "metadata": {},
     "output_type": "display_data"
    }
   ],
   "source": [
    "plot = sns.regplot(y=y_test.values.flatten(), x=y_pred_test.flatten(), line_kws={\"color\": \"r\"})\n",
    "plot.set_xlabel(\"predicted TSN\")\n",
    "plot.set_ylabel(\"true TSN\")\n",
    "plot"
   ]
  },
  {
   "cell_type": "code",
   "execution_count": 465,
   "metadata": {},
   "outputs": [
    {
     "name": "stdout",
     "output_type": "stream",
     "text": [
      "Max Error: 4187\n",
      "Root Mean Squared Error: 1155\n",
      "Mean Absolute Error:: 896.6145362711427\n",
      "Accuracy within threshold (896.6145362711427 away): 0.56\n"
     ]
    }
   ],
   "source": [
    "me = max_error(y_test, y_pred_test)\n",
    "me = math.ceil(me)\n",
    "print(\"Max Error:\", me)\n",
    "\n",
    "mse = mean_squared_error(y_test, y_pred_test)\n",
    "rmse = math.sqrt(mse)\n",
    "rmse = math.ceil(rmse)\n",
    "print(\"Root Mean Squared Error:\", rmse)\n",
    "\n",
    "score = mean_absolute_error(y_pred_test, y_test)\n",
    "print(\"Mean Absolute Error::\", score)\n",
    "\n",
    "threshold = score\n",
    "\n",
    "accurate_predictions = sum(abs(y_pred_test - y_test) <= threshold)\n",
    "total_predictions = len(y_test)\n",
    "accuracy_within_threshold = accurate_predictions / total_predictions\n",
    "print(\"Accuracy within threshold ({} away): {:.2f}\".format(threshold, accuracy_within_threshold))"
   ]
  },
  {
   "cell_type": "markdown",
   "metadata": {},
   "source": [
    "As you can see above the Max error is one of the largest errors I have gotten thus far. The RSME is also larger than the previouse models. Even the Mean absolute error and the accuracy is worse then the forest regressor model. Thus I will not use this model."
   ]
  },
  {
   "cell_type": "markdown",
   "metadata": {},
   "source": [
    "<span style=\"font-size:30px;\">Conclusion</span>"
   ]
  },
  {
   "cell_type": "markdown",
   "metadata": {},
   "source": [
    "out of all the models the random forest regressor does the best with the highest accuracy of around 0.7. This this us the best model out of all the models that I have used. Furthermore the RMSE is the lowest compared to all the other models which also helps with making the prediction a lot better. It also has the lowest max error out of all the tests."
   ]
  },
  {
   "cell_type": "code",
   "execution_count": 466,
   "metadata": {},
   "outputs": [
    {
     "name": "stdout",
     "output_type": "stream",
     "text": [
      "Train RMSE: 236.90339090605522\n",
      "Test RMSE: 576.2950641041507\n"
     ]
    },
    {
     "name": "stderr",
     "output_type": "stream",
     "text": [
      "c:\\Python311\\Lib\\site-packages\\sklearn\\metrics\\_regression.py:483: FutureWarning: 'squared' is deprecated in version 1.4 and will be removed in 1.6. To calculate the root mean squared error, use the function'root_mean_squared_error'.\n",
      "  warnings.warn(\n",
      "c:\\Python311\\Lib\\site-packages\\sklearn\\metrics\\_regression.py:483: FutureWarning: 'squared' is deprecated in version 1.4 and will be removed in 1.6. To calculate the root mean squared error, use the function'root_mean_squared_error'.\n",
      "  warnings.warn(\n"
     ]
    }
   ],
   "source": [
    "data = merged_tables.copy()\n",
    "\n",
    "# Separate features and target variable\n",
    "X = data.drop(['Serial Number', 'TSN Component (Off)(hours)', 'Type'], axis=1)\n",
    "y = data['TSN Component (Off)(hours)']\n",
    "\n",
    "# Split data into train and test sets\n",
    "X_train, X_test, y_train, y_test = train_test_split(X, y, test_size=0.2)\n",
    "\n",
    "# Initialize and train Random Forest Regressor model\n",
    "rf_regressor = RandomForestRegressor(random_state=42)\n",
    "rf_regressor.fit(X_train, y_train)\n",
    "\n",
    "# Predictions\n",
    "y_pred_train = rf_regressor.predict(X_train)\n",
    "y_pred_test = rf_regressor.predict(X_test)\n",
    "\n",
    "# Evaluate the model\n",
    "train_rmse = mean_squared_error(y_train, y_pred_train, squared=False)\n",
    "test_rmse = mean_squared_error(y_test, y_pred_test, squared=False)\n",
    "\n",
    "print(\"Train RMSE:\", train_rmse)\n",
    "print(\"Test RMSE:\", test_rmse)"
   ]
  },
  {
   "cell_type": "markdown",
   "metadata": {},
   "source": [
    "Another great thing about this model is that the RMSE for the test and train data is not far apart. This means that there is low varience in the model and that it performs well with different data. The value is also low which means that it gives much more accurate predictions. Generally speaking a RMSE of 200 would be really bad but with the predictions that I am looking at a value of 200 is not as much."
   ]
  },
  {
   "cell_type": "code",
   "execution_count": 467,
   "metadata": {},
   "outputs": [
    {
     "data": {
      "image/png": "[encoded data removed]",
      "text/plain": [
       "<Figure size 640x480 with 1 Axes>"
      ]
     },
     "metadata": {},
     "output_type": "display_data"
    }
   ],
   "source": [
    "residuals = y_test - y_pred_test\n",
    "\n",
    "sns.residplot(x = y_pred_test, y = residuals, line_kws=dict(color=\"r\"))\n",
    "plt.xlabel('Predicted Values')\n",
    "plt.ylabel('Residuals')\n",
    "plt.title('Residual Plot')\n",
    "plt.show()"
   ]
  },
  {
   "cell_type": "code",
   "execution_count": 468,
   "metadata": {},
   "outputs": [
    {
     "data": {
      "image/png": "[encoded data removed]",
      "text/plain": [
       "<Figure size 640x480 with 1 Axes>"
      ]
     },
     "metadata": {},
     "output_type": "display_data"
    }
   ],
   "source": [
    "sns.histplot(residuals, kde=True)\n",
    "plt.xlabel('Residuals')\n",
    "plt.ylabel('Frequency')\n",
    "plt.title('Histogram of Residuals')\n",
    "plt.show()"
   ]
  },
  {
   "cell_type": "markdown",
   "metadata": {},
   "source": [
    "The above two graphs shows exactly how far the predictions were estimated from the actual value. As it shows majority of the values lie on 0 or really close to 0 this model will suffice. It would be better if it were more accurate however with the lack of data that I had to work with and can use this is the best I can get for the model."
   ]
  },
  {
   "cell_type": "code",
   "execution_count": 469,
   "metadata": {},
   "outputs": [],
   "source": [
    "# Function to calculate the number of days between start and end dates\n",
    "def calculate_days(start_date, end_date):\n",
    "    start = datetime.strptime(start_date, \"%Y-%m-%d\")\n",
    "    end = datetime.strptime(end_date, \"%Y-%m-%d\")\n",
    "    return (end - start).days\n",
    "\n",
    "# Function to take user inputs and calculate the feature\n",
    "def calculate_feature(n):\n",
    "    total_days = 0\n",
    "    for i in range(1, n+1):\n",
    "        start_date = input(f\"Enter start date for interval {i} (YYYY-MM-DD): \")\n",
    "        end_date = input(f\"Enter end date for interval {i} (YYYY-MM-DD): \")\n",
    "        print(\"start date:\", start_date, \"end date:\", end_date)\n",
    "        days = calculate_days(start_date, end_date)\n",
    "        print(f\"Days between {i}: {days}\")\n",
    "        total_days += days\n",
    "    print(\"Total days:\", total_days)\n",
    "    return total_days"
   ]
  },
  {
   "cell_type": "code",
   "execution_count": 470,
   "metadata": {},
   "outputs": [
    {
     "data": {
      "text/html": [
       "<div>\n",
       "<style scoped>\n",
       "    .dataframe tbody tr th:only-of-type {\n",
       "        vertical-align: middle;\n",
       "    }\n",
       "\n",
       "    .dataframe tbody tr th {\n",
       "        vertical-align: top;\n",
       "    }\n",
       "\n",
       "    .dataframe thead th {\n",
       "        text-align: right;\n",
       "    }\n",
       "</style>\n",
       "<table border=\"1\" class=\"dataframe\">\n",
       "  <thead>\n",
       "    <tr style=\"text-align: right;\">\n",
       "      <th></th>\n",
       "      <th>Number Repair</th>\n",
       "      <th>Total Repair Days</th>\n",
       "      <th>Type_numeric</th>\n",
       "    </tr>\n",
       "  </thead>\n",
       "  <tbody>\n",
       "    <tr>\n",
       "      <th>576</th>\n",
       "      <td>3</td>\n",
       "      <td>594</td>\n",
       "      <td>2</td>\n",
       "    </tr>\n",
       "    <tr>\n",
       "      <th>609</th>\n",
       "      <td>2</td>\n",
       "      <td>575</td>\n",
       "      <td>2</td>\n",
       "    </tr>\n",
       "    <tr>\n",
       "      <th>354</th>\n",
       "      <td>1</td>\n",
       "      <td>80</td>\n",
       "      <td>1</td>\n",
       "    </tr>\n",
       "    <tr>\n",
       "      <th>436</th>\n",
       "      <td>1</td>\n",
       "      <td>158</td>\n",
       "      <td>2</td>\n",
       "    </tr>\n",
       "    <tr>\n",
       "      <th>303</th>\n",
       "      <td>3</td>\n",
       "      <td>444</td>\n",
       "      <td>1</td>\n",
       "    </tr>\n",
       "    <tr>\n",
       "      <th>251</th>\n",
       "      <td>3</td>\n",
       "      <td>436</td>\n",
       "      <td>1</td>\n",
       "    </tr>\n",
       "    <tr>\n",
       "      <th>42</th>\n",
       "      <td>7</td>\n",
       "      <td>1287</td>\n",
       "      <td>1</td>\n",
       "    </tr>\n",
       "    <tr>\n",
       "      <th>489</th>\n",
       "      <td>1</td>\n",
       "      <td>223</td>\n",
       "      <td>2</td>\n",
       "    </tr>\n",
       "    <tr>\n",
       "      <th>53</th>\n",
       "      <td>3</td>\n",
       "      <td>403</td>\n",
       "      <td>1</td>\n",
       "    </tr>\n",
       "    <tr>\n",
       "      <th>342</th>\n",
       "      <td>2</td>\n",
       "      <td>261</td>\n",
       "      <td>1</td>\n",
       "    </tr>\n",
       "  </tbody>\n",
       "</table>\n",
       "</div>"
      ],
      "text/plain": [
       "     Number Repair  Total Repair Days  Type_numeric\n",
       "576              3                594             2\n",
       "609              2                575             2\n",
       "354              1                 80             1\n",
       "436              1                158             2\n",
       "303              3                444             1\n",
       "251              3                436             1\n",
       "42               7               1287             1\n",
       "489              1                223             2\n",
       "53               3                403             1\n",
       "342              2                261             1"
      ]
     },
     "execution_count": 470,
     "metadata": {},
     "output_type": "execute_result"
    }
   ],
   "source": [
    "X_train.sample(10)"
   ]
  },
  {
   "cell_type": "code",
   "execution_count": 471,
   "metadata": {},
   "outputs": [],
   "source": [
    "def Part_Type():\n",
    "    part = int(input(\"Enter 1 for Actuator and 2 for Remote IO Concentrator\"))\n",
    "    return part"
   ]
  },
  {
   "cell_type": "code",
   "execution_count": 472,
   "metadata": {},
   "outputs": [
    {
     "name": "stdout",
     "output_type": "stream",
     "text": [
      "Enter values for the following features:\n"
     ]
    },
    {
     "ename": "ValueError",
     "evalue": "invalid literal for int() with base 10: '1.1'",
     "output_type": "error",
     "traceback": [
      "\u001b[1;31m---------------------------------------------------------------------------\u001b[0m",
      "\u001b[1;31mValueError\u001b[0m                                Traceback (most recent call last)",
      "Cell \u001b[1;32mIn[472], line 36\u001b[0m\n\u001b[0;32m     33\u001b[0m     \u001b[38;5;28mprint\u001b[39m(\u001b[38;5;124m\"\u001b[39m\u001b[38;5;124mPredicted Output:\u001b[39m\u001b[38;5;124m\"\u001b[39m, prediction[\u001b[38;5;241m0\u001b[39m])\n\u001b[0;32m     35\u001b[0m \u001b[38;5;66;03m# Example usage\u001b[39;00m\n\u001b[1;32m---> 36\u001b[0m \u001b[43mpredict_output\u001b[49m\u001b[43m(\u001b[49m\u001b[43m)\u001b[49m\n",
      "Cell \u001b[1;32mIn[472], line 8\u001b[0m, in \u001b[0;36mpredict_output\u001b[1;34m()\u001b[0m\n\u001b[0;32m      5\u001b[0m feature_names \u001b[38;5;241m=\u001b[39m [\u001b[38;5;124m'\u001b[39m\u001b[38;5;124mNumber Repair\u001b[39m\u001b[38;5;124m'\u001b[39m, \u001b[38;5;124m'\u001b[39m\u001b[38;5;124mTotal Repair Days\u001b[39m\u001b[38;5;124m'\u001b[39m, \u001b[38;5;124m'\u001b[39m\u001b[38;5;124mType_numeric\u001b[39m\u001b[38;5;124m'\u001b[39m]\n\u001b[0;32m      6\u001b[0m input_data \u001b[38;5;241m=\u001b[39m {}\n\u001b[1;32m----> 8\u001b[0m n \u001b[38;5;241m=\u001b[39m \u001b[38;5;28;43mint\u001b[39;49m\u001b[43m(\u001b[49m\u001b[38;5;28;43minput\u001b[39;49m\u001b[43m(\u001b[49m\u001b[38;5;124;43m\"\u001b[39;49m\u001b[38;5;124;43mEnter the number of intervals: \u001b[39;49m\u001b[38;5;124;43m\"\u001b[39;49m\u001b[43m)\u001b[49m\u001b[43m)\u001b[49m\n\u001b[0;32m      9\u001b[0m \u001b[38;5;28mprint\u001b[39m(\u001b[38;5;124m\"\u001b[39m\u001b[38;5;124mnumber of repairs:\u001b[39m\u001b[38;5;124m\"\u001b[39m, n)\n\u001b[0;32m     10\u001b[0m calcdays \u001b[38;5;241m=\u001b[39m calculate_feature(n)\n",
      "\u001b[1;31mValueError\u001b[0m: invalid literal for int() with base 10: '1.1'"
     ]
    }
   ],
   "source": [
    "def predict_output():\n",
    "    print(\"Enter values for the following features:\")\n",
    "    \n",
    "    # Assuming you know the feature names beforehand\n",
    "    feature_names = ['Number Repair', 'Total Repair Days', 'Type_numeric']\n",
    "    input_data = {}\n",
    "\n",
    "    n = int(input(\"Enter the number of intervals: \"))\n",
    "    print(\"number of repairs:\", n)\n",
    "    calcdays = calculate_feature(n)\n",
    "    parttype = Part_Type()\n",
    "    calcnew = calcdays + int(calcdays/n)\n",
    "    #print(calcnew)\n",
    "    input_data[feature_names[0]] = [n]\n",
    "    input_data[feature_names[1]] = [calcdays]\n",
    "    input_data[feature_names[2]] = [parttype]\n",
    "\n",
    "    next_features= ['Number Repair', 'Total Repair Days', 'Type_numeric']\n",
    "    second_input_data = {}\n",
    "\n",
    "    next_n = n+1\n",
    "    second_input_data[next_features[0]] = [next_n]\n",
    "    second_input_data[next_features[1]] = [calcnew]\n",
    "    second_input_data[next_features[2]] = [parttype]\n",
    "\n",
    "    # Convert input data to DataFrame\n",
    "    input_df = pd.DataFrame(input_data)\n",
    "    input_df2 = pd.DataFrame(second_input_data)\n",
    "    # Make prediction\n",
    "    prediction = rf_regressor.predict(input_df)\n",
    "    prediction2 = rf_regressor.predict(input_df2)\n",
    "    # Display the prediction\n",
    "    print(\"Predicted Output:\", prediction[0])\n",
    "\n",
    "# Example usage\n",
    "predict_output()"
   ]
  }
 ],
 "metadata": {
  "kernelspec": {
   "display_name": "Python 3 (ipykernel)",
   "language": "python",
   "name": "python3"
  },
  "language_info": {
   "codemirror_mode": {
    "name": "ipython",
    "version": 3
   },
   "file_extension": ".py",
   "mimetype": "text/x-python",
   "name": "python",
   "nbconvert_exporter": "python",
   "pygments_lexer": "ipython3",
   "version": "3.11.5"
  }
 },
 "nbformat": 4,
 "nbformat_minor": 4
}
